{
 "cells": [
  {
   "cell_type": "code",
   "execution_count": 1,
   "metadata": {},
   "outputs": [],
   "source": [
    "import lxml\n",
    "import json\n",
    "import copy\n",
    "import string\n",
    "import warnings\n",
    "import numpy as np\n",
    "import pandas as pd\n",
    "from sklearn import svm\n",
    "from sklearn.svm import SVC\n",
    "from bs4 import BeautifulSoup\n",
    "from collections import defaultdict\n",
    "from sklearn.metrics import accuracy_score\n",
    "from sklearn.naive_bayes import MultinomialNB\n",
    "from sklearn.preprocessing import LabelEncoder\n",
    "from sklearn.model_selection import train_test_split\n",
    "from sklearn.feature_extraction.text import CountVectorizer\n",
    "from sklearn.metrics import classification_report, confusion_matrix  \n",
    "from sklearn.feature_extraction.text import TfidfTransformer, TfidfVectorizer\n",
    "\n",
    "import matplotlib.pyplot as plt\n",
    "%matplotlib inline\n",
    "warnings.filterwarnings(\"ignore\")"
   ]
  },
  {
   "cell_type": "code",
   "execution_count": 2,
   "metadata": {},
   "outputs": [],
   "source": [
    "Labels = ['country', 'id', 'title', 'c1', 'c2', 'c3', 'description', 'price', 'type']"
   ]
  },
  {
   "cell_type": "code",
   "execution_count": 3,
   "metadata": {},
   "outputs": [],
   "source": [
    "df = pd.read_csv('data_train.csv',names = Labels)"
   ]
  },
  {
   "cell_type": "code",
   "execution_count": 4,
   "metadata": {},
   "outputs": [
    {
     "name": "stdout",
     "output_type": "stream",
     "text": [
      "LabelEncoder()\n"
     ]
    }
   ],
   "source": [
    "def cleaning_data(df, tfidf_vectorizer, tfidf_vectorizer_train=None):\n",
    "\n",
    "    df.drop(['country','id','price','type'],inplace=True,axis=1)\n",
    "\n",
    "    def replace_all(text, sym=['<ul>', '</ul>', '<li>', '</li>']):\n",
    "        for i in sym:\n",
    "            text = text.replace(i, ' ')\n",
    "\n",
    "        textSec = []\n",
    "        for i in text.split(' '):\n",
    "            textTh = []\n",
    "            for j in i:\n",
    "                textTh.append(j if ord(j) < 128 else ' ')\n",
    "            textTh = ''.join(textTh).strip().split(' ')\n",
    "\n",
    "            for t in textTh:\n",
    "                if t != '':\n",
    "                    textSec.append(t)\n",
    "\n",
    "        return ' '.join(textSec)\n",
    "\n",
    "    def remove_puncs(text):\n",
    "        punctuations = '''!()–+=-[]{};:'\"\\,<>./?@#$%^&*_~'''\n",
    "        no_punct = \"\"\n",
    "        for char in text:\n",
    "            if char not in punctuations:\n",
    "                no_punct += char\n",
    "\n",
    "        return no_punct\n",
    "\n",
    "    def PreProcess(df, cols=['title','description']):\n",
    "        for col in cols:\n",
    "            df[col].fillna('', inplace=True)\n",
    "            df[col] = df[col].apply(lambda x: replace_all(x))\n",
    "            if col == 'description':\n",
    "                df[col] = df[col].apply(lambda x: BeautifulSoup(x, \"html.parser\").text)\n",
    "            df[col] = df[col].apply(lambda x: remove_puncs(x))\n",
    "\n",
    "    PreProcess(df)\n",
    "\n",
    "    df['c3'] = df['c3'].astype(str)\n",
    "\n",
    "    Y1 = df['c1']\n",
    "#     y1_le = LabelEncoder()\n",
    "#     Y1 = y1_le.fit_transform(Y1)\n",
    "    \n",
    "#     print(y1_le)\n",
    "\n",
    "    Y2 = df['c2']\n",
    "    Y2 = LabelEncoder().fit_transform(Y2)\n",
    "\n",
    "    Y3 = df['c3']\n",
    "    Y3 = LabelEncoder().fit_transform(Y3)\n",
    "\n",
    "    X = df.drop(['c1','c2','c3'],axis=1)\n",
    "\n",
    "    X = X['title'] +' '+ X['description']\n",
    "    \n",
    "    X_tfidf = tfidf_vectorizer.fit_transform(X)\n",
    "    \n",
    "    if tfidf_vectorizer_train:\n",
    "    \n",
    "        corpus_vocabulary = defaultdict(None, copy.deepcopy(tfidf_vectorizer_train.vocabulary_))\n",
    "        corpus_vocabulary.default_factory = corpus_vocabulary.__len__\n",
    "    \n",
    "        for word in tfidf_vectorizer.vocabulary_.keys():\n",
    "            if word in tfidf_vectorizer_train.vocabulary_:\n",
    "                corpus_vocabulary[word]\n",
    "                \n",
    "        tfidf_vectorizer = TfidfVectorizer(vocabulary=corpus_vocabulary)\n",
    "        X_tfidf = tfidf_vectorizer.fit_transform(X)\n",
    "    \n",
    "    return X_tfidf, Y1, Y2, Y3\n",
    "    \n",
    "# c_vec = CountVectorizer()\n",
    "tfidf_vectorizer = TfidfVectorizer()\n",
    "\n",
    "# X_train_tfidf, Y1, Y2, Y3 = cleaning_data(df, c_vec, tfidf_transformer)\n",
    "X_train_tfidf, Y1, Y2, Y3 = cleaning_data(df, tfidf_vectorizer)"
   ]
  },
  {
   "cell_type": "code",
   "execution_count": 5,
   "metadata": {},
   "outputs": [
    {
     "data": {
      "text/plain": [
       "1197340"
      ]
     },
     "execution_count": 5,
     "metadata": {},
     "output_type": "execute_result"
    }
   ],
   "source": [
    "X_train_tfidf.size"
   ]
  },
  {
   "cell_type": "markdown",
   "metadata": {},
   "source": [
    "# For Catergory 1"
   ]
  },
  {
   "cell_type": "code",
   "execution_count": 6,
   "metadata": {},
   "outputs": [],
   "source": [
    "X_train, X_test, y_train, y_test = train_test_split(X_train_tfidf, Y1, test_size=0.3, random_state=42)\n",
    "clf_svm_cat_one = svm.LinearSVC().fit(X_train, y_train)"
   ]
  },
  {
   "cell_type": "code",
   "execution_count": 7,
   "metadata": {},
   "outputs": [],
   "source": [
    "y_pred_one = clf_svm_cat_one.predict(X_test)"
   ]
  },
  {
   "cell_type": "code",
   "execution_count": 8,
   "metadata": {},
   "outputs": [
    {
     "data": {
      "text/plain": [
       "(array([8, 0, 8, ..., 8, 6, 3]), array([8, 0, 4, ..., 8, 6, 3]))"
      ]
     },
     "execution_count": 8,
     "metadata": {},
     "output_type": "execute_result"
    }
   ],
   "source": [
    "y_pred_one, y_test"
   ]
  },
  {
   "cell_type": "code",
   "execution_count": 9,
   "metadata": {},
   "outputs": [
    {
     "data": {
      "text/plain": [
       "0.9382636655948553"
      ]
     },
     "execution_count": 9,
     "metadata": {},
     "output_type": "execute_result"
    }
   ],
   "source": [
    "accuracy_score(y_test, y_pred_one)"
   ]
  },
  {
   "cell_type": "code",
   "execution_count": 10,
   "metadata": {},
   "outputs": [
    {
     "name": "stdout",
     "output_type": "stream",
     "text": [
      "              precision    recall  f1-score   support\n",
      "\n",
      "           0       0.94      0.93      0.93       610\n",
      "           1       0.93      0.90      0.91       897\n",
      "           2       0.97      0.97      0.97      1756\n",
      "           3       0.95      0.95      0.95      1144\n",
      "           4       0.90      0.91      0.91      1847\n",
      "           5       0.92      0.88      0.90       452\n",
      "           6       0.95      0.97      0.96      2139\n",
      "           7       0.87      0.87      0.87       733\n",
      "           8       0.96      0.96      0.96      1307\n",
      "\n",
      "    accuracy                           0.94     10885\n",
      "   macro avg       0.93      0.93      0.93     10885\n",
      "weighted avg       0.94      0.94      0.94     10885\n",
      "\n"
     ]
    }
   ],
   "source": [
    "print(classification_report(y_test, y_pred_one))"
   ]
  },
  {
   "cell_type": "markdown",
   "metadata": {},
   "source": [
    "# For Catergory 2"
   ]
  },
  {
   "cell_type": "code",
   "execution_count": 11,
   "metadata": {},
   "outputs": [],
   "source": [
    "X_train, X_test, y_train, y_test = train_test_split(X_train_tfidf, Y2, test_size=0.3, random_state=42)\n",
    "clf_svm = svm.LinearSVC().fit(X_train, y_train)"
   ]
  },
  {
   "cell_type": "code",
   "execution_count": 12,
   "metadata": {},
   "outputs": [],
   "source": [
    "y_pred = clf_svm.predict(X_test)"
   ]
  },
  {
   "cell_type": "code",
   "execution_count": 13,
   "metadata": {},
   "outputs": [
    {
     "data": {
      "text/plain": [
       "0.8741387230133211"
      ]
     },
     "execution_count": 13,
     "metadata": {},
     "output_type": "execute_result"
    }
   ],
   "source": [
    "accuracy_score(y_test, y_pred)"
   ]
  },
  {
   "cell_type": "code",
   "execution_count": 14,
   "metadata": {},
   "outputs": [
    {
     "name": "stdout",
     "output_type": "stream",
     "text": [
      "              precision    recall  f1-score   support\n",
      "\n",
      "           0       0.93      0.97      0.95      2027\n",
      "           1       0.84      0.84      0.84       343\n",
      "           2       0.77      0.72      0.74        68\n",
      "           3       0.69      0.59      0.64        95\n",
      "           4       0.76      0.62      0.68       119\n",
      "           5       0.92      0.93      0.93       104\n",
      "           6       0.78      0.39      0.52        18\n",
      "           7       0.82      0.86      0.84       223\n",
      "           8       0.86      0.83      0.85       449\n",
      "           9       0.94      0.91      0.93        34\n",
      "          10       0.90      0.90      0.90       106\n",
      "          11       0.80      0.60      0.69        20\n",
      "          12       1.00      0.50      0.67        34\n",
      "          13       0.78      0.78      0.78        23\n",
      "          14       0.95      0.99      0.97       147\n",
      "          15       0.88      0.95      0.91       119\n",
      "          16       0.94      0.96      0.95        95\n",
      "          17       0.79      0.78      0.79       125\n",
      "          18       0.93      0.93      0.93        41\n",
      "          19       0.92      0.97      0.94       156\n",
      "          20       0.82      0.75      0.78        72\n",
      "          21       0.88      0.90      0.89        42\n",
      "          22       0.81      0.47      0.60        36\n",
      "          23       0.88      0.89      0.89       126\n",
      "          24       0.87      0.86      0.87       376\n",
      "          25       0.71      0.65      0.68       376\n",
      "          26       0.78      0.86      0.82        21\n",
      "          27       0.92      0.93      0.93       529\n",
      "          28       0.79      0.82      0.80       309\n",
      "          29       0.81      0.84      0.82        69\n",
      "          30       0.95      0.93      0.94        94\n",
      "          31       0.89      0.75      0.81        99\n",
      "          32       0.87      0.88      0.87       168\n",
      "          33       0.91      0.93      0.92       256\n",
      "          34       0.68      0.69      0.69        68\n",
      "          35       0.89      0.83      0.86       483\n",
      "          36       0.77      0.43      0.55        63\n",
      "          37       0.89      0.53      0.67        15\n",
      "          38       0.89      0.92      0.90        92\n",
      "          39       0.86      0.68      0.76        53\n",
      "          40       0.76      0.55      0.64        58\n",
      "          41       1.00      0.75      0.86        36\n",
      "          42       0.82      0.70      0.76        20\n",
      "          43       0.94      0.93      0.94        70\n",
      "          44       0.69      0.84      0.75       167\n",
      "          45       0.85      0.84      0.85       189\n",
      "          46       0.79      0.67      0.72       159\n",
      "          47       0.92      0.95      0.93       188\n",
      "          48       0.67      0.71      0.69       104\n",
      "          49       0.64      0.45      0.53        55\n",
      "          50       0.82      0.45      0.58        20\n",
      "          51       0.89      0.92      0.91        26\n",
      "          52       0.76      0.89      0.82        46\n",
      "          53       0.87      0.87      0.87        54\n",
      "          54       0.98      0.98      0.98       631\n",
      "          55       0.92      0.89      0.91       150\n",
      "          56       0.87      0.94      0.90      1219\n",
      "\n",
      "    accuracy                           0.87     10885\n",
      "   macro avg       0.85      0.79      0.81     10885\n",
      "weighted avg       0.87      0.87      0.87     10885\n",
      "\n"
     ]
    }
   ],
   "source": [
    "print(classification_report(y_test,y_pred))"
   ]
  },
  {
   "cell_type": "markdown",
   "metadata": {},
   "source": [
    "# For Catergory 3"
   ]
  },
  {
   "cell_type": "code",
   "execution_count": 23,
   "metadata": {},
   "outputs": [
    {
     "ename": "ValueError",
     "evalue": "Found input variables with inconsistent numbers of samples: [36283, 11838]",
     "output_type": "error",
     "traceback": [
      "\u001b[1;31m---------------------------------------------------------------------------\u001b[0m",
      "\u001b[1;31mValueError\u001b[0m                                Traceback (most recent call last)",
      "\u001b[1;32m<ipython-input-23-342c031b230a>\u001b[0m in \u001b[0;36m<module>\u001b[1;34m\u001b[0m\n\u001b[1;32m----> 1\u001b[1;33m \u001b[0mX_train\u001b[0m\u001b[1;33m,\u001b[0m \u001b[0mX_test\u001b[0m\u001b[1;33m,\u001b[0m \u001b[0my_train\u001b[0m\u001b[1;33m,\u001b[0m \u001b[0my_test\u001b[0m \u001b[1;33m=\u001b[0m \u001b[0mtrain_test_split\u001b[0m\u001b[1;33m(\u001b[0m\u001b[0mX_train_tfidf\u001b[0m\u001b[1;33m,\u001b[0m \u001b[0mY3\u001b[0m\u001b[1;33m,\u001b[0m \u001b[0mtest_size\u001b[0m\u001b[1;33m=\u001b[0m\u001b[1;36m0.3\u001b[0m\u001b[1;33m,\u001b[0m \u001b[0mrandom_state\u001b[0m\u001b[1;33m=\u001b[0m\u001b[1;36m42\u001b[0m\u001b[1;33m)\u001b[0m\u001b[1;33m\u001b[0m\u001b[1;33m\u001b[0m\u001b[0m\n\u001b[0m\u001b[0;32m      2\u001b[0m \u001b[0mclf_svm\u001b[0m \u001b[1;33m=\u001b[0m \u001b[0msvm\u001b[0m\u001b[1;33m.\u001b[0m\u001b[0mLinearSVC\u001b[0m\u001b[1;33m(\u001b[0m\u001b[1;33m)\u001b[0m\u001b[1;33m.\u001b[0m\u001b[0mfit\u001b[0m\u001b[1;33m(\u001b[0m\u001b[0mX_train\u001b[0m\u001b[1;33m,\u001b[0m \u001b[0my_train\u001b[0m\u001b[1;33m)\u001b[0m\u001b[1;33m\u001b[0m\u001b[1;33m\u001b[0m\u001b[0m\n",
      "\u001b[1;32m~\\AppData\\Roaming\\Python\\Python38\\site-packages\\sklearn\\model_selection\\_split.py\u001b[0m in \u001b[0;36mtrain_test_split\u001b[1;34m(*arrays, **options)\u001b[0m\n\u001b[0;32m   2125\u001b[0m         \u001b[1;32mraise\u001b[0m \u001b[0mTypeError\u001b[0m\u001b[1;33m(\u001b[0m\u001b[1;34m\"Invalid parameters passed: %s\"\u001b[0m \u001b[1;33m%\u001b[0m \u001b[0mstr\u001b[0m\u001b[1;33m(\u001b[0m\u001b[0moptions\u001b[0m\u001b[1;33m)\u001b[0m\u001b[1;33m)\u001b[0m\u001b[1;33m\u001b[0m\u001b[1;33m\u001b[0m\u001b[0m\n\u001b[0;32m   2126\u001b[0m \u001b[1;33m\u001b[0m\u001b[0m\n\u001b[1;32m-> 2127\u001b[1;33m     \u001b[0marrays\u001b[0m \u001b[1;33m=\u001b[0m \u001b[0mindexable\u001b[0m\u001b[1;33m(\u001b[0m\u001b[1;33m*\u001b[0m\u001b[0marrays\u001b[0m\u001b[1;33m)\u001b[0m\u001b[1;33m\u001b[0m\u001b[1;33m\u001b[0m\u001b[0m\n\u001b[0m\u001b[0;32m   2128\u001b[0m \u001b[1;33m\u001b[0m\u001b[0m\n\u001b[0;32m   2129\u001b[0m     \u001b[0mn_samples\u001b[0m \u001b[1;33m=\u001b[0m \u001b[0m_num_samples\u001b[0m\u001b[1;33m(\u001b[0m\u001b[0marrays\u001b[0m\u001b[1;33m[\u001b[0m\u001b[1;36m0\u001b[0m\u001b[1;33m]\u001b[0m\u001b[1;33m)\u001b[0m\u001b[1;33m\u001b[0m\u001b[1;33m\u001b[0m\u001b[0m\n",
      "\u001b[1;32m~\\AppData\\Roaming\\Python\\Python38\\site-packages\\sklearn\\utils\\validation.py\u001b[0m in \u001b[0;36mindexable\u001b[1;34m(*iterables)\u001b[0m\n\u001b[0;32m    291\u001b[0m     \"\"\"\n\u001b[0;32m    292\u001b[0m     \u001b[0mresult\u001b[0m \u001b[1;33m=\u001b[0m \u001b[1;33m[\u001b[0m\u001b[0m_make_indexable\u001b[0m\u001b[1;33m(\u001b[0m\u001b[0mX\u001b[0m\u001b[1;33m)\u001b[0m \u001b[1;32mfor\u001b[0m \u001b[0mX\u001b[0m \u001b[1;32min\u001b[0m \u001b[0miterables\u001b[0m\u001b[1;33m]\u001b[0m\u001b[1;33m\u001b[0m\u001b[1;33m\u001b[0m\u001b[0m\n\u001b[1;32m--> 293\u001b[1;33m     \u001b[0mcheck_consistent_length\u001b[0m\u001b[1;33m(\u001b[0m\u001b[1;33m*\u001b[0m\u001b[0mresult\u001b[0m\u001b[1;33m)\u001b[0m\u001b[1;33m\u001b[0m\u001b[1;33m\u001b[0m\u001b[0m\n\u001b[0m\u001b[0;32m    294\u001b[0m     \u001b[1;32mreturn\u001b[0m \u001b[0mresult\u001b[0m\u001b[1;33m\u001b[0m\u001b[1;33m\u001b[0m\u001b[0m\n\u001b[0;32m    295\u001b[0m \u001b[1;33m\u001b[0m\u001b[0m\n",
      "\u001b[1;32m~\\AppData\\Roaming\\Python\\Python38\\site-packages\\sklearn\\utils\\validation.py\u001b[0m in \u001b[0;36mcheck_consistent_length\u001b[1;34m(*arrays)\u001b[0m\n\u001b[0;32m    254\u001b[0m     \u001b[0muniques\u001b[0m \u001b[1;33m=\u001b[0m \u001b[0mnp\u001b[0m\u001b[1;33m.\u001b[0m\u001b[0munique\u001b[0m\u001b[1;33m(\u001b[0m\u001b[0mlengths\u001b[0m\u001b[1;33m)\u001b[0m\u001b[1;33m\u001b[0m\u001b[1;33m\u001b[0m\u001b[0m\n\u001b[0;32m    255\u001b[0m     \u001b[1;32mif\u001b[0m \u001b[0mlen\u001b[0m\u001b[1;33m(\u001b[0m\u001b[0muniques\u001b[0m\u001b[1;33m)\u001b[0m \u001b[1;33m>\u001b[0m \u001b[1;36m1\u001b[0m\u001b[1;33m:\u001b[0m\u001b[1;33m\u001b[0m\u001b[1;33m\u001b[0m\u001b[0m\n\u001b[1;32m--> 256\u001b[1;33m         raise ValueError(\"Found input variables with inconsistent numbers of\"\n\u001b[0m\u001b[0;32m    257\u001b[0m                          \" samples: %r\" % [int(l) for l in lengths])\n\u001b[0;32m    258\u001b[0m \u001b[1;33m\u001b[0m\u001b[0m\n",
      "\u001b[1;31mValueError\u001b[0m: Found input variables with inconsistent numbers of samples: [36283, 11838]"
     ]
    }
   ],
   "source": [
    "X_train, X_test, y_train, y_test = train_test_split(X_train_tfidf, Y3, test_size=0.3, random_state=42)\n",
    "clf_svm = svm.LinearSVC().fit(X_train, y_train)"
   ]
  },
  {
   "cell_type": "code",
   "execution_count": 16,
   "metadata": {},
   "outputs": [
    {
     "name": "stdout",
     "output_type": "stream",
     "text": [
      "[179 184 179 ... 106 184  41]\n"
     ]
    }
   ],
   "source": [
    "y_pred = clf_svm.predict(X_test)"
   ]
  },
  {
   "cell_type": "code",
   "execution_count": 17,
   "metadata": {},
   "outputs": [
    {
     "data": {
      "text/plain": [
       "0.7841065686724851"
      ]
     },
     "execution_count": 17,
     "metadata": {},
     "output_type": "execute_result"
    }
   ],
   "source": [
    "accuracy_score(y_test, y_pred)"
   ]
  },
  {
   "cell_type": "code",
   "execution_count": 18,
   "metadata": {},
   "outputs": [
    {
     "name": "stdout",
     "output_type": "stream",
     "text": [
      "              precision    recall  f1-score   support\n",
      "\n",
      "           0       0.41      0.50      0.45        14\n",
      "           1       0.79      0.83      0.81       170\n",
      "           2       0.67      0.72      0.69        25\n",
      "           3       0.32      0.41      0.36        27\n",
      "           4       0.95      1.00      0.98        20\n",
      "           5       0.77      0.87      0.82        23\n",
      "           6       0.40      0.24      0.30        17\n",
      "           7       0.60      0.35      0.44        17\n",
      "           8       0.65      0.48      0.55        46\n",
      "           9       0.90      0.95      0.92       271\n",
      "          10       0.69      0.74      0.72        46\n",
      "          11       0.67      0.38      0.48        16\n",
      "          12       0.75      0.69      0.72        35\n",
      "          13       0.71      0.50      0.59        20\n",
      "          14       0.71      0.62      0.66       137\n",
      "          15       0.91      0.85      0.88       113\n",
      "          16       0.60      0.43      0.50        28\n",
      "          17       0.97      0.94      0.95        33\n",
      "          18       0.80      0.63      0.71        19\n",
      "          19       0.65      0.68      0.67        22\n",
      "          20       0.67      0.73      0.70        22\n",
      "          21       0.64      0.68      0.66        31\n",
      "          22       0.60      0.72      0.65        25\n",
      "          23       0.43      0.10      0.16        30\n",
      "          24       0.41      0.49      0.44       109\n",
      "          25       0.57      0.59      0.58        34\n",
      "          26       0.74      0.77      0.75        64\n",
      "          27       0.95      0.98      0.96        41\n",
      "          28       0.23      0.21      0.22        57\n",
      "          29       0.81      0.91      0.86        46\n",
      "          30       0.41      0.37      0.39        30\n",
      "          31       0.93      0.96      0.94       799\n",
      "          32       0.59      0.87      0.70        15\n",
      "          33       0.86      0.52      0.65        23\n",
      "          34       0.91      0.80      0.85        25\n",
      "          35       0.75      0.83      0.79        18\n",
      "          36       1.00      0.92      0.96        13\n",
      "          37       0.83      0.75      0.79        20\n",
      "          38       0.87      0.92      0.89        37\n",
      "          39       0.83      0.56      0.67        34\n",
      "          40       0.63      0.57      0.60        21\n",
      "          41       0.38      0.16      0.22        19\n",
      "          42       0.83      0.93      0.88        27\n",
      "          43       0.52      0.44      0.48        55\n",
      "          44       0.93      0.96      0.95        28\n",
      "          45       0.81      0.84      0.83        31\n",
      "          46       0.71      0.85      0.77        26\n",
      "          47       0.77      0.72      0.74        50\n",
      "          48       0.58      0.70      0.63        27\n",
      "          49       0.88      0.86      0.87        44\n",
      "          50       0.78      0.79      0.78        78\n",
      "          51       0.71      0.53      0.61        19\n",
      "          52       0.76      0.87      0.81        30\n",
      "          53       0.85      1.00      0.92        11\n",
      "          54       0.82      0.75      0.78        12\n",
      "          55       0.29      0.08      0.13        48\n",
      "          56       0.71      0.42      0.53        12\n",
      "          57       0.62      0.60      0.61        47\n",
      "          58       0.88      0.78      0.82        18\n",
      "          59       0.73      0.92      0.81        12\n",
      "          60       0.88      0.93      0.90        15\n",
      "          61       0.82      0.79      0.80        42\n",
      "          62       0.50      0.50      0.50        16\n",
      "          63       0.68      0.62      0.65        21\n",
      "          64       0.81      0.73      0.77        30\n",
      "          65       0.74      0.80      0.77        25\n",
      "          66       0.65      0.58      0.61        19\n",
      "          67       0.69      0.42      0.52        26\n",
      "          68       0.36      0.32      0.34        50\n",
      "          69       0.44      0.33      0.38        33\n",
      "          70       0.87      0.92      0.89       157\n",
      "          71       0.46      0.33      0.39        18\n",
      "          72       0.88      0.88      0.88        17\n",
      "          73       0.36      0.24      0.29        50\n",
      "          74       0.64      0.55      0.59        33\n",
      "          75       0.89      0.94      0.91        17\n",
      "          76       0.67      0.49      0.56        49\n",
      "          77       0.45      0.56      0.50         9\n",
      "          78       0.77      0.84      0.80        43\n",
      "          79       0.82      0.72      0.77        25\n",
      "          80       0.87      0.76      0.81        17\n",
      "          81       0.87      0.87      0.87        15\n",
      "          82       0.80      0.86      0.83        51\n",
      "          83       0.88      0.39      0.55        38\n",
      "          84       0.38      0.22      0.28        23\n",
      "          85       0.81      0.68      0.74        37\n",
      "          86       0.53      0.71      0.61        55\n",
      "          87       0.55      0.52      0.53        88\n",
      "          88       0.80      0.80      0.80        15\n",
      "          89       0.81      0.62      0.70        21\n",
      "          90       0.72      0.64      0.68        53\n",
      "          91       0.79      0.69      0.73        32\n",
      "          92       0.75      0.69      0.72        70\n",
      "          93       0.80      0.84      0.82       101\n",
      "          94       0.90      0.95      0.92        39\n",
      "          95       0.66      0.64      0.65        33\n",
      "          96       0.62      0.68      0.65        31\n",
      "          97       0.70      0.82      0.76        34\n",
      "          98       0.91      0.56      0.69        18\n",
      "          99       0.78      0.80      0.79        71\n",
      "         100       0.33      0.18      0.24        11\n",
      "         101       0.88      0.88      0.88        16\n",
      "         102       0.64      0.81      0.71        26\n",
      "         103       0.72      0.82      0.77        22\n",
      "         104       0.67      0.44      0.53         9\n",
      "         105       0.71      0.83      0.77        36\n",
      "         106       0.80      0.77      0.78       463\n",
      "         107       0.79      0.83      0.81        23\n",
      "         108       0.83      0.93      0.88        43\n",
      "         109       0.73      0.80      0.76        20\n",
      "         110       0.56      0.45      0.50        20\n",
      "         111       0.50      0.53      0.52        43\n",
      "         112       0.97      0.91      0.94        33\n",
      "         113       0.93      0.64      0.76        39\n",
      "         114       0.91      0.98      0.94        59\n",
      "         115       0.62      0.42      0.50        31\n",
      "         116       0.65      0.63      0.64        41\n",
      "         117       1.00      0.81      0.89        36\n",
      "         118       0.72      0.61      0.66       108\n",
      "         119       0.77      0.53      0.62        19\n",
      "         120       0.67      0.44      0.53        18\n",
      "         121       0.52      0.62      0.57        21\n",
      "         122       0.75      0.72      0.73        25\n",
      "         123       0.92      0.85      0.88        13\n",
      "         124       0.73      0.67      0.70        24\n",
      "         125       0.94      0.99      0.97      1208\n",
      "         126       0.82      0.90      0.86        30\n",
      "         127       0.88      0.75      0.81        20\n",
      "         128       0.69      0.55      0.61        40\n",
      "         129       0.70      0.86      0.77        63\n",
      "         130       0.90      0.88      0.89        51\n",
      "         131       0.77      0.54      0.63        37\n",
      "         132       0.74      0.61      0.67        41\n",
      "         133       0.79      0.81      0.80        27\n",
      "         134       0.77      0.96      0.85        24\n",
      "         135       0.94      0.89      0.92        19\n",
      "         136       1.00      0.85      0.92        20\n",
      "         137       0.71      0.91      0.80        22\n",
      "         138       0.87      0.74      0.80        27\n",
      "         139       0.79      0.70      0.74        33\n",
      "         140       0.58      0.42      0.49        52\n",
      "         141       0.59      0.67      0.62        15\n",
      "         142       0.63      0.35      0.45        34\n",
      "         143       0.97      0.93      0.95       122\n",
      "         144       0.90      0.88      0.89        41\n",
      "         145       0.81      0.65      0.72        20\n",
      "         146       0.87      1.00      0.93        13\n",
      "         147       0.82      0.87      0.85        38\n",
      "         148       0.78      0.85      0.81        33\n",
      "         149       0.96      0.97      0.96       241\n",
      "         150       0.74      0.62      0.68        42\n",
      "         151       0.73      0.73      0.73        11\n",
      "         152       0.87      0.78      0.82        69\n",
      "         153       0.69      0.69      0.69        32\n",
      "         154       0.61      0.85      0.71        13\n",
      "         155       0.62      0.62      0.62        13\n",
      "         156       0.67      0.35      0.46        17\n",
      "         157       0.47      0.64      0.54        22\n",
      "         158       0.83      0.89      0.86        54\n",
      "         159       0.67      0.71      0.69        77\n",
      "         160       0.76      0.84      0.80        19\n",
      "         161       0.93      0.95      0.94        74\n",
      "         162       0.62      0.61      0.61        77\n",
      "         163       0.72      0.81      0.76        16\n",
      "         164       0.62      0.73      0.67        33\n",
      "         165       0.62      0.64      0.63        25\n",
      "         166       0.64      0.68      0.66        44\n",
      "         167       0.67      0.95      0.78        21\n",
      "         168       0.85      0.96      0.90        24\n",
      "         169       0.85      0.85      0.85        13\n",
      "         170       0.90      0.97      0.93       152\n",
      "         171       0.91      0.67      0.77        15\n",
      "         172       0.88      0.90      0.89       135\n",
      "         173       1.00      1.00      1.00        13\n",
      "         174       0.90      0.95      0.92        19\n",
      "         175       0.89      0.89      0.89        19\n",
      "         176       0.65      0.71      0.68        21\n",
      "         177       0.68      0.88      0.77        51\n",
      "         178       0.72      0.50      0.59        26\n",
      "         179       0.79      0.88      0.83       806\n",
      "         180       0.76      0.85      0.80        26\n",
      "         181       0.67      0.57      0.62        21\n",
      "         182       0.81      0.68      0.74        25\n",
      "         183       0.80      0.83      0.82        24\n",
      "         184       0.61      0.65      0.63       642\n",
      "\n",
      "    accuracy                           0.78     10885\n",
      "   macro avg       0.73      0.70      0.71     10885\n",
      "weighted avg       0.78      0.78      0.78     10885\n",
      "\n"
     ]
    }
   ],
   "source": [
    "print(classification_report(y_test,y_pred))"
   ]
  },
  {
   "cell_type": "markdown",
   "metadata": {},
   "source": [
    "# Checking Test Data"
   ]
  },
  {
   "cell_type": "code",
   "execution_count": 19,
   "metadata": {},
   "outputs": [],
   "source": [
    "test_df = pd.read_csv('data_test.csv',names = Labels)"
   ]
  },
  {
   "cell_type": "markdown",
   "metadata": {},
   "source": [
    "# For Cat 1"
   ]
  },
  {
   "cell_type": "code",
   "execution_count": 20,
   "metadata": {},
   "outputs": [
    {
     "name": "stdout",
     "output_type": "stream",
     "text": [
      "LabelEncoder()\n"
     ]
    }
   ],
   "source": [
    "tfidf_vectorizer_test = TfidfVectorizer()\n",
    "\n",
    "X_test_tfidf, Y1, Y2, Y3 = cleaning_data(test_df, tfidf_vectorizer_test, tfidf_vectorizer)\n",
    "\n",
    "y_pred_one = clf_svm_cat_one.predict(X_test_tfidf)"
   ]
  },
  {
   "cell_type": "code",
   "execution_count": 21,
   "metadata": {},
   "outputs": [
    {
     "data": {
      "text/plain": [
       "0.935462071295827"
      ]
     },
     "execution_count": 21,
     "metadata": {},
     "output_type": "execute_result"
    }
   ],
   "source": [
    "accuracy_score(Y1, y_pred_one)"
   ]
  },
  {
   "cell_type": "code",
   "execution_count": 22,
   "metadata": {},
   "outputs": [],
   "source": [
    "# ### DEBUG\n",
    "query = 'Leather/Plastic Case for 7\"-8\" Tablet (Pink) with Free 0118 Sports Bottle (Color May Vary) Ammar'\n",
    "\n",
    "def pred_query(query):\n",
    "    \n",
    "    query = remove_puncs(replace_all(query))\n",
    "\n",
    "    corpus_vocabulary = defaultdict(None, copy.deepcopy(tfidf_vectorizer.vocabulary_))\n",
    "    corpus_vocabulary.default_factory = corpus_vocabulary.__len__\n",
    "\n",
    "    tfidf_transformer_query = TfidfVectorizer()\n",
    "    tfidf_transformer_query.fit_transform([query])\n",
    "\n",
    "    for word in tfidf_transformer_query.vocabulary_.keys():\n",
    "        if word in tfidf_vectorizer.vocabulary_:\n",
    "            corpus_vocabulary[word]\n",
    "\n",
    "    tfidf_transformer_query_sec = TfidfVectorizer(vocabulary=corpus_vocabulary)\n",
    "    query_tfidf_matrix = tfidf_transformer_query_sec.fit_transform([query])\n",
    "\n",
    "    return clf_svm.predict(query_tfidf_matrix)"
   ]
  }
 ],
 "metadata": {
  "kernelspec": {
   "display_name": "Python 3",
   "language": "python",
   "name": "python3"
  },
  "language_info": {
   "codemirror_mode": {
    "name": "ipython",
    "version": 3
   },
   "file_extension": ".py",
   "mimetype": "text/x-python",
   "name": "python",
   "nbconvert_exporter": "python",
   "pygments_lexer": "ipython3",
   "version": "3.8.5"
  }
 },
 "nbformat": 4,
 "nbformat_minor": 4
}
