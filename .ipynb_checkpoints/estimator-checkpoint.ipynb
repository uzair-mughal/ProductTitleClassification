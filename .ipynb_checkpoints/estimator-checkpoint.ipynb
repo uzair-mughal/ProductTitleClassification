{
 "cells": [
  {
   "cell_type": "code",
   "execution_count": 1,
   "metadata": {
    "_cell_guid": "b1076dfc-b9ad-4769-8c92-a6c4dae69d19",
    "_uuid": "8f2839f25d086af736a60e9eeb907d3b93b6e0e5",
    "execution": {
     "iopub.execute_input": "2021-05-27T21:58:46.165216Z",
     "iopub.status.busy": "2021-05-27T21:58:46.164752Z",
     "iopub.status.idle": "2021-05-27T21:58:46.374420Z",
     "shell.execute_reply": "2021-05-27T21:58:46.373582Z",
     "shell.execute_reply.started": "2021-05-27T21:58:46.165183Z"
    }
   },
   "outputs": [],
   "source": [
    "import lxml\n",
    "import json\n",
    "import copy\n",
    "import string\n",
    "import warnings\n",
    "import numpy as np\n",
    "import pandas as pd\n",
    "from sklearn import svm\n",
    "from sklearn.svm import SVC\n",
    "from bs4 import BeautifulSoup\n",
    "from collections import defaultdict\n",
    "from sklearn.metrics import accuracy_score\n",
    "from sklearn.model_selection import train_test_split\n",
    "from sklearn.metrics import classification_report, confusion_matrix  \n",
    "from sklearn.feature_extraction.text import TfidfTransformer, TfidfVectorizer\n",
    "from sklearn import decomposition\n",
    "from sklearn.model_selection import GridSearchCV\n",
    "import matplotlib.pyplot as plt\n",
    "%matplotlib inline\n",
    "warnings.filterwarnings(\"ignore\")"
   ]
  },
  {
   "cell_type": "code",
   "execution_count": 2,
   "metadata": {
    "execution": {
     "iopub.execute_input": "2021-05-27T21:58:35.349986Z",
     "iopub.status.busy": "2021-05-27T21:58:35.349640Z",
     "iopub.status.idle": "2021-05-27T21:58:46.163133Z",
     "shell.execute_reply": "2021-05-27T21:58:46.162234Z",
     "shell.execute_reply.started": "2021-05-27T21:58:35.349957Z"
    }
   },
   "outputs": [],
   "source": [
    "# !pip install bs4"
   ]
  },
  {
   "cell_type": "code",
   "execution_count": 3,
   "metadata": {
    "execution": {
     "iopub.execute_input": "2021-05-27T21:58:48.938062Z",
     "iopub.status.busy": "2021-05-27T21:58:48.937696Z",
     "iopub.status.idle": "2021-05-27T21:58:48.942843Z",
     "shell.execute_reply": "2021-05-27T21:58:48.942181Z",
     "shell.execute_reply.started": "2021-05-27T21:58:48.938032Z"
    }
   },
   "outputs": [],
   "source": [
    "Labels = ['country', 'id', 'title', 'c1', 'c2', 'c3', 'description', 'price', 'type']"
   ]
  },
  {
   "cell_type": "code",
   "execution_count": 5,
   "metadata": {
    "execution": {
     "iopub.execute_input": "2021-05-27T21:58:49.338249Z",
     "iopub.status.busy": "2021-05-27T21:58:49.337875Z",
     "iopub.status.idle": "2021-05-27T21:58:49.910423Z",
     "shell.execute_reply": "2021-05-27T21:58:49.909429Z",
     "shell.execute_reply.started": "2021-05-27T21:58:49.338219Z"
    }
   },
   "outputs": [],
   "source": [
    "df = pd.read_csv('data_train.csv',names = Labels)"
   ]
  },
  {
   "cell_type": "code",
   "execution_count": 6,
   "metadata": {
    "execution": {
     "iopub.execute_input": "2021-05-27T21:58:49.912167Z",
     "iopub.status.busy": "2021-05-27T21:58:49.911871Z",
     "iopub.status.idle": "2021-05-27T21:58:49.917713Z",
     "shell.execute_reply": "2021-05-27T21:58:49.917057Z",
     "shell.execute_reply.started": "2021-05-27T21:58:49.912139Z"
    }
   },
   "outputs": [],
   "source": [
    "def extract_fet_class(df):\n",
    "    \n",
    "    df.drop(['country','id','price','type'],inplace=True,axis=1)\n",
    "    df['c3'] = df['c3'].astype(str) #removing all the non string\n",
    "    Y1 = df['c1']\n",
    "    Y2 = df['c2']\n",
    "    Y3 = df['c3']\n",
    "    X = df.drop(['c1','c2','c3'],axis=1)\n",
    "    X = X['title'] +' '+ X['description']\n",
    "    \n",
    "    return X, Y1,Y2,Y3"
   ]
  },
  {
   "cell_type": "code",
   "execution_count": 7,
   "metadata": {
    "execution": {
     "iopub.execute_input": "2021-05-27T21:58:49.919296Z",
     "iopub.status.busy": "2021-05-27T21:58:49.918933Z",
     "iopub.status.idle": "2021-05-27T21:58:49.931278Z",
     "shell.execute_reply": "2021-05-27T21:58:49.930302Z",
     "shell.execute_reply.started": "2021-05-27T21:58:49.919269Z"
    }
   },
   "outputs": [],
   "source": [
    "def replace_all(text, sym=['<ul>', '</ul>', '<li>', '</li>']):\n",
    "    \n",
    "        for i in sym:\n",
    "            text = text.replace(i, ' ')\n",
    "\n",
    "        textSec = []\n",
    "        for i in text.split(' '):\n",
    "            textTh = []\n",
    "            for j in i:\n",
    "                textTh.append(j if ord(j) < 128 else ' ')\n",
    "            textTh = ''.join(textTh).strip().split(' ')\n",
    "\n",
    "            for t in textTh:\n",
    "                if t != '':\n",
    "                    textSec.append(t)\n",
    "\n",
    "        return ' '.join(textSec)"
   ]
  },
  {
   "cell_type": "code",
   "execution_count": 8,
   "metadata": {
    "execution": {
     "iopub.execute_input": "2021-05-27T21:58:49.932850Z",
     "iopub.status.busy": "2021-05-27T21:58:49.932564Z",
     "iopub.status.idle": "2021-05-27T21:58:49.943558Z",
     "shell.execute_reply": "2021-05-27T21:58:49.942586Z",
     "shell.execute_reply.started": "2021-05-27T21:58:49.932822Z"
    }
   },
   "outputs": [],
   "source": [
    "def remove_puncs(text):\n",
    "    \n",
    "        punctuations = '''!()–+=-[]{};:'\"\\,<>./?@#$%^&*_~'''\n",
    "        no_punct = \"\"\n",
    "        for char in text:\n",
    "            if char not in punctuations:\n",
    "                no_punct += char\n",
    "\n",
    "        return no_punct"
   ]
  },
  {
   "cell_type": "code",
   "execution_count": 9,
   "metadata": {
    "execution": {
     "iopub.execute_input": "2021-05-27T21:58:50.055110Z",
     "iopub.status.busy": "2021-05-27T21:58:50.054724Z",
     "iopub.status.idle": "2021-05-27T21:58:50.061462Z",
     "shell.execute_reply": "2021-05-27T21:58:50.060444Z",
     "shell.execute_reply.started": "2021-05-27T21:58:50.055079Z"
    }
   },
   "outputs": [],
   "source": [
    "def PreProcess(df, cols=['title','description']):\n",
    "    \n",
    "        for col in cols:\n",
    "            df[col].fillna('', inplace=True)\n",
    "            df[col] = df[col].apply(lambda x: replace_all(x))\n",
    "            if col == 'description':\n",
    "                df[col] = df[col].apply(lambda x: BeautifulSoup(x, \"html.parser\").text)\n",
    "            df[col] = df[col].apply(lambda x: remove_puncs(x))"
   ]
  },
  {
   "cell_type": "code",
   "execution_count": 10,
   "metadata": {
    "execution": {
     "iopub.execute_input": "2021-05-27T21:58:50.207871Z",
     "iopub.status.busy": "2021-05-27T21:58:50.207385Z",
     "iopub.status.idle": "2021-05-27T21:58:50.214230Z",
     "shell.execute_reply": "2021-05-27T21:58:50.213382Z",
     "shell.execute_reply.started": "2021-05-27T21:58:50.207839Z"
    }
   },
   "outputs": [],
   "source": [
    "def cleaning_data(df, tfidf_vectorizer, tfidf_vectorizer_train=None):\n",
    "    \n",
    "    PreProcess(df)\n",
    "    X, Y1, Y2, Y3 = extract_fet_class(df)\n",
    "    X_tfidf = tfidf_vectorizer.fit_transform(X)\n",
    "    \n",
    "    if tfidf_vectorizer_train:\n",
    "    \n",
    "        corpus_vocabulary = defaultdict(None, copy.deepcopy(tfidf_vectorizer_train.vocabulary_))\n",
    "        corpus_vocabulary.default_factory = corpus_vocabulary.__len__\n",
    "    \n",
    "        for word in tfidf_vectorizer.vocabulary_.keys():\n",
    "            if word in tfidf_vectorizer_train.vocabulary_:\n",
    "                corpus_vocabulary[word]\n",
    "                \n",
    "        tfidf_vectorizer = TfidfVectorizer(vocabulary=corpus_vocabulary)\n",
    "        X_tfidf = tfidf_vectorizer.fit_transform(X)\n",
    "    \n",
    "    return X_tfidf, Y1, Y2, Y3"
   ]
  },
  {
   "cell_type": "code",
   "execution_count": 11,
   "metadata": {
    "execution": {
     "iopub.execute_input": "2021-05-27T21:58:50.362823Z",
     "iopub.status.busy": "2021-05-27T21:58:50.362461Z",
     "iopub.status.idle": "2021-05-27T21:59:01.670443Z",
     "shell.execute_reply": "2021-05-27T21:59:01.669587Z",
     "shell.execute_reply.started": "2021-05-27T21:58:50.362782Z"
    }
   },
   "outputs": [],
   "source": [
    "tfidf_vectorizer = TfidfVectorizer()\n",
    "X_train_tfidf, Y1, Y2, Y3 = cleaning_data(df, tfidf_vectorizer)"
   ]
  },
  {
   "cell_type": "code",
   "execution_count": 12,
   "metadata": {
    "execution": {
     "iopub.execute_input": "2021-05-27T21:59:01.672098Z",
     "iopub.status.busy": "2021-05-27T21:59:01.671818Z",
     "iopub.status.idle": "2021-05-27T21:59:01.685258Z",
     "shell.execute_reply": "2021-05-27T21:59:01.684450Z",
     "shell.execute_reply.started": "2021-05-27T21:59:01.672071Z"
    }
   },
   "outputs": [],
   "source": [
    "x_train, x_test, y_train, y_test = train_test_split(X_train_tfidf, Y3, test_size=0.3, random_state=42)"
   ]
  },
  {
   "cell_type": "code",
   "execution_count": 13,
   "metadata": {
    "execution": {
     "iopub.execute_input": "2021-05-27T21:59:32.354079Z",
     "iopub.status.busy": "2021-05-27T21:59:32.353602Z",
     "iopub.status.idle": "2021-05-27T21:59:32.358115Z",
     "shell.execute_reply": "2021-05-27T21:59:32.357137Z",
     "shell.execute_reply.started": "2021-05-27T21:59:32.354046Z"
    }
   },
   "outputs": [],
   "source": [
    "param_grid = {'penalty': ['l1', 'l2'], 'multi_class':['ovr', 'crammer_singer']}"
   ]
  },
  {
   "cell_type": "code",
   "execution_count": null,
   "metadata": {
    "execution": {
     "iopub.execute_input": "2021-05-27T22:00:12.410506Z",
     "iopub.status.busy": "2021-05-27T22:00:12.410030Z"
    }
   },
   "outputs": [
    {
     "name": "stdout",
     "output_type": "stream",
     "text": [
      "Fitting 5 folds for each of 4 candidates, totalling 20 fits\n"
     ]
    },
    {
     "name": "stderr",
     "output_type": "stream",
     "text": [
      "[Parallel(n_jobs=4)]: Using backend LokyBackend with 4 concurrent workers.\n"
     ]
    }
   ],
   "source": [
    "grid = GridSearchCV(svm.LinearSVC(),param_grid,refit=True,verbose=2,n_jobs=4)\n",
    "grid.fit(x_train,y_train)"
   ]
  },
  {
   "cell_type": "code",
   "execution_count": null,
   "metadata": {},
   "outputs": [],
   "source": [
    "print(grid.best_estimator_)"
   ]
  },
  {
   "cell_type": "code",
   "execution_count": null,
   "metadata": {},
   "outputs": [],
   "source": []
  }
 ],
 "metadata": {
  "kernelspec": {
   "display_name": "Python 3",
   "language": "python",
   "name": "python3"
  },
  "language_info": {
   "codemirror_mode": {
    "name": "ipython",
    "version": 3
   },
   "file_extension": ".py",
   "mimetype": "text/x-python",
   "name": "python",
   "nbconvert_exporter": "python",
   "pygments_lexer": "ipython3",
   "version": "3.8.5"
  }
 },
 "nbformat": 4,
 "nbformat_minor": 4
}
