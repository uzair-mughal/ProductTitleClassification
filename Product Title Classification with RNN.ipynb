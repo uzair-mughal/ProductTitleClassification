{
 "cells": [
  {
   "cell_type": "code",
   "execution_count": 29,
   "metadata": {
    "executionInfo": {
     "elapsed": 2084,
     "status": "ok",
     "timestamp": 1622693759806,
     "user": {
      "displayName": "k180179 Uzair Ahmed Mughal",
      "photoUrl": "https://lh3.googleusercontent.com/a-/AOh14Ggi_ZIAuLgChzAna20D2R6uP4K3a8Mkko2akp-5=s64",
      "userId": "17106050686746443054"
     },
     "user_tz": -300
    },
    "id": "m_e4zezcM5uc"
   },
   "outputs": [],
   "source": [
    "import os\n",
    "import sys\n",
    "import glob\n",
    "import numpy as np\n",
    "import pandas as pd\n",
    "import tensorflow as tf\n",
    "import matplotlib.pyplot as plt\n",
    "from keras.models import Sequential\n",
    "from keras.utils.vis_utils import plot_model\n",
    "from keras.preprocessing.text import Tokenizer\n",
    "from sklearn.metrics import classification_report \n",
    "from keras.callbacks import EarlyStopping, ModelCheckpoint\n",
    "from keras.layers import Embedding, SpatialDropout1D, LSTM, BatchNormalization, Dropout, Dense, CuDNNLSTM"
   ]
  },
  {
   "cell_type": "code",
   "execution_count": 9,
   "metadata": {
    "executionInfo": {
     "elapsed": 2165,
     "status": "ok",
     "timestamp": 1622693788352,
     "user": {
      "displayName": "k180179 Uzair Ahmed Mughal",
      "photoUrl": "https://lh3.googleusercontent.com/a-/AOh14Ggi_ZIAuLgChzAna20D2R6uP4K3a8Mkko2akp-5=s64",
      "userId": "17106050686746443054"
     },
     "user_tz": -300
    },
    "id": "P7c0-qFCPQaC"
   },
   "outputs": [],
   "source": [
    "from UtilityFunctions import *"
   ]
  },
  {
   "cell_type": "code",
   "execution_count": 10,
   "metadata": {
    "executionInfo": {
     "elapsed": 6,
     "status": "ok",
     "timestamp": 1622693790813,
     "user": {
      "displayName": "k180179 Uzair Ahmed Mughal",
      "photoUrl": "https://lh3.googleusercontent.com/a-/AOh14Ggi_ZIAuLgChzAna20D2R6uP4K3a8Mkko2akp-5=s64",
      "userId": "17106050686746443054"
     },
     "user_tz": -300
    },
    "id": "-37D6YvVde6a"
   },
   "outputs": [],
   "source": [
    "Labels = ['country', 'id', 'title', 'c1', 'c2', 'c3', 'description', 'price', 'type']"
   ]
  },
  {
   "cell_type": "code",
   "execution_count": 11,
   "metadata": {
    "executionInfo": {
     "elapsed": 1369,
     "status": "ok",
     "timestamp": 1622693792177,
     "user": {
      "displayName": "k180179 Uzair Ahmed Mughal",
      "photoUrl": "https://lh3.googleusercontent.com/a-/AOh14Ggi_ZIAuLgChzAna20D2R6uP4K3a8Mkko2akp-5=s64",
      "userId": "17106050686746443054"
     },
     "user_tz": -300
    },
    "id": "mJx8npEpde6d"
   },
   "outputs": [],
   "source": [
    "train_df = pd.read_csv(\"data_train.csv\", names=Labels)\n",
    "test_df = pd.read_csv(\"data_test.csv\", names=Labels)"
   ]
  },
  {
   "cell_type": "code",
   "execution_count": 12,
   "metadata": {
    "colab": {
     "base_uri": "https://localhost:8080/"
    },
    "executionInfo": {
     "elapsed": 9598,
     "status": "ok",
     "timestamp": 1622693801772,
     "user": {
      "displayName": "k180179 Uzair Ahmed Mughal",
      "photoUrl": "https://lh3.googleusercontent.com/a-/AOh14Ggi_ZIAuLgChzAna20D2R6uP4K3a8Mkko2akp-5=s64",
      "userId": "17106050686746443054"
     },
     "user_tz": -300
    },
    "id": "3adgGPz9VE7k",
    "outputId": "70cc2b27-a289-4e78-8d90-52aaa8c3ed75"
   },
   "outputs": [
    {
     "name": "stderr",
     "output_type": "stream",
     "text": [
      "C:\\Users\\uzair\\anaconda3\\lib\\site-packages\\bs4\\__init__.py:332: MarkupResemblesLocatorWarning: \".\" looks like a filename, not markup. You should probably open this file and pass the filehandle into Beautiful Soup.\n",
      "  warnings.warn(\n",
      "C:\\Users\\uzair\\anaconda3\\lib\\site-packages\\bs4\\__init__.py:332: MarkupResemblesLocatorWarning: \".....\" looks like a filename, not markup. You should probably open this file and pass the filehandle into Beautiful Soup.\n",
      "  warnings.warn(\n"
     ]
    }
   ],
   "source": [
    "PreProcess(train_df)\n",
    "PreProcess(test_df)"
   ]
  },
  {
   "cell_type": "code",
   "execution_count": 13,
   "metadata": {
    "executionInfo": {
     "elapsed": 19,
     "status": "ok",
     "timestamp": 1622693801780,
     "user": {
      "displayName": "k180179 Uzair Ahmed Mughal",
      "photoUrl": "https://lh3.googleusercontent.com/a-/AOh14Ggi_ZIAuLgChzAna20D2R6uP4K3a8Mkko2akp-5=s64",
      "userId": "17106050686746443054"
     },
     "user_tz": -300
    },
    "id": "Z3ozboXzcrWO"
   },
   "outputs": [],
   "source": [
    "train_df = train_df.drop(['country','id','price','type'], axis=1)\n",
    "test_df = test_df.drop(['country','id','price','type'], axis=1)"
   ]
  },
  {
   "cell_type": "code",
   "execution_count": 14,
   "metadata": {
    "executionInfo": {
     "elapsed": 17,
     "status": "ok",
     "timestamp": 1622693801780,
     "user": {
      "displayName": "k180179 Uzair Ahmed Mughal",
      "photoUrl": "https://lh3.googleusercontent.com/a-/AOh14Ggi_ZIAuLgChzAna20D2R6uP4K3a8Mkko2akp-5=s64",
      "userId": "17106050686746443054"
     },
     "user_tz": -300
    },
    "id": "IpDx4QYedMZ_"
   },
   "outputs": [],
   "source": [
    "train_df['title'] = train_df['title'] + ' ' + train_df['description']\n",
    "test_df['title'] = test_df['title'] + ' ' +test_df['description']"
   ]
  },
  {
   "cell_type": "code",
   "execution_count": 15,
   "metadata": {
    "executionInfo": {
     "elapsed": 13,
     "status": "ok",
     "timestamp": 1622693801781,
     "user": {
      "displayName": "k180179 Uzair Ahmed Mughal",
      "photoUrl": "https://lh3.googleusercontent.com/a-/AOh14Ggi_ZIAuLgChzAna20D2R6uP4K3a8Mkko2akp-5=s64",
      "userId": "17106050686746443054"
     },
     "user_tz": -300
    },
    "id": "ZsPdTvvuegR5"
   },
   "outputs": [],
   "source": [
    "train_df = train_df.drop(['description'], axis=1)\n",
    "test_df = test_df.drop(['description'], axis=1)"
   ]
  },
  {
   "cell_type": "code",
   "execution_count": 16,
   "metadata": {
    "executionInfo": {
     "elapsed": 13,
     "status": "ok",
     "timestamp": 1622693801782,
     "user": {
      "displayName": "k180179 Uzair Ahmed Mughal",
      "photoUrl": "https://lh3.googleusercontent.com/a-/AOh14Ggi_ZIAuLgChzAna20D2R6uP4K3a8Mkko2akp-5=s64",
      "userId": "17106050686746443054"
     },
     "user_tz": -300
    },
    "id": "8ywEXyrMfh_t"
   },
   "outputs": [],
   "source": [
    "train_df['c3'] = train_df['c3'].replace(np.nan, 'none', regex=True)\n",
    "test_df['c3'] = test_df['c3'].replace(np.nan, 'none', regex=True)"
   ]
  },
  {
   "cell_type": "code",
   "execution_count": 17,
   "metadata": {
    "colab": {
     "base_uri": "https://localhost:8080/",
     "height": 417
    },
    "executionInfo": {
     "elapsed": 306,
     "status": "ok",
     "timestamp": 1622693804483,
     "user": {
      "displayName": "k180179 Uzair Ahmed Mughal",
      "photoUrl": "https://lh3.googleusercontent.com/a-/AOh14Ggi_ZIAuLgChzAna20D2R6uP4K3a8Mkko2akp-5=s64",
      "userId": "17106050686746443054"
     },
     "user_tz": -300
    },
    "id": "95vEvlnUFmaD",
    "outputId": "474ae841-d417-40a0-8481-f685d9d3369f"
   },
   "outputs": [
    {
     "data": {
      "text/html": [
       "<div>\n",
       "<style scoped>\n",
       "    .dataframe tbody tr th:only-of-type {\n",
       "        vertical-align: middle;\n",
       "    }\n",
       "\n",
       "    .dataframe tbody tr th {\n",
       "        vertical-align: top;\n",
       "    }\n",
       "\n",
       "    .dataframe thead th {\n",
       "        text-align: right;\n",
       "    }\n",
       "</style>\n",
       "<table border=\"1\" class=\"dataframe\">\n",
       "  <thead>\n",
       "    <tr style=\"text-align: right;\">\n",
       "      <th></th>\n",
       "      <th>title</th>\n",
       "      <th>c1</th>\n",
       "      <th>c2</th>\n",
       "      <th>c3</th>\n",
       "    </tr>\n",
       "  </thead>\n",
       "  <tbody>\n",
       "    <tr>\n",
       "      <th>0</th>\n",
       "      <td>adana gallery suri square hijab light pink mat...</td>\n",
       "      <td>Fashion</td>\n",
       "      <td>Women</td>\n",
       "      <td>Muslim Wear</td>\n",
       "    </tr>\n",
       "    <tr>\n",
       "      <th>1</th>\n",
       "      <td>cuba heartbreaker eau de parfum spray ml oz fo...</td>\n",
       "      <td>Health &amp; Beauty</td>\n",
       "      <td>Bath &amp; Body</td>\n",
       "      <td>Hand &amp; Foot Care</td>\n",
       "    </tr>\n",
       "    <tr>\n",
       "      <th>2</th>\n",
       "      <td>andoer cm cellphone smartphone mini dualheaded...</td>\n",
       "      <td>TV, Audio / Video, Gaming &amp; Wearables</td>\n",
       "      <td>Audio</td>\n",
       "      <td>Live Sound &amp; Stage</td>\n",
       "    </tr>\n",
       "    <tr>\n",
       "      <th>3</th>\n",
       "      <td>anmyna complaint silky set shampoo ml conditio...</td>\n",
       "      <td>Health &amp; Beauty</td>\n",
       "      <td>Hair Care</td>\n",
       "      <td>Shampoos &amp; Conditioners</td>\n",
       "    </tr>\n",
       "    <tr>\n",
       "      <th>4</th>\n",
       "      <td>argital argiltubo green clay for face and body...</td>\n",
       "      <td>Health &amp; Beauty</td>\n",
       "      <td>Men's Care</td>\n",
       "      <td>Body and Skin Care</td>\n",
       "    </tr>\n",
       "    <tr>\n",
       "      <th>...</th>\n",
       "      <td>...</td>\n",
       "      <td>...</td>\n",
       "      <td>...</td>\n",
       "      <td>...</td>\n",
       "    </tr>\n",
       "    <tr>\n",
       "      <th>36278</th>\n",
       "      <td>sades led backlit wired usb mechanical gaming ...</td>\n",
       "      <td>Computers &amp; Laptops</td>\n",
       "      <td>Computer Accessories</td>\n",
       "      <td>Keyboards</td>\n",
       "    </tr>\n",
       "    <tr>\n",
       "      <th>36279</th>\n",
       "      <td>sona electric oven seo years warranty thermal ...</td>\n",
       "      <td>Home Appliances</td>\n",
       "      <td>Large Appliances</td>\n",
       "      <td>Microwaves &amp; Ovens</td>\n",
       "    </tr>\n",
       "    <tr>\n",
       "      <th>36280</th>\n",
       "      <td>op portable wireless bluetooth speaker with ha...</td>\n",
       "      <td>Computers &amp; Laptops</td>\n",
       "      <td>Computer Accessories</td>\n",
       "      <td>Speakers</td>\n",
       "    </tr>\n",
       "    <tr>\n",
       "      <th>36281</th>\n",
       "      <td>wootwoot tictactoe pillow case white cotton sa...</td>\n",
       "      <td>Home &amp; Living</td>\n",
       "      <td>Bedding</td>\n",
       "      <td>Pillows &amp; Bolsters</td>\n",
       "    </tr>\n",
       "    <tr>\n",
       "      <th>36282</th>\n",
       "      <td>new smart wristband smart bracelet heart rate ...</td>\n",
       "      <td>TV, Audio / Video, Gaming &amp; Wearables</td>\n",
       "      <td>Wearable Technology</td>\n",
       "      <td>Activity Trackers</td>\n",
       "    </tr>\n",
       "  </tbody>\n",
       "</table>\n",
       "<p>36283 rows × 4 columns</p>\n",
       "</div>"
      ],
      "text/plain": [
       "                                                   title  \\\n",
       "0      adana gallery suri square hijab light pink mat...   \n",
       "1      cuba heartbreaker eau de parfum spray ml oz fo...   \n",
       "2      andoer cm cellphone smartphone mini dualheaded...   \n",
       "3      anmyna complaint silky set shampoo ml conditio...   \n",
       "4      argital argiltubo green clay for face and body...   \n",
       "...                                                  ...   \n",
       "36278  sades led backlit wired usb mechanical gaming ...   \n",
       "36279  sona electric oven seo years warranty thermal ...   \n",
       "36280  op portable wireless bluetooth speaker with ha...   \n",
       "36281  wootwoot tictactoe pillow case white cotton sa...   \n",
       "36282  new smart wristband smart bracelet heart rate ...   \n",
       "\n",
       "                                          c1                    c2  \\\n",
       "0                                    Fashion                 Women   \n",
       "1                            Health & Beauty           Bath & Body   \n",
       "2      TV, Audio / Video, Gaming & Wearables                 Audio   \n",
       "3                            Health & Beauty             Hair Care   \n",
       "4                            Health & Beauty            Men's Care   \n",
       "...                                      ...                   ...   \n",
       "36278                    Computers & Laptops  Computer Accessories   \n",
       "36279                        Home Appliances      Large Appliances   \n",
       "36280                    Computers & Laptops  Computer Accessories   \n",
       "36281                          Home & Living               Bedding   \n",
       "36282  TV, Audio / Video, Gaming & Wearables   Wearable Technology   \n",
       "\n",
       "                            c3  \n",
       "0                  Muslim Wear  \n",
       "1             Hand & Foot Care  \n",
       "2           Live Sound & Stage  \n",
       "3      Shampoos & Conditioners  \n",
       "4           Body and Skin Care  \n",
       "...                        ...  \n",
       "36278                Keyboards  \n",
       "36279       Microwaves & Ovens  \n",
       "36280                 Speakers  \n",
       "36281       Pillows & Bolsters  \n",
       "36282        Activity Trackers  \n",
       "\n",
       "[36283 rows x 4 columns]"
      ]
     },
     "execution_count": 17,
     "metadata": {},
     "output_type": "execute_result"
    }
   ],
   "source": [
    "train_df"
   ]
  },
  {
   "cell_type": "markdown",
   "metadata": {
    "id": "cAl8BNPoC9sv"
   },
   "source": [
    "# Create padded input sequences"
   ]
  },
  {
   "cell_type": "code",
   "execution_count": 18,
   "metadata": {
    "executionInfo": {
     "elapsed": 1096,
     "status": "ok",
     "timestamp": 1622693817018,
     "user": {
      "displayName": "k180179 Uzair Ahmed Mughal",
      "photoUrl": "https://lh3.googleusercontent.com/a-/AOh14Ggi_ZIAuLgChzAna20D2R6uP4K3a8Mkko2akp-5=s64",
      "userId": "17106050686746443054"
     },
     "user_tz": -300
    },
    "id": "r3O-qVMCC_DU"
   },
   "outputs": [],
   "source": [
    "token = RegexpTokenizer(\"[\\w']+\")\n",
    "maxWords = 20000\n",
    "MaxWordLength = train_df.title.map(lambda x: len(token.tokenize(x))).max()\n",
    "tokenizer = Tokenizer(num_words = maxWords, filters='!\"#$%&()*+,-./:;<=>?@[\\]^_`{|}~', lower=True)\n",
    "tokenizer.fit_on_texts(train_df['title'].values)\n",
    "VocabSize = len(tokenizer.word_index)"
   ]
  },
  {
   "cell_type": "code",
   "execution_count": 19,
   "metadata": {
    "colab": {
     "base_uri": "https://localhost:8080/"
    },
    "executionInfo": {
     "elapsed": 19,
     "status": "ok",
     "timestamp": 1622693817021,
     "user": {
      "displayName": "k180179 Uzair Ahmed Mughal",
      "photoUrl": "https://lh3.googleusercontent.com/a-/AOh14Ggi_ZIAuLgChzAna20D2R6uP4K3a8Mkko2akp-5=s64",
      "userId": "17106050686746443054"
     },
     "user_tz": -300
    },
    "id": "2bX0ung8e-Gv",
    "outputId": "9c12c60c-6bc2-4123-85b8-05a7e4e70aed"
   },
   "outputs": [
    {
     "data": {
      "text/plain": [
       "856"
      ]
     },
     "execution_count": 19,
     "metadata": {},
     "output_type": "execute_result"
    }
   ],
   "source": [
    "MaxWordLength"
   ]
  },
  {
   "cell_type": "code",
   "execution_count": 20,
   "metadata": {
    "colab": {
     "base_uri": "https://localhost:8080/"
    },
    "executionInfo": {
     "elapsed": 420,
     "status": "ok",
     "timestamp": 1622693823081,
     "user": {
      "displayName": "k180179 Uzair Ahmed Mughal",
      "photoUrl": "https://lh3.googleusercontent.com/a-/AOh14Ggi_ZIAuLgChzAna20D2R6uP4K3a8Mkko2akp-5=s64",
      "userId": "17106050686746443054"
     },
     "user_tz": -300
    },
    "id": "IKu_PQ_y5Z8o",
    "outputId": "ee96c812-7be9-4352-f9dd-c7417e2a456f"
   },
   "outputs": [
    {
     "data": {
      "text/plain": [
       "57408"
      ]
     },
     "execution_count": 20,
     "metadata": {},
     "output_type": "execute_result"
    }
   ],
   "source": [
    "VocabSize"
   ]
  },
  {
   "cell_type": "markdown",
   "metadata": {
    "id": "jnEPV7jYDOq8"
   },
   "source": [
    "### Train input data sequences"
   ]
  },
  {
   "cell_type": "code",
   "execution_count": 21,
   "metadata": {
    "colab": {
     "base_uri": "https://localhost:8080/"
    },
    "executionInfo": {
     "elapsed": 2161,
     "status": "ok",
     "timestamp": 1622693868741,
     "user": {
      "displayName": "k180179 Uzair Ahmed Mughal",
      "photoUrl": "https://lh3.googleusercontent.com/a-/AOh14Ggi_ZIAuLgChzAna20D2R6uP4K3a8Mkko2akp-5=s64",
      "userId": "17106050686746443054"
     },
     "user_tz": -300
    },
    "id": "XR1AXNKhDPkC",
    "outputId": "3db726f2-b86f-42cc-9daa-042765ffb33e"
   },
   "outputs": [
    {
     "name": "stdout",
     "output_type": "stream",
     "text": [
      "Shape of data tensor: (36283, 856)\n",
      "Shape of data tensor: (36283, 856)\n",
      "Shape of data tensor: (36283, 856)\n"
     ]
    }
   ],
   "source": [
    "train_X_c1 = tokenizer.texts_to_sequences((train_df['title']).values)\n",
    "train_X_c1 = tf.keras.preprocessing.sequence.pad_sequences(train_X_c1, maxlen=MaxWordLength)\n",
    "\n",
    "print('Shape of data tensor:', train_X_c1.shape)\n",
    "\n",
    "\n",
    "train_X_c2 = tokenizer.texts_to_sequences((train_df['title']+' '+train_df['c1']).values)\n",
    "train_X_c2 = tf.keras.preprocessing.sequence.pad_sequences(train_X_c2, maxlen=MaxWordLength)\n",
    "\n",
    "print('Shape of data tensor:', train_X_c2.shape)\n",
    "\n",
    "\n",
    "train_X_c3 = tokenizer.texts_to_sequences((train_df['title']+' '+train_df['c1']+' '+train_df['c2']).values)\n",
    "train_X_c3 = tf.keras.preprocessing.sequence.pad_sequences(train_X_c3, maxlen=MaxWordLength)\n",
    "\n",
    "print('Shape of data tensor:', train_X_c3.shape)"
   ]
  },
  {
   "cell_type": "markdown",
   "metadata": {
    "id": "BYQaYl3UDWFV"
   },
   "source": [
    "## Test input data sequences"
   ]
  },
  {
   "cell_type": "code",
   "execution_count": 22,
   "metadata": {
    "colab": {
     "base_uri": "https://localhost:8080/"
    },
    "executionInfo": {
     "elapsed": 842,
     "status": "ok",
     "timestamp": 1622693893110,
     "user": {
      "displayName": "k180179 Uzair Ahmed Mughal",
      "photoUrl": "https://lh3.googleusercontent.com/a-/AOh14Ggi_ZIAuLgChzAna20D2R6uP4K3a8Mkko2akp-5=s64",
      "userId": "17106050686746443054"
     },
     "user_tz": -300
    },
    "id": "-VGrwQQADWnG",
    "outputId": "312db6ef-5903-4141-bad8-e287497261c3"
   },
   "outputs": [
    {
     "name": "stdout",
     "output_type": "stream",
     "text": [
      "Shape of test data tensor: (11838, 856)\n",
      "Shape of test data tensor: (11838, 856)\n",
      "Shape of test data tensor: (11838, 856)\n"
     ]
    }
   ],
   "source": [
    "test_X_c1 = tokenizer.texts_to_sequences((test_df['title']).values)\n",
    "test_X_c1 = tf.keras.preprocessing.sequence.pad_sequences(test_X_c1, maxlen=MaxWordLength)\n",
    "\n",
    "print('Shape of test data tensor:', test_X_c1.shape)\n",
    "\n",
    "\n",
    "test_X_c2 = tokenizer.texts_to_sequences((test_df['title']+' '+test_df['c1']).values)\n",
    "test_X_c2 = tf.keras.preprocessing.sequence.pad_sequences(test_X_c2, maxlen=MaxWordLength)\n",
    "\n",
    "print('Shape of test data tensor:', test_X_c2.shape)\n",
    "\n",
    "\n",
    "test_X_c3 = tokenizer.texts_to_sequences((test_df['title']+' '+test_df['c1']+' '+test_df['c2']).values)\n",
    "test_X_c3 = tf.keras.preprocessing.sequence.pad_sequences(test_X_c3, maxlen=MaxWordLength)\n",
    "\n",
    "print('Shape of test data tensor:', test_X_c3.shape)\n"
   ]
  },
  {
   "cell_type": "markdown",
   "metadata": {
    "id": "cFNzlhVWDlm9"
   },
   "source": [
    "# Y-label Encoding"
   ]
  },
  {
   "cell_type": "markdown",
   "metadata": {
    "id": "QQndD45pDsLz"
   },
   "source": [
    "## Train label encoding"
   ]
  },
  {
   "cell_type": "code",
   "execution_count": 23,
   "metadata": {
    "colab": {
     "base_uri": "https://localhost:8080/"
    },
    "executionInfo": {
     "elapsed": 316,
     "status": "ok",
     "timestamp": 1622693965367,
     "user": {
      "displayName": "k180179 Uzair Ahmed Mughal",
      "photoUrl": "https://lh3.googleusercontent.com/a-/AOh14Ggi_ZIAuLgChzAna20D2R6uP4K3a8Mkko2akp-5=s64",
      "userId": "17106050686746443054"
     },
     "user_tz": -300
    },
    "id": "aWvyjVG_Dl92",
    "outputId": "87c14adb-b506-4a42-cdf2-2061f499292d"
   },
   "outputs": [
    {
     "name": "stdout",
     "output_type": "stream",
     "text": [
      "Shape of label tensor: (36283, 9)\n",
      "Shape of label tensor: (36283, 57)\n",
      "Shape of label tensor: (36283, 185)\n"
     ]
    }
   ],
   "source": [
    "train_Y_c1 = pd.get_dummies(train_df['c1']).values\n",
    "print('Shape of label tensor:', train_Y_c1.shape)\n",
    "\n",
    "train_Y_c2 = pd.get_dummies(train_df['c2']).values \n",
    "print('Shape of label tensor:', train_Y_c2.shape)\n",
    "\n",
    "train_Y_c3 = pd.get_dummies(train_df['c3']).values\n",
    "print('Shape of label tensor:', train_Y_c3.shape)"
   ]
  },
  {
   "cell_type": "markdown",
   "metadata": {
    "id": "B_4E-jN5Dz-d"
   },
   "source": [
    "## Test label encoding"
   ]
  },
  {
   "cell_type": "code",
   "execution_count": 24,
   "metadata": {
    "colab": {
     "base_uri": "https://localhost:8080/"
    },
    "executionInfo": {
     "elapsed": 314,
     "status": "ok",
     "timestamp": 1622693967345,
     "user": {
      "displayName": "k180179 Uzair Ahmed Mughal",
      "photoUrl": "https://lh3.googleusercontent.com/a-/AOh14Ggi_ZIAuLgChzAna20D2R6uP4K3a8Mkko2akp-5=s64",
      "userId": "17106050686746443054"
     },
     "user_tz": -300
    },
    "id": "3LkWfcv8DvE8",
    "outputId": "b03f286c-dd2c-4c22-e45e-47227f506c62",
    "scrolled": true
   },
   "outputs": [
    {
     "name": "stdout",
     "output_type": "stream",
     "text": [
      "Shape of test label tensor: (11838, 9)\n",
      "Shape of test label tensor: (11838, 57)\n",
      "Shape of test label tensor: (11838, 185)\n"
     ]
    }
   ],
   "source": [
    "test_Y_c1 = pd.get_dummies(test_df['c1']).values\n",
    "print('Shape: ', test_Y_c1.shape)\n",
    "\n",
    "test_Y_c2 = pd.get_dummies(test_df['c2']).values\n",
    "print('Shape: ', test_Y_c2.shape)\n",
    "\n",
    "test_Y_c3 = pd.get_dummies(test_df['c3']).values\n",
    "print('Shape: ', test_Y_c3.shape)"
   ]
  },
  {
   "cell_type": "code",
   "execution_count": 25,
   "metadata": {
    "executionInfo": {
     "elapsed": 319,
     "status": "ok",
     "timestamp": 1622693973085,
     "user": {
      "displayName": "k180179 Uzair Ahmed Mughal",
      "photoUrl": "https://lh3.googleusercontent.com/a-/AOh14Ggi_ZIAuLgChzAna20D2R6uP4K3a8Mkko2akp-5=s64",
      "userId": "17106050686746443054"
     },
     "user_tz": -300
    },
    "id": "zgAfsYXKD-pE"
   },
   "outputs": [],
   "source": [
    "labels_c1=sorted(train_df['c1'].unique())\n",
    "labels_c2=sorted(train_df['c2'].unique())\n",
    "labels_c3=sorted(train_df['c3'].unique())"
   ]
  },
  {
   "cell_type": "markdown",
   "metadata": {
    "id": "tZDTCdaWEYYo"
   },
   "source": [
    "# Creating RNN Architecture and Train Model - Category1"
   ]
  },
  {
   "cell_type": "code",
   "execution_count": 19,
   "metadata": {
    "colab": {
     "base_uri": "https://localhost:8080/"
    },
    "executionInfo": {
     "elapsed": 528,
     "status": "ok",
     "timestamp": 1622694188793,
     "user": {
      "displayName": "k180179 Uzair Ahmed Mughal",
      "photoUrl": "https://lh3.googleusercontent.com/a-/AOh14Ggi_ZIAuLgChzAna20D2R6uP4K3a8Mkko2akp-5=s64",
      "userId": "17106050686746443054"
     },
     "user_tz": -300
    },
    "id": "tgV0tsblmOxN",
    "outputId": "f00e62ee-2853-4033-a417-f94815046978",
    "scrolled": true
   },
   "outputs": [],
   "source": [
    "# c1_count = train_df['c1'].nunique()\n",
    "# embeddingDimensions = 100\n",
    "\n",
    "# model_c1 = Sequential()\n",
    "# model_c1.add(Embedding(VocabSize, embeddingDimensions, input_length = MaxWordLength))\n",
    "# model_c1.add(LSTM(512, activation=\"tanh\", recurrent_activation=\"sigmoid\", use_bias=True, unroll=False))\n",
    "# model_c1.add(Dropout(0.4))\n",
    "# model_c1.add(Dense(128, activation='relu'))\n",
    "# model_c1.add(Dense(c1_count, activation = 'softmax'))\n",
    "# model_c1.compile(loss = 'categorical_crossentropy', optimizer = 'adam', metrics = ['accuracy'])\n",
    "\n",
    "# model_c1.summary()"
   ]
  },
  {
   "cell_type": "code",
   "execution_count": 35,
   "metadata": {
    "colab": {
     "base_uri": "https://localhost:8080/"
    },
    "executionInfo": {
     "elapsed": 780355,
     "status": "ok",
     "timestamp": 1622694969736,
     "user": {
      "displayName": "k180179 Uzair Ahmed Mughal",
      "photoUrl": "https://lh3.googleusercontent.com/a-/AOh14Ggi_ZIAuLgChzAna20D2R6uP4K3a8Mkko2akp-5=s64",
      "userId": "17106050686746443054"
     },
     "user_tz": -300
    },
    "id": "46ro-NduEYyO",
    "outputId": "66cf3b71-1ec7-435d-f270-0d739245fbb8"
   },
   "outputs": [
    {
     "name": "stdout",
     "output_type": "stream",
     "text": [
      "Epoch 1/30\n",
      "284/284 [==============================] - 79s 266ms/step - loss: 1.5439 - accuracy: 0.4393 - val_loss: 0.4105 - val_accuracy: 0.8773\n"
     ]
    },
    {
     "name": "stderr",
     "output_type": "stream",
     "text": [
      "WARNING:absl:Found untraced functions such as lstm_cell_3_layer_call_and_return_conditional_losses, lstm_cell_3_layer_call_fn, lstm_cell_3_layer_call_fn, lstm_cell_3_layer_call_and_return_conditional_losses, lstm_cell_3_layer_call_and_return_conditional_losses while saving (showing 5 of 5). These functions will not be directly callable after loading.\n"
     ]
    },
    {
     "name": "stdout",
     "output_type": "stream",
     "text": [
      "INFO:tensorflow:Assets written to: h_models_rnn_td/model_c1\\0.877\\assets\n"
     ]
    },
    {
     "name": "stderr",
     "output_type": "stream",
     "text": [
      "INFO:tensorflow:Assets written to: h_models_rnn_td/model_c1\\0.877\\assets\n"
     ]
    },
    {
     "name": "stdout",
     "output_type": "stream",
     "text": [
      "Epoch 2/30\n",
      "284/284 [==============================] - 76s 267ms/step - loss: 0.3398 - accuracy: 0.9041 - val_loss: 0.3801 - val_accuracy: 0.8952\n"
     ]
    },
    {
     "name": "stderr",
     "output_type": "stream",
     "text": [
      "WARNING:absl:Found untraced functions such as lstm_cell_3_layer_call_and_return_conditional_losses, lstm_cell_3_layer_call_fn, lstm_cell_3_layer_call_fn, lstm_cell_3_layer_call_and_return_conditional_losses, lstm_cell_3_layer_call_and_return_conditional_losses while saving (showing 5 of 5). These functions will not be directly callable after loading.\n"
     ]
    },
    {
     "name": "stdout",
     "output_type": "stream",
     "text": [
      "INFO:tensorflow:Assets written to: h_models_rnn_td/model_c1\\0.895\\assets\n"
     ]
    },
    {
     "name": "stderr",
     "output_type": "stream",
     "text": [
      "INFO:tensorflow:Assets written to: h_models_rnn_td/model_c1\\0.895\\assets\n"
     ]
    },
    {
     "name": "stdout",
     "output_type": "stream",
     "text": [
      "Epoch 3/30\n",
      "284/284 [==============================] - 75s 266ms/step - loss: 0.2536 - accuracy: 0.9339 - val_loss: 0.3356 - val_accuracy: 0.9119\n"
     ]
    },
    {
     "name": "stderr",
     "output_type": "stream",
     "text": [
      "WARNING:absl:Found untraced functions such as lstm_cell_3_layer_call_and_return_conditional_losses, lstm_cell_3_layer_call_fn, lstm_cell_3_layer_call_fn, lstm_cell_3_layer_call_and_return_conditional_losses, lstm_cell_3_layer_call_and_return_conditional_losses while saving (showing 5 of 5). These functions will not be directly callable after loading.\n"
     ]
    },
    {
     "name": "stdout",
     "output_type": "stream",
     "text": [
      "INFO:tensorflow:Assets written to: h_models_rnn_td/model_c1\\0.912\\assets\n"
     ]
    },
    {
     "name": "stderr",
     "output_type": "stream",
     "text": [
      "INFO:tensorflow:Assets written to: h_models_rnn_td/model_c1\\0.912\\assets\n"
     ]
    },
    {
     "name": "stdout",
     "output_type": "stream",
     "text": [
      "Epoch 4/30\n",
      "284/284 [==============================] - 76s 266ms/step - loss: 0.1675 - accuracy: 0.9584 - val_loss: 0.3481 - val_accuracy: 0.9121\n"
     ]
    },
    {
     "name": "stderr",
     "output_type": "stream",
     "text": [
      "WARNING:absl:Found untraced functions such as lstm_cell_3_layer_call_and_return_conditional_losses, lstm_cell_3_layer_call_fn, lstm_cell_3_layer_call_fn, lstm_cell_3_layer_call_and_return_conditional_losses, lstm_cell_3_layer_call_and_return_conditional_losses while saving (showing 5 of 5). These functions will not be directly callable after loading.\n"
     ]
    },
    {
     "name": "stdout",
     "output_type": "stream",
     "text": [
      "INFO:tensorflow:Assets written to: h_models_rnn_td/model_c1\\0.912\\assets\n"
     ]
    },
    {
     "name": "stderr",
     "output_type": "stream",
     "text": [
      "INFO:tensorflow:Assets written to: h_models_rnn_td/model_c1\\0.912\\assets\n"
     ]
    },
    {
     "name": "stdout",
     "output_type": "stream",
     "text": [
      "Epoch 5/30\n",
      "284/284 [==============================] - 74s 260ms/step - loss: 0.1270 - accuracy: 0.9694 - val_loss: 0.3114 - val_accuracy: 0.9219\n"
     ]
    },
    {
     "name": "stderr",
     "output_type": "stream",
     "text": [
      "WARNING:absl:Found untraced functions such as lstm_cell_3_layer_call_and_return_conditional_losses, lstm_cell_3_layer_call_fn, lstm_cell_3_layer_call_fn, lstm_cell_3_layer_call_and_return_conditional_losses, lstm_cell_3_layer_call_and_return_conditional_losses while saving (showing 5 of 5). These functions will not be directly callable after loading.\n"
     ]
    },
    {
     "name": "stdout",
     "output_type": "stream",
     "text": [
      "INFO:tensorflow:Assets written to: h_models_rnn_td/model_c1\\0.922\\assets\n"
     ]
    },
    {
     "name": "stderr",
     "output_type": "stream",
     "text": [
      "INFO:tensorflow:Assets written to: h_models_rnn_td/model_c1\\0.922\\assets\n"
     ]
    },
    {
     "name": "stdout",
     "output_type": "stream",
     "text": [
      "Epoch 6/30\n",
      "284/284 [==============================] - 74s 262ms/step - loss: 0.1125 - accuracy: 0.9726 - val_loss: 0.3296 - val_accuracy: 0.9177\n"
     ]
    },
    {
     "name": "stderr",
     "output_type": "stream",
     "text": [
      "WARNING:absl:Found untraced functions such as lstm_cell_3_layer_call_and_return_conditional_losses, lstm_cell_3_layer_call_fn, lstm_cell_3_layer_call_fn, lstm_cell_3_layer_call_and_return_conditional_losses, lstm_cell_3_layer_call_and_return_conditional_losses while saving (showing 5 of 5). These functions will not be directly callable after loading.\n"
     ]
    },
    {
     "name": "stdout",
     "output_type": "stream",
     "text": [
      "INFO:tensorflow:Assets written to: h_models_rnn_td/model_c1\\0.918\\assets\n"
     ]
    },
    {
     "name": "stderr",
     "output_type": "stream",
     "text": [
      "INFO:tensorflow:Assets written to: h_models_rnn_td/model_c1\\0.918\\assets\n"
     ]
    },
    {
     "name": "stdout",
     "output_type": "stream",
     "text": [
      "Epoch 7/30\n",
      "284/284 [==============================] - 74s 262ms/step - loss: 0.0804 - accuracy: 0.9806 - val_loss: 0.3715 - val_accuracy: 0.9187\n"
     ]
    },
    {
     "name": "stderr",
     "output_type": "stream",
     "text": [
      "WARNING:absl:Found untraced functions such as lstm_cell_3_layer_call_and_return_conditional_losses, lstm_cell_3_layer_call_fn, lstm_cell_3_layer_call_fn, lstm_cell_3_layer_call_and_return_conditional_losses, lstm_cell_3_layer_call_and_return_conditional_losses while saving (showing 5 of 5). These functions will not be directly callable after loading.\n"
     ]
    },
    {
     "name": "stdout",
     "output_type": "stream",
     "text": [
      "INFO:tensorflow:Assets written to: h_models_rnn_td/model_c1\\0.919\\assets\n"
     ]
    },
    {
     "name": "stderr",
     "output_type": "stream",
     "text": [
      "INFO:tensorflow:Assets written to: h_models_rnn_td/model_c1\\0.919\\assets\n"
     ]
    },
    {
     "name": "stdout",
     "output_type": "stream",
     "text": [
      "Epoch 8/30\n",
      "284/284 [==============================] - 74s 262ms/step - loss: 0.0709 - accuracy: 0.9825 - val_loss: 0.3705 - val_accuracy: 0.9103\n"
     ]
    },
    {
     "name": "stderr",
     "output_type": "stream",
     "text": [
      "WARNING:absl:Found untraced functions such as lstm_cell_3_layer_call_and_return_conditional_losses, lstm_cell_3_layer_call_fn, lstm_cell_3_layer_call_fn, lstm_cell_3_layer_call_and_return_conditional_losses, lstm_cell_3_layer_call_and_return_conditional_losses while saving (showing 5 of 5). These functions will not be directly callable after loading.\n"
     ]
    },
    {
     "name": "stdout",
     "output_type": "stream",
     "text": [
      "INFO:tensorflow:Assets written to: h_models_rnn_td/model_c1\\0.910\\assets\n"
     ]
    },
    {
     "name": "stderr",
     "output_type": "stream",
     "text": [
      "INFO:tensorflow:Assets written to: h_models_rnn_td/model_c1\\0.910\\assets\n"
     ]
    },
    {
     "name": "stdout",
     "output_type": "stream",
     "text": [
      "Epoch 9/30\n",
      "284/284 [==============================] - 74s 262ms/step - loss: 0.0607 - accuracy: 0.9841 - val_loss: 0.4453 - val_accuracy: 0.9163\n"
     ]
    },
    {
     "name": "stderr",
     "output_type": "stream",
     "text": [
      "WARNING:absl:Found untraced functions such as lstm_cell_3_layer_call_and_return_conditional_losses, lstm_cell_3_layer_call_fn, lstm_cell_3_layer_call_fn, lstm_cell_3_layer_call_and_return_conditional_losses, lstm_cell_3_layer_call_and_return_conditional_losses while saving (showing 5 of 5). These functions will not be directly callable after loading.\n"
     ]
    },
    {
     "name": "stdout",
     "output_type": "stream",
     "text": [
      "INFO:tensorflow:Assets written to: h_models_rnn_td/model_c1\\0.916\\assets\n"
     ]
    },
    {
     "name": "stderr",
     "output_type": "stream",
     "text": [
      "INFO:tensorflow:Assets written to: h_models_rnn_td/model_c1\\0.916\\assets\n"
     ]
    },
    {
     "name": "stdout",
     "output_type": "stream",
     "text": [
      "Epoch 10/30\n",
      "284/284 [==============================] - 75s 262ms/step - loss: 0.0658 - accuracy: 0.9836 - val_loss: 0.4428 - val_accuracy: 0.9154\n"
     ]
    },
    {
     "name": "stderr",
     "output_type": "stream",
     "text": [
      "WARNING:absl:Found untraced functions such as lstm_cell_3_layer_call_and_return_conditional_losses, lstm_cell_3_layer_call_fn, lstm_cell_3_layer_call_fn, lstm_cell_3_layer_call_and_return_conditional_losses, lstm_cell_3_layer_call_and_return_conditional_losses while saving (showing 5 of 5). These functions will not be directly callable after loading.\n"
     ]
    },
    {
     "name": "stdout",
     "output_type": "stream",
     "text": [
      "INFO:tensorflow:Assets written to: h_models_rnn_td/model_c1\\0.915\\assets\n"
     ]
    },
    {
     "name": "stderr",
     "output_type": "stream",
     "text": [
      "INFO:tensorflow:Assets written to: h_models_rnn_td/model_c1\\0.915\\assets\n"
     ]
    },
    {
     "name": "stdout",
     "output_type": "stream",
     "text": [
      "Epoch 11/30\n",
      "284/284 [==============================] - 74s 261ms/step - loss: 0.0406 - accuracy: 0.9895 - val_loss: 0.5220 - val_accuracy: 0.9136\n"
     ]
    },
    {
     "name": "stderr",
     "output_type": "stream",
     "text": [
      "WARNING:absl:Found untraced functions such as lstm_cell_3_layer_call_and_return_conditional_losses, lstm_cell_3_layer_call_fn, lstm_cell_3_layer_call_fn, lstm_cell_3_layer_call_and_return_conditional_losses, lstm_cell_3_layer_call_and_return_conditional_losses while saving (showing 5 of 5). These functions will not be directly callable after loading.\n"
     ]
    },
    {
     "name": "stdout",
     "output_type": "stream",
     "text": [
      "INFO:tensorflow:Assets written to: h_models_rnn_td/model_c1\\0.914\\assets\n"
     ]
    },
    {
     "name": "stderr",
     "output_type": "stream",
     "text": [
      "INFO:tensorflow:Assets written to: h_models_rnn_td/model_c1\\0.914\\assets\n"
     ]
    },
    {
     "name": "stdout",
     "output_type": "stream",
     "text": [
      "Epoch 12/30\n",
      "284/284 [==============================] - 74s 259ms/step - loss: 0.0512 - accuracy: 0.9867 - val_loss: 0.4493 - val_accuracy: 0.9155\n"
     ]
    },
    {
     "name": "stderr",
     "output_type": "stream",
     "text": [
      "WARNING:absl:Found untraced functions such as lstm_cell_3_layer_call_and_return_conditional_losses, lstm_cell_3_layer_call_fn, lstm_cell_3_layer_call_fn, lstm_cell_3_layer_call_and_return_conditional_losses, lstm_cell_3_layer_call_and_return_conditional_losses while saving (showing 5 of 5). These functions will not be directly callable after loading.\n"
     ]
    },
    {
     "name": "stdout",
     "output_type": "stream",
     "text": [
      "INFO:tensorflow:Assets written to: h_models_rnn_td/model_c1\\0.916\\assets\n"
     ]
    },
    {
     "name": "stderr",
     "output_type": "stream",
     "text": [
      "INFO:tensorflow:Assets written to: h_models_rnn_td/model_c1\\0.916\\assets\n"
     ]
    },
    {
     "name": "stdout",
     "output_type": "stream",
     "text": [
      "Epoch 13/30\n",
      "284/284 [==============================] - 73s 258ms/step - loss: 0.0385 - accuracy: 0.9903 - val_loss: 0.5001 - val_accuracy: 0.9125\n"
     ]
    },
    {
     "name": "stderr",
     "output_type": "stream",
     "text": [
      "WARNING:absl:Found untraced functions such as lstm_cell_3_layer_call_and_return_conditional_losses, lstm_cell_3_layer_call_fn, lstm_cell_3_layer_call_fn, lstm_cell_3_layer_call_and_return_conditional_losses, lstm_cell_3_layer_call_and_return_conditional_losses while saving (showing 5 of 5). These functions will not be directly callable after loading.\n"
     ]
    },
    {
     "name": "stdout",
     "output_type": "stream",
     "text": [
      "INFO:tensorflow:Assets written to: h_models_rnn_td/model_c1\\0.912\\assets\n"
     ]
    },
    {
     "name": "stderr",
     "output_type": "stream",
     "text": [
      "INFO:tensorflow:Assets written to: h_models_rnn_td/model_c1\\0.912\\assets\n"
     ]
    },
    {
     "name": "stdout",
     "output_type": "stream",
     "text": [
      "Epoch 14/30\n",
      "284/284 [==============================] - 73s 257ms/step - loss: 0.0388 - accuracy: 0.9902 - val_loss: 0.5004 - val_accuracy: 0.9149\n"
     ]
    },
    {
     "name": "stderr",
     "output_type": "stream",
     "text": [
      "WARNING:absl:Found untraced functions such as lstm_cell_3_layer_call_and_return_conditional_losses, lstm_cell_3_layer_call_fn, lstm_cell_3_layer_call_fn, lstm_cell_3_layer_call_and_return_conditional_losses, lstm_cell_3_layer_call_and_return_conditional_losses while saving (showing 5 of 5). These functions will not be directly callable after loading.\n"
     ]
    },
    {
     "name": "stdout",
     "output_type": "stream",
     "text": [
      "INFO:tensorflow:Assets written to: h_models_rnn_td/model_c1\\0.915\\assets\n"
     ]
    },
    {
     "name": "stderr",
     "output_type": "stream",
     "text": [
      "INFO:tensorflow:Assets written to: h_models_rnn_td/model_c1\\0.915\\assets\n"
     ]
    },
    {
     "name": "stdout",
     "output_type": "stream",
     "text": [
      "Epoch 15/30\n",
      "284/284 [==============================] - 73s 257ms/step - loss: 0.0255 - accuracy: 0.9933 - val_loss: 0.4928 - val_accuracy: 0.9148\n"
     ]
    },
    {
     "name": "stderr",
     "output_type": "stream",
     "text": [
      "WARNING:absl:Found untraced functions such as lstm_cell_3_layer_call_and_return_conditional_losses, lstm_cell_3_layer_call_fn, lstm_cell_3_layer_call_fn, lstm_cell_3_layer_call_and_return_conditional_losses, lstm_cell_3_layer_call_and_return_conditional_losses while saving (showing 5 of 5). These functions will not be directly callable after loading.\n"
     ]
    },
    {
     "name": "stdout",
     "output_type": "stream",
     "text": [
      "INFO:tensorflow:Assets written to: h_models_rnn_td/model_c1\\0.915\\assets\n"
     ]
    },
    {
     "name": "stderr",
     "output_type": "stream",
     "text": [
      "INFO:tensorflow:Assets written to: h_models_rnn_td/model_c1\\0.915\\assets\n"
     ]
    },
    {
     "name": "stdout",
     "output_type": "stream",
     "text": [
      "Epoch 16/30\n",
      "284/284 [==============================] - 73s 257ms/step - loss: 0.0256 - accuracy: 0.9934 - val_loss: 0.5414 - val_accuracy: 0.8981\n"
     ]
    },
    {
     "name": "stderr",
     "output_type": "stream",
     "text": [
      "WARNING:absl:Found untraced functions such as lstm_cell_3_layer_call_and_return_conditional_losses, lstm_cell_3_layer_call_fn, lstm_cell_3_layer_call_fn, lstm_cell_3_layer_call_and_return_conditional_losses, lstm_cell_3_layer_call_and_return_conditional_losses while saving (showing 5 of 5). These functions will not be directly callable after loading.\n"
     ]
    },
    {
     "name": "stdout",
     "output_type": "stream",
     "text": [
      "INFO:tensorflow:Assets written to: h_models_rnn_td/model_c1\\0.898\\assets\n"
     ]
    },
    {
     "name": "stderr",
     "output_type": "stream",
     "text": [
      "INFO:tensorflow:Assets written to: h_models_rnn_td/model_c1\\0.898\\assets\n"
     ]
    },
    {
     "name": "stdout",
     "output_type": "stream",
     "text": [
      "Epoch 17/30\n",
      "284/284 [==============================] - 73s 257ms/step - loss: 0.0311 - accuracy: 0.9919 - val_loss: 0.5169 - val_accuracy: 0.9066\n"
     ]
    },
    {
     "name": "stderr",
     "output_type": "stream",
     "text": [
      "WARNING:absl:Found untraced functions such as lstm_cell_3_layer_call_and_return_conditional_losses, lstm_cell_3_layer_call_fn, lstm_cell_3_layer_call_fn, lstm_cell_3_layer_call_and_return_conditional_losses, lstm_cell_3_layer_call_and_return_conditional_losses while saving (showing 5 of 5). These functions will not be directly callable after loading.\n"
     ]
    },
    {
     "name": "stdout",
     "output_type": "stream",
     "text": [
      "INFO:tensorflow:Assets written to: h_models_rnn_td/model_c1\\0.907\\assets\n"
     ]
    },
    {
     "name": "stderr",
     "output_type": "stream",
     "text": [
      "INFO:tensorflow:Assets written to: h_models_rnn_td/model_c1\\0.907\\assets\n"
     ]
    },
    {
     "name": "stdout",
     "output_type": "stream",
     "text": [
      "Epoch 18/30\n",
      "284/284 [==============================] - 73s 257ms/step - loss: 0.0282 - accuracy: 0.9930 - val_loss: 0.5414 - val_accuracy: 0.9114\n"
     ]
    },
    {
     "name": "stderr",
     "output_type": "stream",
     "text": [
      "WARNING:absl:Found untraced functions such as lstm_cell_3_layer_call_and_return_conditional_losses, lstm_cell_3_layer_call_fn, lstm_cell_3_layer_call_fn, lstm_cell_3_layer_call_and_return_conditional_losses, lstm_cell_3_layer_call_and_return_conditional_losses while saving (showing 5 of 5). These functions will not be directly callable after loading.\n"
     ]
    },
    {
     "name": "stdout",
     "output_type": "stream",
     "text": [
      "INFO:tensorflow:Assets written to: h_models_rnn_td/model_c1\\0.911\\assets\n"
     ]
    },
    {
     "name": "stderr",
     "output_type": "stream",
     "text": [
      "INFO:tensorflow:Assets written to: h_models_rnn_td/model_c1\\0.911\\assets\n"
     ]
    },
    {
     "name": "stdout",
     "output_type": "stream",
     "text": [
      "Epoch 19/30\n",
      "284/284 [==============================] - 73s 257ms/step - loss: 0.0151 - accuracy: 0.9963 - val_loss: 0.5652 - val_accuracy: 0.9032\n"
     ]
    },
    {
     "name": "stderr",
     "output_type": "stream",
     "text": [
      "WARNING:absl:Found untraced functions such as lstm_cell_3_layer_call_and_return_conditional_losses, lstm_cell_3_layer_call_fn, lstm_cell_3_layer_call_fn, lstm_cell_3_layer_call_and_return_conditional_losses, lstm_cell_3_layer_call_and_return_conditional_losses while saving (showing 5 of 5). These functions will not be directly callable after loading.\n"
     ]
    },
    {
     "name": "stdout",
     "output_type": "stream",
     "text": [
      "INFO:tensorflow:Assets written to: h_models_rnn_td/model_c1\\0.903\\assets\n"
     ]
    },
    {
     "name": "stderr",
     "output_type": "stream",
     "text": [
      "INFO:tensorflow:Assets written to: h_models_rnn_td/model_c1\\0.903\\assets\n"
     ]
    },
    {
     "name": "stdout",
     "output_type": "stream",
     "text": [
      "Epoch 20/30\n",
      "284/284 [==============================] - 73s 258ms/step - loss: 0.0292 - accuracy: 0.9920 - val_loss: 0.5512 - val_accuracy: 0.9098\n"
     ]
    },
    {
     "name": "stderr",
     "output_type": "stream",
     "text": [
      "WARNING:absl:Found untraced functions such as lstm_cell_3_layer_call_and_return_conditional_losses, lstm_cell_3_layer_call_fn, lstm_cell_3_layer_call_fn, lstm_cell_3_layer_call_and_return_conditional_losses, lstm_cell_3_layer_call_and_return_conditional_losses while saving (showing 5 of 5). These functions will not be directly callable after loading.\n"
     ]
    },
    {
     "name": "stdout",
     "output_type": "stream",
     "text": [
      "INFO:tensorflow:Assets written to: h_models_rnn_td/model_c1\\0.910\\assets\n"
     ]
    },
    {
     "name": "stderr",
     "output_type": "stream",
     "text": [
      "INFO:tensorflow:Assets written to: h_models_rnn_td/model_c1\\0.910\\assets\n"
     ]
    },
    {
     "name": "stdout",
     "output_type": "stream",
     "text": [
      "Epoch 21/30\n",
      "284/284 [==============================] - 73s 257ms/step - loss: 0.0213 - accuracy: 0.9945 - val_loss: 0.6157 - val_accuracy: 0.9068\n"
     ]
    },
    {
     "name": "stderr",
     "output_type": "stream",
     "text": [
      "WARNING:absl:Found untraced functions such as lstm_cell_3_layer_call_and_return_conditional_losses, lstm_cell_3_layer_call_fn, lstm_cell_3_layer_call_fn, lstm_cell_3_layer_call_and_return_conditional_losses, lstm_cell_3_layer_call_and_return_conditional_losses while saving (showing 5 of 5). These functions will not be directly callable after loading.\n"
     ]
    },
    {
     "name": "stdout",
     "output_type": "stream",
     "text": [
      "INFO:tensorflow:Assets written to: h_models_rnn_td/model_c1\\0.907\\assets\n"
     ]
    },
    {
     "name": "stderr",
     "output_type": "stream",
     "text": [
      "INFO:tensorflow:Assets written to: h_models_rnn_td/model_c1\\0.907\\assets\n"
     ]
    },
    {
     "name": "stdout",
     "output_type": "stream",
     "text": [
      "Epoch 22/30\n",
      "284/284 [==============================] - 73s 257ms/step - loss: 0.0112 - accuracy: 0.9970 - val_loss: 0.5932 - val_accuracy: 0.9105\n"
     ]
    },
    {
     "name": "stderr",
     "output_type": "stream",
     "text": [
      "WARNING:absl:Found untraced functions such as lstm_cell_3_layer_call_and_return_conditional_losses, lstm_cell_3_layer_call_fn, lstm_cell_3_layer_call_fn, lstm_cell_3_layer_call_and_return_conditional_losses, lstm_cell_3_layer_call_and_return_conditional_losses while saving (showing 5 of 5). These functions will not be directly callable after loading.\n"
     ]
    },
    {
     "name": "stdout",
     "output_type": "stream",
     "text": [
      "INFO:tensorflow:Assets written to: h_models_rnn_td/model_c1\\0.910\\assets\n"
     ]
    },
    {
     "name": "stderr",
     "output_type": "stream",
     "text": [
      "INFO:tensorflow:Assets written to: h_models_rnn_td/model_c1\\0.910\\assets\n"
     ]
    },
    {
     "name": "stdout",
     "output_type": "stream",
     "text": [
      "Epoch 23/30\n",
      "284/284 [==============================] - 73s 257ms/step - loss: 0.0103 - accuracy: 0.9973 - val_loss: 0.6219 - val_accuracy: 0.9108\n"
     ]
    },
    {
     "name": "stderr",
     "output_type": "stream",
     "text": [
      "WARNING:absl:Found untraced functions such as lstm_cell_3_layer_call_and_return_conditional_losses, lstm_cell_3_layer_call_fn, lstm_cell_3_layer_call_fn, lstm_cell_3_layer_call_and_return_conditional_losses, lstm_cell_3_layer_call_and_return_conditional_losses while saving (showing 5 of 5). These functions will not be directly callable after loading.\n"
     ]
    },
    {
     "name": "stdout",
     "output_type": "stream",
     "text": [
      "INFO:tensorflow:Assets written to: h_models_rnn_td/model_c1\\0.911\\assets\n"
     ]
    },
    {
     "name": "stderr",
     "output_type": "stream",
     "text": [
      "INFO:tensorflow:Assets written to: h_models_rnn_td/model_c1\\0.911\\assets\n"
     ]
    },
    {
     "name": "stdout",
     "output_type": "stream",
     "text": [
      "Epoch 24/30\n",
      "284/284 [==============================] - 73s 257ms/step - loss: 0.0107 - accuracy: 0.9969 - val_loss: 0.6025 - val_accuracy: 0.9093\n"
     ]
    },
    {
     "name": "stderr",
     "output_type": "stream",
     "text": [
      "WARNING:absl:Found untraced functions such as lstm_cell_3_layer_call_and_return_conditional_losses, lstm_cell_3_layer_call_fn, lstm_cell_3_layer_call_fn, lstm_cell_3_layer_call_and_return_conditional_losses, lstm_cell_3_layer_call_and_return_conditional_losses while saving (showing 5 of 5). These functions will not be directly callable after loading.\n"
     ]
    },
    {
     "name": "stdout",
     "output_type": "stream",
     "text": [
      "INFO:tensorflow:Assets written to: h_models_rnn_td/model_c1\\0.909\\assets\n"
     ]
    },
    {
     "name": "stderr",
     "output_type": "stream",
     "text": [
      "INFO:tensorflow:Assets written to: h_models_rnn_td/model_c1\\0.909\\assets\n"
     ]
    },
    {
     "name": "stdout",
     "output_type": "stream",
     "text": [
      "Epoch 25/30\n",
      "284/284 [==============================] - 73s 257ms/step - loss: 0.0110 - accuracy: 0.9967 - val_loss: 0.6371 - val_accuracy: 0.9040\n"
     ]
    },
    {
     "name": "stderr",
     "output_type": "stream",
     "text": [
      "WARNING:absl:Found untraced functions such as lstm_cell_3_layer_call_and_return_conditional_losses, lstm_cell_3_layer_call_fn, lstm_cell_3_layer_call_fn, lstm_cell_3_layer_call_and_return_conditional_losses, lstm_cell_3_layer_call_and_return_conditional_losses while saving (showing 5 of 5). These functions will not be directly callable after loading.\n"
     ]
    },
    {
     "name": "stdout",
     "output_type": "stream",
     "text": [
      "INFO:tensorflow:Assets written to: h_models_rnn_td/model_c1\\0.904\\assets\n"
     ]
    },
    {
     "name": "stderr",
     "output_type": "stream",
     "text": [
      "INFO:tensorflow:Assets written to: h_models_rnn_td/model_c1\\0.904\\assets\n"
     ]
    },
    {
     "name": "stdout",
     "output_type": "stream",
     "text": [
      "Epoch 26/30\n",
      "284/284 [==============================] - 73s 257ms/step - loss: 0.0114 - accuracy: 0.9966 - val_loss: 0.6694 - val_accuracy: 0.9049\n"
     ]
    },
    {
     "name": "stderr",
     "output_type": "stream",
     "text": [
      "WARNING:absl:Found untraced functions such as lstm_cell_3_layer_call_and_return_conditional_losses, lstm_cell_3_layer_call_fn, lstm_cell_3_layer_call_fn, lstm_cell_3_layer_call_and_return_conditional_losses, lstm_cell_3_layer_call_and_return_conditional_losses while saving (showing 5 of 5). These functions will not be directly callable after loading.\n"
     ]
    },
    {
     "name": "stdout",
     "output_type": "stream",
     "text": [
      "INFO:tensorflow:Assets written to: h_models_rnn_td/model_c1\\0.905\\assets\n"
     ]
    },
    {
     "name": "stderr",
     "output_type": "stream",
     "text": [
      "INFO:tensorflow:Assets written to: h_models_rnn_td/model_c1\\0.905\\assets\n"
     ]
    },
    {
     "name": "stdout",
     "output_type": "stream",
     "text": [
      "Epoch 27/30\n",
      "284/284 [==============================] - 73s 257ms/step - loss: 0.0103 - accuracy: 0.9972 - val_loss: 0.6443 - val_accuracy: 0.9072\n"
     ]
    },
    {
     "name": "stderr",
     "output_type": "stream",
     "text": [
      "WARNING:absl:Found untraced functions such as lstm_cell_3_layer_call_and_return_conditional_losses, lstm_cell_3_layer_call_fn, lstm_cell_3_layer_call_fn, lstm_cell_3_layer_call_and_return_conditional_losses, lstm_cell_3_layer_call_and_return_conditional_losses while saving (showing 5 of 5). These functions will not be directly callable after loading.\n"
     ]
    },
    {
     "name": "stdout",
     "output_type": "stream",
     "text": [
      "INFO:tensorflow:Assets written to: h_models_rnn_td/model_c1\\0.907\\assets\n"
     ]
    },
    {
     "name": "stderr",
     "output_type": "stream",
     "text": [
      "INFO:tensorflow:Assets written to: h_models_rnn_td/model_c1\\0.907\\assets\n"
     ]
    },
    {
     "name": "stdout",
     "output_type": "stream",
     "text": [
      "Epoch 28/30\n",
      "284/284 [==============================] - 73s 257ms/step - loss: 0.0166 - accuracy: 0.9957 - val_loss: 0.6406 - val_accuracy: 0.9116\n"
     ]
    },
    {
     "name": "stderr",
     "output_type": "stream",
     "text": [
      "WARNING:absl:Found untraced functions such as lstm_cell_3_layer_call_and_return_conditional_losses, lstm_cell_3_layer_call_fn, lstm_cell_3_layer_call_fn, lstm_cell_3_layer_call_and_return_conditional_losses, lstm_cell_3_layer_call_and_return_conditional_losses while saving (showing 5 of 5). These functions will not be directly callable after loading.\n"
     ]
    },
    {
     "name": "stdout",
     "output_type": "stream",
     "text": [
      "INFO:tensorflow:Assets written to: h_models_rnn_td/model_c1\\0.912\\assets\n"
     ]
    },
    {
     "name": "stderr",
     "output_type": "stream",
     "text": [
      "INFO:tensorflow:Assets written to: h_models_rnn_td/model_c1\\0.912\\assets\n"
     ]
    },
    {
     "name": "stdout",
     "output_type": "stream",
     "text": [
      "Epoch 29/30\n",
      "284/284 [==============================] - 73s 257ms/step - loss: 0.0056 - accuracy: 0.9982 - val_loss: 0.6716 - val_accuracy: 0.9118\n"
     ]
    },
    {
     "name": "stderr",
     "output_type": "stream",
     "text": [
      "WARNING:absl:Found untraced functions such as lstm_cell_3_layer_call_and_return_conditional_losses, lstm_cell_3_layer_call_fn, lstm_cell_3_layer_call_fn, lstm_cell_3_layer_call_and_return_conditional_losses, lstm_cell_3_layer_call_and_return_conditional_losses while saving (showing 5 of 5). These functions will not be directly callable after loading.\n"
     ]
    },
    {
     "name": "stdout",
     "output_type": "stream",
     "text": [
      "INFO:tensorflow:Assets written to: h_models_rnn_td/model_c1\\0.912\\assets\n"
     ]
    },
    {
     "name": "stderr",
     "output_type": "stream",
     "text": [
      "INFO:tensorflow:Assets written to: h_models_rnn_td/model_c1\\0.912\\assets\n"
     ]
    },
    {
     "name": "stdout",
     "output_type": "stream",
     "text": [
      "Epoch 30/30\n",
      "284/284 [==============================] - 73s 257ms/step - loss: 0.0078 - accuracy: 0.9979 - val_loss: 0.6806 - val_accuracy: 0.9062\n"
     ]
    },
    {
     "name": "stderr",
     "output_type": "stream",
     "text": [
      "WARNING:absl:Found untraced functions such as lstm_cell_3_layer_call_and_return_conditional_losses, lstm_cell_3_layer_call_fn, lstm_cell_3_layer_call_fn, lstm_cell_3_layer_call_and_return_conditional_losses, lstm_cell_3_layer_call_and_return_conditional_losses while saving (showing 5 of 5). These functions will not be directly callable after loading.\n"
     ]
    },
    {
     "name": "stdout",
     "output_type": "stream",
     "text": [
      "INFO:tensorflow:Assets written to: h_models_rnn_td/model_c1\\0.906\\assets\n"
     ]
    },
    {
     "name": "stderr",
     "output_type": "stream",
     "text": [
      "INFO:tensorflow:Assets written to: h_models_rnn_td/model_c1\\0.906\\assets\n"
     ]
    }
   ],
   "source": [
    "# epochs = 30\n",
    "# batch_size = 128\n",
    "\n",
    "# history1 = model_c1.fit(train_X_c1, train_Y_c1,\n",
    "#                     validation_data=(test_X_c1, test_Y_c1),\n",
    "#                     epochs = epochs, batch_size = batch_size,\n",
    "#                     shuffle = True,\n",
    "#                     callbacks = [ModelCheckpoint('h_models_rnn/model_c1/{val_accuracy:.3f}', save_weights_only=False)])"
   ]
  },
  {
   "cell_type": "markdown",
   "metadata": {
    "id": "4xGCUYacLPHe"
   },
   "source": [
    "# Creating RNN Architecture and Train Model - Category2"
   ]
  },
  {
   "cell_type": "code",
   "execution_count": 38,
   "metadata": {
    "colab": {
     "base_uri": "https://localhost:8080/"
    },
    "executionInfo": {
     "elapsed": 297,
     "status": "ok",
     "timestamp": 1622694970022,
     "user": {
      "displayName": "k180179 Uzair Ahmed Mughal",
      "photoUrl": "https://lh3.googleusercontent.com/a-/AOh14Ggi_ZIAuLgChzAna20D2R6uP4K3a8Mkko2akp-5=s64",
      "userId": "17106050686746443054"
     },
     "user_tz": -300
    },
    "id": "LB-KAmfDmRPT",
    "outputId": "3bfce171-22ab-4bc1-bef4-a6d7809cec8c"
   },
   "outputs": [
    {
     "name": "stdout",
     "output_type": "stream",
     "text": [
      "Model: \"sequential_13\"\n",
      "_________________________________________________________________\n",
      "Layer (type)                 Output Shape              Param #   \n",
      "=================================================================\n",
      "embedding_13 (Embedding)     (None, 856, 100)          5740800   \n",
      "_________________________________________________________________\n",
      "lstm_6 (LSTM)                (None, 512)               1255424   \n",
      "_________________________________________________________________\n",
      "dropout_6 (Dropout)          (None, 512)               0         \n",
      "_________________________________________________________________\n",
      "dense_12 (Dense)             (None, 128)               65664     \n",
      "_________________________________________________________________\n",
      "dense_13 (Dense)             (None, 57)                7353      \n",
      "=================================================================\n",
      "Total params: 7,069,241\n",
      "Trainable params: 7,069,241\n",
      "Non-trainable params: 0\n",
      "_________________________________________________________________\n"
     ]
    }
   ],
   "source": [
    "# c2_count=train_df['c2'].nunique()\n",
    "# embeddingDimensions = 100\n",
    "\n",
    "# model_c2 = Sequential()\n",
    "# model_c2.add(Embedding(VocabSize, embeddingDimensions, input_length = MaxWordLength))\n",
    "# model_c2.add(LSTM(512, activation=\"tanh\", recurrent_activation=\"sigmoid\", use_bias=True, unroll=False))\n",
    "# model_c2.add(Dropout(0.4))\n",
    "# model_c2.add(Dense(128, activation='relu'))\n",
    "# model_c2.add(Dense(c2_count, activation = 'softmax'))\n",
    "# model_c2.compile(loss = 'categorical_crossentropy', optimizer = 'adam', metrics = ['accuracy'])\n",
    "\n",
    "# model_c2.summary()"
   ]
  },
  {
   "cell_type": "code",
   "execution_count": 39,
   "metadata": {
    "colab": {
     "base_uri": "https://localhost:8080/"
    },
    "executionInfo": {
     "elapsed": 1004685,
     "status": "ok",
     "timestamp": 1622695974704,
     "user": {
      "displayName": "k180179 Uzair Ahmed Mughal",
      "photoUrl": "https://lh3.googleusercontent.com/a-/AOh14Ggi_ZIAuLgChzAna20D2R6uP4K3a8Mkko2akp-5=s64",
      "userId": "17106050686746443054"
     },
     "user_tz": -300
    },
    "id": "sZS854FQLQDB",
    "outputId": "57b334f5-99c0-459f-8bf6-143255fd649f"
   },
   "outputs": [
    {
     "name": "stdout",
     "output_type": "stream",
     "text": [
      "Epoch 1/30\n",
      "284/284 [==============================] - 77s 262ms/step - loss: 2.5034 - accuracy: 0.3811 - val_loss: 0.7944 - val_accuracy: 0.7431\n"
     ]
    },
    {
     "name": "stderr",
     "output_type": "stream",
     "text": [
      "WARNING:absl:Found untraced functions such as lstm_cell_6_layer_call_and_return_conditional_losses, lstm_cell_6_layer_call_fn, lstm_cell_6_layer_call_fn, lstm_cell_6_layer_call_and_return_conditional_losses, lstm_cell_6_layer_call_and_return_conditional_losses while saving (showing 5 of 5). These functions will not be directly callable after loading.\n"
     ]
    },
    {
     "name": "stdout",
     "output_type": "stream",
     "text": [
      "INFO:tensorflow:Assets written to: h_models_rnn_td/model_c2\\0.743\\assets\n"
     ]
    },
    {
     "name": "stderr",
     "output_type": "stream",
     "text": [
      "INFO:tensorflow:Assets written to: h_models_rnn_td/model_c2\\0.743\\assets\n"
     ]
    },
    {
     "name": "stdout",
     "output_type": "stream",
     "text": [
      "Epoch 2/30\n",
      "284/284 [==============================] - 74s 260ms/step - loss: 0.6831 - accuracy: 0.7786 - val_loss: 0.6210 - val_accuracy: 0.7929\n"
     ]
    },
    {
     "name": "stderr",
     "output_type": "stream",
     "text": [
      "WARNING:absl:Found untraced functions such as lstm_cell_6_layer_call_and_return_conditional_losses, lstm_cell_6_layer_call_fn, lstm_cell_6_layer_call_fn, lstm_cell_6_layer_call_and_return_conditional_losses, lstm_cell_6_layer_call_and_return_conditional_losses while saving (showing 5 of 5). These functions will not be directly callable after loading.\n"
     ]
    },
    {
     "name": "stdout",
     "output_type": "stream",
     "text": [
      "INFO:tensorflow:Assets written to: h_models_rnn_td/model_c2\\0.793\\assets\n"
     ]
    },
    {
     "name": "stderr",
     "output_type": "stream",
     "text": [
      "INFO:tensorflow:Assets written to: h_models_rnn_td/model_c2\\0.793\\assets\n"
     ]
    },
    {
     "name": "stdout",
     "output_type": "stream",
     "text": [
      "Epoch 3/30\n",
      "284/284 [==============================] - 74s 261ms/step - loss: 0.4580 - accuracy: 0.8554 - val_loss: 0.5103 - val_accuracy: 0.8462\n"
     ]
    },
    {
     "name": "stderr",
     "output_type": "stream",
     "text": [
      "WARNING:absl:Found untraced functions such as lstm_cell_6_layer_call_and_return_conditional_losses, lstm_cell_6_layer_call_fn, lstm_cell_6_layer_call_fn, lstm_cell_6_layer_call_and_return_conditional_losses, lstm_cell_6_layer_call_and_return_conditional_losses while saving (showing 5 of 5). These functions will not be directly callable after loading.\n"
     ]
    },
    {
     "name": "stdout",
     "output_type": "stream",
     "text": [
      "INFO:tensorflow:Assets written to: h_models_rnn_td/model_c2\\0.846\\assets\n"
     ]
    },
    {
     "name": "stderr",
     "output_type": "stream",
     "text": [
      "INFO:tensorflow:Assets written to: h_models_rnn_td/model_c2\\0.846\\assets\n"
     ]
    },
    {
     "name": "stdout",
     "output_type": "stream",
     "text": [
      "Epoch 4/30\n",
      "284/284 [==============================] - 75s 263ms/step - loss: 0.3037 - accuracy: 0.9078 - val_loss: 0.5494 - val_accuracy: 0.8381\n"
     ]
    },
    {
     "name": "stderr",
     "output_type": "stream",
     "text": [
      "WARNING:absl:Found untraced functions such as lstm_cell_6_layer_call_and_return_conditional_losses, lstm_cell_6_layer_call_fn, lstm_cell_6_layer_call_fn, lstm_cell_6_layer_call_and_return_conditional_losses, lstm_cell_6_layer_call_and_return_conditional_losses while saving (showing 5 of 5). These functions will not be directly callable after loading.\n"
     ]
    },
    {
     "name": "stdout",
     "output_type": "stream",
     "text": [
      "INFO:tensorflow:Assets written to: h_models_rnn_td/model_c2\\0.838\\assets\n"
     ]
    },
    {
     "name": "stderr",
     "output_type": "stream",
     "text": [
      "INFO:tensorflow:Assets written to: h_models_rnn_td/model_c2\\0.838\\assets\n"
     ]
    },
    {
     "name": "stdout",
     "output_type": "stream",
     "text": [
      "Epoch 5/30\n",
      "284/284 [==============================] - 75s 263ms/step - loss: 0.2632 - accuracy: 0.9196 - val_loss: 0.4607 - val_accuracy: 0.8723\n"
     ]
    },
    {
     "name": "stderr",
     "output_type": "stream",
     "text": [
      "WARNING:absl:Found untraced functions such as lstm_cell_6_layer_call_and_return_conditional_losses, lstm_cell_6_layer_call_fn, lstm_cell_6_layer_call_fn, lstm_cell_6_layer_call_and_return_conditional_losses, lstm_cell_6_layer_call_and_return_conditional_losses while saving (showing 5 of 5). These functions will not be directly callable after loading.\n"
     ]
    },
    {
     "name": "stdout",
     "output_type": "stream",
     "text": [
      "INFO:tensorflow:Assets written to: h_models_rnn_td/model_c2\\0.872\\assets\n"
     ]
    },
    {
     "name": "stderr",
     "output_type": "stream",
     "text": [
      "INFO:tensorflow:Assets written to: h_models_rnn_td/model_c2\\0.872\\assets\n"
     ]
    },
    {
     "name": "stdout",
     "output_type": "stream",
     "text": [
      "Epoch 6/30\n",
      "284/284 [==============================] - 74s 262ms/step - loss: 0.1663 - accuracy: 0.9524 - val_loss: 0.4715 - val_accuracy: 0.8707\n"
     ]
    },
    {
     "name": "stderr",
     "output_type": "stream",
     "text": [
      "WARNING:absl:Found untraced functions such as lstm_cell_6_layer_call_and_return_conditional_losses, lstm_cell_6_layer_call_fn, lstm_cell_6_layer_call_fn, lstm_cell_6_layer_call_and_return_conditional_losses, lstm_cell_6_layer_call_and_return_conditional_losses while saving (showing 5 of 5). These functions will not be directly callable after loading.\n"
     ]
    },
    {
     "name": "stdout",
     "output_type": "stream",
     "text": [
      "INFO:tensorflow:Assets written to: h_models_rnn_td/model_c2\\0.871\\assets\n"
     ]
    },
    {
     "name": "stderr",
     "output_type": "stream",
     "text": [
      "INFO:tensorflow:Assets written to: h_models_rnn_td/model_c2\\0.871\\assets\n"
     ]
    },
    {
     "name": "stdout",
     "output_type": "stream",
     "text": [
      "Epoch 7/30\n",
      "284/284 [==============================] - 75s 262ms/step - loss: 0.1372 - accuracy: 0.9611 - val_loss: 0.4968 - val_accuracy: 0.8811\n"
     ]
    },
    {
     "name": "stderr",
     "output_type": "stream",
     "text": [
      "WARNING:absl:Found untraced functions such as lstm_cell_6_layer_call_and_return_conditional_losses, lstm_cell_6_layer_call_fn, lstm_cell_6_layer_call_fn, lstm_cell_6_layer_call_and_return_conditional_losses, lstm_cell_6_layer_call_and_return_conditional_losses while saving (showing 5 of 5). These functions will not be directly callable after loading.\n"
     ]
    },
    {
     "name": "stdout",
     "output_type": "stream",
     "text": [
      "INFO:tensorflow:Assets written to: h_models_rnn_td/model_c2\\0.881\\assets\n"
     ]
    },
    {
     "name": "stderr",
     "output_type": "stream",
     "text": [
      "INFO:tensorflow:Assets written to: h_models_rnn_td/model_c2\\0.881\\assets\n"
     ]
    },
    {
     "name": "stdout",
     "output_type": "stream",
     "text": [
      "Epoch 8/30\n",
      "284/284 [==============================] - 75s 263ms/step - loss: 0.1080 - accuracy: 0.9691 - val_loss: 0.5547 - val_accuracy: 0.8730\n"
     ]
    },
    {
     "name": "stderr",
     "output_type": "stream",
     "text": [
      "WARNING:absl:Found untraced functions such as lstm_cell_6_layer_call_and_return_conditional_losses, lstm_cell_6_layer_call_fn, lstm_cell_6_layer_call_fn, lstm_cell_6_layer_call_and_return_conditional_losses, lstm_cell_6_layer_call_and_return_conditional_losses while saving (showing 5 of 5). These functions will not be directly callable after loading.\n"
     ]
    },
    {
     "name": "stdout",
     "output_type": "stream",
     "text": [
      "INFO:tensorflow:Assets written to: h_models_rnn_td/model_c2\\0.873\\assets\n"
     ]
    },
    {
     "name": "stderr",
     "output_type": "stream",
     "text": [
      "INFO:tensorflow:Assets written to: h_models_rnn_td/model_c2\\0.873\\assets\n"
     ]
    },
    {
     "name": "stdout",
     "output_type": "stream",
     "text": [
      "Epoch 9/30\n",
      "284/284 [==============================] - 76s 269ms/step - loss: 0.0916 - accuracy: 0.9732 - val_loss: 0.5462 - val_accuracy: 0.8775\n"
     ]
    },
    {
     "name": "stderr",
     "output_type": "stream",
     "text": [
      "WARNING:absl:Found untraced functions such as lstm_cell_6_layer_call_and_return_conditional_losses, lstm_cell_6_layer_call_fn, lstm_cell_6_layer_call_fn, lstm_cell_6_layer_call_and_return_conditional_losses, lstm_cell_6_layer_call_and_return_conditional_losses while saving (showing 5 of 5). These functions will not be directly callable after loading.\n"
     ]
    },
    {
     "name": "stdout",
     "output_type": "stream",
     "text": [
      "INFO:tensorflow:Assets written to: h_models_rnn_td/model_c2\\0.878\\assets\n"
     ]
    },
    {
     "name": "stderr",
     "output_type": "stream",
     "text": [
      "INFO:tensorflow:Assets written to: h_models_rnn_td/model_c2\\0.878\\assets\n"
     ]
    },
    {
     "name": "stdout",
     "output_type": "stream",
     "text": [
      "Epoch 10/30\n",
      "284/284 [==============================] - 77s 273ms/step - loss: 0.0694 - accuracy: 0.9811 - val_loss: 0.6387 - val_accuracy: 0.8719\n"
     ]
    },
    {
     "name": "stderr",
     "output_type": "stream",
     "text": [
      "WARNING:absl:Found untraced functions such as lstm_cell_6_layer_call_and_return_conditional_losses, lstm_cell_6_layer_call_fn, lstm_cell_6_layer_call_fn, lstm_cell_6_layer_call_and_return_conditional_losses, lstm_cell_6_layer_call_and_return_conditional_losses while saving (showing 5 of 5). These functions will not be directly callable after loading.\n"
     ]
    },
    {
     "name": "stdout",
     "output_type": "stream",
     "text": [
      "INFO:tensorflow:Assets written to: h_models_rnn_td/model_c2\\0.872\\assets\n"
     ]
    },
    {
     "name": "stderr",
     "output_type": "stream",
     "text": [
      "INFO:tensorflow:Assets written to: h_models_rnn_td/model_c2\\0.872\\assets\n"
     ]
    },
    {
     "name": "stdout",
     "output_type": "stream",
     "text": [
      "Epoch 11/30\n",
      "284/284 [==============================] - 76s 269ms/step - loss: 0.0606 - accuracy: 0.9825 - val_loss: 0.6135 - val_accuracy: 0.8730\n"
     ]
    },
    {
     "name": "stderr",
     "output_type": "stream",
     "text": [
      "WARNING:absl:Found untraced functions such as lstm_cell_6_layer_call_and_return_conditional_losses, lstm_cell_6_layer_call_fn, lstm_cell_6_layer_call_fn, lstm_cell_6_layer_call_and_return_conditional_losses, lstm_cell_6_layer_call_and_return_conditional_losses while saving (showing 5 of 5). These functions will not be directly callable after loading.\n"
     ]
    },
    {
     "name": "stdout",
     "output_type": "stream",
     "text": [
      "INFO:tensorflow:Assets written to: h_models_rnn_td/model_c2\\0.873\\assets\n"
     ]
    },
    {
     "name": "stderr",
     "output_type": "stream",
     "text": [
      "INFO:tensorflow:Assets written to: h_models_rnn_td/model_c2\\0.873\\assets\n"
     ]
    },
    {
     "name": "stdout",
     "output_type": "stream",
     "text": [
      "Epoch 12/30\n",
      "284/284 [==============================] - 76s 268ms/step - loss: 0.0514 - accuracy: 0.9852 - val_loss: 0.6831 - val_accuracy: 0.8734\n"
     ]
    },
    {
     "name": "stderr",
     "output_type": "stream",
     "text": [
      "WARNING:absl:Found untraced functions such as lstm_cell_6_layer_call_and_return_conditional_losses, lstm_cell_6_layer_call_fn, lstm_cell_6_layer_call_fn, lstm_cell_6_layer_call_and_return_conditional_losses, lstm_cell_6_layer_call_and_return_conditional_losses while saving (showing 5 of 5). These functions will not be directly callable after loading.\n"
     ]
    },
    {
     "name": "stdout",
     "output_type": "stream",
     "text": [
      "INFO:tensorflow:Assets written to: h_models_rnn_td/model_c2\\0.873\\assets\n"
     ]
    },
    {
     "name": "stderr",
     "output_type": "stream",
     "text": [
      "INFO:tensorflow:Assets written to: h_models_rnn_td/model_c2\\0.873\\assets\n"
     ]
    },
    {
     "name": "stdout",
     "output_type": "stream",
     "text": [
      "Epoch 13/30\n",
      "284/284 [==============================] - 76s 268ms/step - loss: 0.0417 - accuracy: 0.9872 - val_loss: 0.6873 - val_accuracy: 0.8770\n"
     ]
    },
    {
     "name": "stderr",
     "output_type": "stream",
     "text": [
      "WARNING:absl:Found untraced functions such as lstm_cell_6_layer_call_and_return_conditional_losses, lstm_cell_6_layer_call_fn, lstm_cell_6_layer_call_fn, lstm_cell_6_layer_call_and_return_conditional_losses, lstm_cell_6_layer_call_and_return_conditional_losses while saving (showing 5 of 5). These functions will not be directly callable after loading.\n"
     ]
    },
    {
     "name": "stdout",
     "output_type": "stream",
     "text": [
      "INFO:tensorflow:Assets written to: h_models_rnn_td/model_c2\\0.877\\assets\n"
     ]
    },
    {
     "name": "stderr",
     "output_type": "stream",
     "text": [
      "INFO:tensorflow:Assets written to: h_models_rnn_td/model_c2\\0.877\\assets\n"
     ]
    },
    {
     "name": "stdout",
     "output_type": "stream",
     "text": [
      "Epoch 14/30\n",
      "284/284 [==============================] - 76s 267ms/step - loss: 0.0344 - accuracy: 0.9893 - val_loss: 0.7234 - val_accuracy: 0.8703\n"
     ]
    },
    {
     "name": "stderr",
     "output_type": "stream",
     "text": [
      "WARNING:absl:Found untraced functions such as lstm_cell_6_layer_call_and_return_conditional_losses, lstm_cell_6_layer_call_fn, lstm_cell_6_layer_call_fn, lstm_cell_6_layer_call_and_return_conditional_losses, lstm_cell_6_layer_call_and_return_conditional_losses while saving (showing 5 of 5). These functions will not be directly callable after loading.\n"
     ]
    },
    {
     "name": "stdout",
     "output_type": "stream",
     "text": [
      "INFO:tensorflow:Assets written to: h_models_rnn_td/model_c2\\0.870\\assets\n"
     ]
    },
    {
     "name": "stderr",
     "output_type": "stream",
     "text": [
      "INFO:tensorflow:Assets written to: h_models_rnn_td/model_c2\\0.870\\assets\n"
     ]
    },
    {
     "name": "stdout",
     "output_type": "stream",
     "text": [
      "Epoch 15/30\n",
      "284/284 [==============================] - 76s 268ms/step - loss: 0.0332 - accuracy: 0.9896 - val_loss: 0.7577 - val_accuracy: 0.8734\n"
     ]
    },
    {
     "name": "stderr",
     "output_type": "stream",
     "text": [
      "WARNING:absl:Found untraced functions such as lstm_cell_6_layer_call_and_return_conditional_losses, lstm_cell_6_layer_call_fn, lstm_cell_6_layer_call_fn, lstm_cell_6_layer_call_and_return_conditional_losses, lstm_cell_6_layer_call_and_return_conditional_losses while saving (showing 5 of 5). These functions will not be directly callable after loading.\n"
     ]
    },
    {
     "name": "stdout",
     "output_type": "stream",
     "text": [
      "INFO:tensorflow:Assets written to: h_models_rnn_td/model_c2\\0.873\\assets\n"
     ]
    },
    {
     "name": "stderr",
     "output_type": "stream",
     "text": [
      "INFO:tensorflow:Assets written to: h_models_rnn_td/model_c2\\0.873\\assets\n"
     ]
    },
    {
     "name": "stdout",
     "output_type": "stream",
     "text": [
      "Epoch 16/30\n",
      "284/284 [==============================] - 76s 268ms/step - loss: 0.0293 - accuracy: 0.9909 - val_loss: 0.7358 - val_accuracy: 0.8728\n"
     ]
    },
    {
     "name": "stderr",
     "output_type": "stream",
     "text": [
      "WARNING:absl:Found untraced functions such as lstm_cell_6_layer_call_and_return_conditional_losses, lstm_cell_6_layer_call_fn, lstm_cell_6_layer_call_fn, lstm_cell_6_layer_call_and_return_conditional_losses, lstm_cell_6_layer_call_and_return_conditional_losses while saving (showing 5 of 5). These functions will not be directly callable after loading.\n"
     ]
    },
    {
     "name": "stdout",
     "output_type": "stream",
     "text": [
      "INFO:tensorflow:Assets written to: h_models_rnn_td/model_c2\\0.873\\assets\n"
     ]
    },
    {
     "name": "stderr",
     "output_type": "stream",
     "text": [
      "INFO:tensorflow:Assets written to: h_models_rnn_td/model_c2\\0.873\\assets\n"
     ]
    },
    {
     "name": "stdout",
     "output_type": "stream",
     "text": [
      "Epoch 17/30\n",
      "284/284 [==============================] - 76s 267ms/step - loss: 0.0221 - accuracy: 0.9937 - val_loss: 0.7748 - val_accuracy: 0.8785\n"
     ]
    },
    {
     "name": "stderr",
     "output_type": "stream",
     "text": [
      "WARNING:absl:Found untraced functions such as lstm_cell_6_layer_call_and_return_conditional_losses, lstm_cell_6_layer_call_fn, lstm_cell_6_layer_call_fn, lstm_cell_6_layer_call_and_return_conditional_losses, lstm_cell_6_layer_call_and_return_conditional_losses while saving (showing 5 of 5). These functions will not be directly callable after loading.\n"
     ]
    },
    {
     "name": "stdout",
     "output_type": "stream",
     "text": [
      "INFO:tensorflow:Assets written to: h_models_rnn_td/model_c2\\0.879\\assets\n"
     ]
    },
    {
     "name": "stderr",
     "output_type": "stream",
     "text": [
      "INFO:tensorflow:Assets written to: h_models_rnn_td/model_c2\\0.879\\assets\n"
     ]
    },
    {
     "name": "stdout",
     "output_type": "stream",
     "text": [
      "Epoch 18/30\n",
      "284/284 [==============================] - 76s 267ms/step - loss: 0.0227 - accuracy: 0.9936 - val_loss: 0.8423 - val_accuracy: 0.8795\n"
     ]
    },
    {
     "name": "stderr",
     "output_type": "stream",
     "text": [
      "WARNING:absl:Found untraced functions such as lstm_cell_6_layer_call_and_return_conditional_losses, lstm_cell_6_layer_call_fn, lstm_cell_6_layer_call_fn, lstm_cell_6_layer_call_and_return_conditional_losses, lstm_cell_6_layer_call_and_return_conditional_losses while saving (showing 5 of 5). These functions will not be directly callable after loading.\n"
     ]
    },
    {
     "name": "stdout",
     "output_type": "stream",
     "text": [
      "INFO:tensorflow:Assets written to: h_models_rnn_td/model_c2\\0.880\\assets\n"
     ]
    },
    {
     "name": "stderr",
     "output_type": "stream",
     "text": [
      "INFO:tensorflow:Assets written to: h_models_rnn_td/model_c2\\0.880\\assets\n"
     ]
    },
    {
     "name": "stdout",
     "output_type": "stream",
     "text": [
      "Epoch 19/30\n",
      "284/284 [==============================] - 76s 267ms/step - loss: 0.0177 - accuracy: 0.9947 - val_loss: 0.7940 - val_accuracy: 0.8724\n"
     ]
    },
    {
     "name": "stderr",
     "output_type": "stream",
     "text": [
      "WARNING:absl:Found untraced functions such as lstm_cell_6_layer_call_and_return_conditional_losses, lstm_cell_6_layer_call_fn, lstm_cell_6_layer_call_fn, lstm_cell_6_layer_call_and_return_conditional_losses, lstm_cell_6_layer_call_and_return_conditional_losses while saving (showing 5 of 5). These functions will not be directly callable after loading.\n"
     ]
    },
    {
     "name": "stdout",
     "output_type": "stream",
     "text": [
      "INFO:tensorflow:Assets written to: h_models_rnn_td/model_c2\\0.872\\assets\n"
     ]
    },
    {
     "name": "stderr",
     "output_type": "stream",
     "text": [
      "INFO:tensorflow:Assets written to: h_models_rnn_td/model_c2\\0.872\\assets\n"
     ]
    },
    {
     "name": "stdout",
     "output_type": "stream",
     "text": [
      "Epoch 20/30\n",
      "284/284 [==============================] - 76s 266ms/step - loss: 0.0165 - accuracy: 0.9950 - val_loss: 0.8653 - val_accuracy: 0.8772\n"
     ]
    },
    {
     "name": "stderr",
     "output_type": "stream",
     "text": [
      "WARNING:absl:Found untraced functions such as lstm_cell_6_layer_call_and_return_conditional_losses, lstm_cell_6_layer_call_fn, lstm_cell_6_layer_call_fn, lstm_cell_6_layer_call_and_return_conditional_losses, lstm_cell_6_layer_call_and_return_conditional_losses while saving (showing 5 of 5). These functions will not be directly callable after loading.\n"
     ]
    },
    {
     "name": "stdout",
     "output_type": "stream",
     "text": [
      "INFO:tensorflow:Assets written to: h_models_rnn_td/model_c2\\0.877\\assets\n"
     ]
    },
    {
     "name": "stderr",
     "output_type": "stream",
     "text": [
      "INFO:tensorflow:Assets written to: h_models_rnn_td/model_c2\\0.877\\assets\n"
     ]
    },
    {
     "name": "stdout",
     "output_type": "stream",
     "text": [
      "Epoch 21/30\n",
      "284/284 [==============================] - 76s 267ms/step - loss: 0.0189 - accuracy: 0.9942 - val_loss: 0.9151 - val_accuracy: 0.8750\n"
     ]
    },
    {
     "name": "stderr",
     "output_type": "stream",
     "text": [
      "WARNING:absl:Found untraced functions such as lstm_cell_6_layer_call_and_return_conditional_losses, lstm_cell_6_layer_call_fn, lstm_cell_6_layer_call_fn, lstm_cell_6_layer_call_and_return_conditional_losses, lstm_cell_6_layer_call_and_return_conditional_losses while saving (showing 5 of 5). These functions will not be directly callable after loading.\n"
     ]
    },
    {
     "name": "stdout",
     "output_type": "stream",
     "text": [
      "INFO:tensorflow:Assets written to: h_models_rnn_td/model_c2\\0.875\\assets\n"
     ]
    },
    {
     "name": "stderr",
     "output_type": "stream",
     "text": [
      "INFO:tensorflow:Assets written to: h_models_rnn_td/model_c2\\0.875\\assets\n"
     ]
    },
    {
     "name": "stdout",
     "output_type": "stream",
     "text": [
      "Epoch 22/30\n",
      "284/284 [==============================] - 76s 267ms/step - loss: 0.0197 - accuracy: 0.9941 - val_loss: 0.8378 - val_accuracy: 0.8702\n"
     ]
    },
    {
     "name": "stderr",
     "output_type": "stream",
     "text": [
      "WARNING:absl:Found untraced functions such as lstm_cell_6_layer_call_and_return_conditional_losses, lstm_cell_6_layer_call_fn, lstm_cell_6_layer_call_fn, lstm_cell_6_layer_call_and_return_conditional_losses, lstm_cell_6_layer_call_and_return_conditional_losses while saving (showing 5 of 5). These functions will not be directly callable after loading.\n"
     ]
    },
    {
     "name": "stdout",
     "output_type": "stream",
     "text": [
      "INFO:tensorflow:Assets written to: h_models_rnn_td/model_c2\\0.870\\assets\n"
     ]
    },
    {
     "name": "stderr",
     "output_type": "stream",
     "text": [
      "INFO:tensorflow:Assets written to: h_models_rnn_td/model_c2\\0.870\\assets\n"
     ]
    },
    {
     "name": "stdout",
     "output_type": "stream",
     "text": [
      "Epoch 23/30\n",
      "284/284 [==============================] - 76s 267ms/step - loss: 0.0199 - accuracy: 0.9947 - val_loss: 0.9102 - val_accuracy: 0.8688\n"
     ]
    },
    {
     "name": "stderr",
     "output_type": "stream",
     "text": [
      "WARNING:absl:Found untraced functions such as lstm_cell_6_layer_call_and_return_conditional_losses, lstm_cell_6_layer_call_fn, lstm_cell_6_layer_call_fn, lstm_cell_6_layer_call_and_return_conditional_losses, lstm_cell_6_layer_call_and_return_conditional_losses while saving (showing 5 of 5). These functions will not be directly callable after loading.\n"
     ]
    },
    {
     "name": "stdout",
     "output_type": "stream",
     "text": [
      "INFO:tensorflow:Assets written to: h_models_rnn_td/model_c2\\0.869\\assets\n"
     ]
    },
    {
     "name": "stderr",
     "output_type": "stream",
     "text": [
      "INFO:tensorflow:Assets written to: h_models_rnn_td/model_c2\\0.869\\assets\n"
     ]
    },
    {
     "name": "stdout",
     "output_type": "stream",
     "text": [
      "Epoch 24/30\n",
      "284/284 [==============================] - 76s 268ms/step - loss: 0.0131 - accuracy: 0.9967 - val_loss: 0.9432 - val_accuracy: 0.8714\n"
     ]
    },
    {
     "name": "stderr",
     "output_type": "stream",
     "text": [
      "WARNING:absl:Found untraced functions such as lstm_cell_6_layer_call_and_return_conditional_losses, lstm_cell_6_layer_call_fn, lstm_cell_6_layer_call_fn, lstm_cell_6_layer_call_and_return_conditional_losses, lstm_cell_6_layer_call_and_return_conditional_losses while saving (showing 5 of 5). These functions will not be directly callable after loading.\n"
     ]
    },
    {
     "name": "stdout",
     "output_type": "stream",
     "text": [
      "INFO:tensorflow:Assets written to: h_models_rnn_td/model_c2\\0.871\\assets\n"
     ]
    },
    {
     "name": "stderr",
     "output_type": "stream",
     "text": [
      "INFO:tensorflow:Assets written to: h_models_rnn_td/model_c2\\0.871\\assets\n"
     ]
    },
    {
     "name": "stdout",
     "output_type": "stream",
     "text": [
      "Epoch 25/30\n",
      "284/284 [==============================] - 76s 267ms/step - loss: 0.0076 - accuracy: 0.9977 - val_loss: 1.0648 - val_accuracy: 0.8703\n"
     ]
    },
    {
     "name": "stderr",
     "output_type": "stream",
     "text": [
      "WARNING:absl:Found untraced functions such as lstm_cell_6_layer_call_and_return_conditional_losses, lstm_cell_6_layer_call_fn, lstm_cell_6_layer_call_fn, lstm_cell_6_layer_call_and_return_conditional_losses, lstm_cell_6_layer_call_and_return_conditional_losses while saving (showing 5 of 5). These functions will not be directly callable after loading.\n"
     ]
    },
    {
     "name": "stdout",
     "output_type": "stream",
     "text": [
      "INFO:tensorflow:Assets written to: h_models_rnn_td/model_c2\\0.870\\assets\n"
     ]
    },
    {
     "name": "stderr",
     "output_type": "stream",
     "text": [
      "INFO:tensorflow:Assets written to: h_models_rnn_td/model_c2\\0.870\\assets\n"
     ]
    },
    {
     "name": "stdout",
     "output_type": "stream",
     "text": [
      "Epoch 26/30\n",
      "284/284 [==============================] - 76s 266ms/step - loss: 0.0106 - accuracy: 0.9973 - val_loss: 1.0236 - val_accuracy: 0.8748\n"
     ]
    },
    {
     "name": "stderr",
     "output_type": "stream",
     "text": [
      "WARNING:absl:Found untraced functions such as lstm_cell_6_layer_call_and_return_conditional_losses, lstm_cell_6_layer_call_fn, lstm_cell_6_layer_call_fn, lstm_cell_6_layer_call_and_return_conditional_losses, lstm_cell_6_layer_call_and_return_conditional_losses while saving (showing 5 of 5). These functions will not be directly callable after loading.\n"
     ]
    },
    {
     "name": "stdout",
     "output_type": "stream",
     "text": [
      "INFO:tensorflow:Assets written to: h_models_rnn_td/model_c2\\0.875\\assets\n"
     ]
    },
    {
     "name": "stderr",
     "output_type": "stream",
     "text": [
      "INFO:tensorflow:Assets written to: h_models_rnn_td/model_c2\\0.875\\assets\n"
     ]
    },
    {
     "name": "stdout",
     "output_type": "stream",
     "text": [
      "Epoch 27/30\n",
      "284/284 [==============================] - 76s 266ms/step - loss: 0.0100 - accuracy: 0.9969 - val_loss: 1.0100 - val_accuracy: 0.8758\n"
     ]
    },
    {
     "name": "stderr",
     "output_type": "stream",
     "text": [
      "WARNING:absl:Found untraced functions such as lstm_cell_6_layer_call_and_return_conditional_losses, lstm_cell_6_layer_call_fn, lstm_cell_6_layer_call_fn, lstm_cell_6_layer_call_and_return_conditional_losses, lstm_cell_6_layer_call_and_return_conditional_losses while saving (showing 5 of 5). These functions will not be directly callable after loading.\n"
     ]
    },
    {
     "name": "stdout",
     "output_type": "stream",
     "text": [
      "INFO:tensorflow:Assets written to: h_models_rnn_td/model_c2\\0.876\\assets\n"
     ]
    },
    {
     "name": "stderr",
     "output_type": "stream",
     "text": [
      "INFO:tensorflow:Assets written to: h_models_rnn_td/model_c2\\0.876\\assets\n"
     ]
    },
    {
     "name": "stdout",
     "output_type": "stream",
     "text": [
      "Epoch 28/30\n",
      "284/284 [==============================] - 76s 266ms/step - loss: 0.0113 - accuracy: 0.9968 - val_loss: 0.9682 - val_accuracy: 0.8773\n"
     ]
    },
    {
     "name": "stderr",
     "output_type": "stream",
     "text": [
      "WARNING:absl:Found untraced functions such as lstm_cell_6_layer_call_and_return_conditional_losses, lstm_cell_6_layer_call_fn, lstm_cell_6_layer_call_fn, lstm_cell_6_layer_call_and_return_conditional_losses, lstm_cell_6_layer_call_and_return_conditional_losses while saving (showing 5 of 5). These functions will not be directly callable after loading.\n"
     ]
    },
    {
     "name": "stdout",
     "output_type": "stream",
     "text": [
      "INFO:tensorflow:Assets written to: h_models_rnn_td/model_c2\\0.877\\assets\n"
     ]
    },
    {
     "name": "stderr",
     "output_type": "stream",
     "text": [
      "INFO:tensorflow:Assets written to: h_models_rnn_td/model_c2\\0.877\\assets\n"
     ]
    },
    {
     "name": "stdout",
     "output_type": "stream",
     "text": [
      "Epoch 29/30\n",
      "284/284 [==============================] - 76s 267ms/step - loss: 0.0095 - accuracy: 0.9974 - val_loss: 0.9656 - val_accuracy: 0.8720\n"
     ]
    },
    {
     "name": "stderr",
     "output_type": "stream",
     "text": [
      "WARNING:absl:Found untraced functions such as lstm_cell_6_layer_call_and_return_conditional_losses, lstm_cell_6_layer_call_fn, lstm_cell_6_layer_call_fn, lstm_cell_6_layer_call_and_return_conditional_losses, lstm_cell_6_layer_call_and_return_conditional_losses while saving (showing 5 of 5). These functions will not be directly callable after loading.\n"
     ]
    },
    {
     "name": "stdout",
     "output_type": "stream",
     "text": [
      "INFO:tensorflow:Assets written to: h_models_rnn_td/model_c2\\0.872\\assets\n"
     ]
    },
    {
     "name": "stderr",
     "output_type": "stream",
     "text": [
      "INFO:tensorflow:Assets written to: h_models_rnn_td/model_c2\\0.872\\assets\n"
     ]
    },
    {
     "name": "stdout",
     "output_type": "stream",
     "text": [
      "Epoch 30/30\n",
      "284/284 [==============================] - 76s 267ms/step - loss: 0.0138 - accuracy: 0.9965 - val_loss: 0.9663 - val_accuracy: 0.8711\n"
     ]
    },
    {
     "name": "stderr",
     "output_type": "stream",
     "text": [
      "WARNING:absl:Found untraced functions such as lstm_cell_6_layer_call_and_return_conditional_losses, lstm_cell_6_layer_call_fn, lstm_cell_6_layer_call_fn, lstm_cell_6_layer_call_and_return_conditional_losses, lstm_cell_6_layer_call_and_return_conditional_losses while saving (showing 5 of 5). These functions will not be directly callable after loading.\n"
     ]
    },
    {
     "name": "stdout",
     "output_type": "stream",
     "text": [
      "INFO:tensorflow:Assets written to: h_models_rnn_td/model_c2\\0.871\\assets\n"
     ]
    },
    {
     "name": "stderr",
     "output_type": "stream",
     "text": [
      "INFO:tensorflow:Assets written to: h_models_rnn_td/model_c2\\0.871\\assets\n"
     ]
    }
   ],
   "source": [
    "# epochs = 30\n",
    "# batch_size = 128\n",
    "\n",
    "# history2 = model_c2.fit(train_X_c2, train_Y_c2,\n",
    "#                     validation_data=(test_X_c2, test_Y_c2),\n",
    "#                     epochs = epochs, batch_size = batch_size,\n",
    "#                     shuffle = True,\n",
    "#                     callbacks = [ModelCheckpoint('h_models_rnn/model_c2/{val_accuracy:.3f}', save_weights_only=False)])"
   ]
  },
  {
   "cell_type": "markdown",
   "metadata": {
    "id": "tSuM1abqLcOP"
   },
   "source": [
    "# Creating RNN Architecture and Train Model - Category3"
   ]
  },
  {
   "cell_type": "code",
   "execution_count": 40,
   "metadata": {
    "colab": {
     "base_uri": "https://localhost:8080/"
    },
    "executionInfo": {
     "elapsed": 325,
     "status": "ok",
     "timestamp": 1622695974999,
     "user": {
      "displayName": "k180179 Uzair Ahmed Mughal",
      "photoUrl": "https://lh3.googleusercontent.com/a-/AOh14Ggi_ZIAuLgChzAna20D2R6uP4K3a8Mkko2akp-5=s64",
      "userId": "17106050686746443054"
     },
     "user_tz": -300
    },
    "id": "rBbd-NN-mTpl",
    "outputId": "5ade7d39-4aa6-4ad1-d275-6a0e4b53db81"
   },
   "outputs": [
    {
     "name": "stdout",
     "output_type": "stream",
     "text": [
      "Model: \"sequential_14\"\n",
      "_________________________________________________________________\n",
      "Layer (type)                 Output Shape              Param #   \n",
      "=================================================================\n",
      "embedding_14 (Embedding)     (None, 856, 100)          5740800   \n",
      "_________________________________________________________________\n",
      "lstm_7 (LSTM)                (None, 512)               1255424   \n",
      "_________________________________________________________________\n",
      "dropout_7 (Dropout)          (None, 512)               0         \n",
      "_________________________________________________________________\n",
      "dense_14 (Dense)             (None, 256)               131328    \n",
      "_________________________________________________________________\n",
      "dense_15 (Dense)             (None, 185)               47545     \n",
      "=================================================================\n",
      "Total params: 7,175,097\n",
      "Trainable params: 7,175,097\n",
      "Non-trainable params: 0\n",
      "_________________________________________________________________\n"
     ]
    }
   ],
   "source": [
    "# c3_count=train_df['c3'].nunique()\n",
    "# embeddingDimensions = 100\n",
    "\n",
    "# model_c3 = Sequential()\n",
    "# model_c3.add(Embedding(VocabSize, embeddingDimensions, input_length = MaxWordLength))\n",
    "# model_c3.add(LSTM(512, activation=\"tanh\", recurrent_activation=\"sigmoid\", use_bias=True, unroll=False))\n",
    "# model_c3.add(Dropout(0.4))\n",
    "# model_c3.add(Dense(256, activation='relu'))\n",
    "# model_c3.add(Dense(c3_count, activation = 'softmax'))\n",
    "# model_c3.compile(loss = 'categorical_crossentropy', optimizer = 'adam', metrics = ['accuracy'])\n",
    "\n",
    "# model_c3.summary()"
   ]
  },
  {
   "cell_type": "code",
   "execution_count": null,
   "metadata": {
    "colab": {
     "base_uri": "https://localhost:8080/"
    },
    "executionInfo": {
     "elapsed": 1679799,
     "status": "ok",
     "timestamp": 1622697654782,
     "user": {
      "displayName": "k180179 Uzair Ahmed Mughal",
      "photoUrl": "https://lh3.googleusercontent.com/a-/AOh14Ggi_ZIAuLgChzAna20D2R6uP4K3a8Mkko2akp-5=s64",
      "userId": "17106050686746443054"
     },
     "user_tz": -300
    },
    "id": "XF78qTS-Le7p",
    "outputId": "f2ff5b45-6ae7-47b6-fc9f-87fdc92e1083"
   },
   "outputs": [
    {
     "name": "stdout",
     "output_type": "stream",
     "text": [
      "Epoch 1/30\n",
      "284/284 [==============================] - 79s 267ms/step - loss: 3.5131 - accuracy: 0.2630 - val_loss: 1.1731 - val_accuracy: 0.5834\n"
     ]
    },
    {
     "name": "stderr",
     "output_type": "stream",
     "text": [
      "WARNING:absl:Found untraced functions such as lstm_cell_7_layer_call_and_return_conditional_losses, lstm_cell_7_layer_call_fn, lstm_cell_7_layer_call_fn, lstm_cell_7_layer_call_and_return_conditional_losses, lstm_cell_7_layer_call_and_return_conditional_losses while saving (showing 5 of 5). These functions will not be directly callable after loading.\n"
     ]
    },
    {
     "name": "stdout",
     "output_type": "stream",
     "text": [
      "INFO:tensorflow:Assets written to: h_models_rnn_td/model_c3\\0.583\\assets\n"
     ]
    },
    {
     "name": "stderr",
     "output_type": "stream",
     "text": [
      "INFO:tensorflow:Assets written to: h_models_rnn_td/model_c3\\0.583\\assets\n"
     ]
    },
    {
     "name": "stdout",
     "output_type": "stream",
     "text": [
      "Epoch 2/30\n",
      "284/284 [==============================] - 75s 265ms/step - loss: 1.0470 - accuracy: 0.6147 - val_loss: 0.8845 - val_accuracy: 0.6617\n"
     ]
    },
    {
     "name": "stderr",
     "output_type": "stream",
     "text": [
      "WARNING:absl:Found untraced functions such as lstm_cell_7_layer_call_and_return_conditional_losses, lstm_cell_7_layer_call_fn, lstm_cell_7_layer_call_fn, lstm_cell_7_layer_call_and_return_conditional_losses, lstm_cell_7_layer_call_and_return_conditional_losses while saving (showing 5 of 5). These functions will not be directly callable after loading.\n"
     ]
    },
    {
     "name": "stdout",
     "output_type": "stream",
     "text": [
      "INFO:tensorflow:Assets written to: h_models_rnn_td/model_c3\\0.662\\assets\n"
     ]
    },
    {
     "name": "stderr",
     "output_type": "stream",
     "text": [
      "INFO:tensorflow:Assets written to: h_models_rnn_td/model_c3\\0.662\\assets\n"
     ]
    },
    {
     "name": "stdout",
     "output_type": "stream",
     "text": [
      "Epoch 3/30\n",
      "284/284 [==============================] - 76s 268ms/step - loss: 0.7342 - accuracy: 0.7278 - val_loss: 0.7040 - val_accuracy: 0.7448\n"
     ]
    },
    {
     "name": "stderr",
     "output_type": "stream",
     "text": [
      "WARNING:absl:Found untraced functions such as lstm_cell_7_layer_call_and_return_conditional_losses, lstm_cell_7_layer_call_fn, lstm_cell_7_layer_call_fn, lstm_cell_7_layer_call_and_return_conditional_losses, lstm_cell_7_layer_call_and_return_conditional_losses while saving (showing 5 of 5). These functions will not be directly callable after loading.\n"
     ]
    },
    {
     "name": "stdout",
     "output_type": "stream",
     "text": [
      "INFO:tensorflow:Assets written to: h_models_rnn_td/model_c3\\0.745\\assets\n"
     ]
    },
    {
     "name": "stderr",
     "output_type": "stream",
     "text": [
      "INFO:tensorflow:Assets written to: h_models_rnn_td/model_c3\\0.745\\assets\n"
     ]
    },
    {
     "name": "stdout",
     "output_type": "stream",
     "text": [
      "Epoch 4/30\n",
      "284/284 [==============================] - 74s 262ms/step - loss: 0.5540 - accuracy: 0.7989 - val_loss: 0.6483 - val_accuracy: 0.7670\n"
     ]
    },
    {
     "name": "stderr",
     "output_type": "stream",
     "text": [
      "WARNING:absl:Found untraced functions such as lstm_cell_7_layer_call_and_return_conditional_losses, lstm_cell_7_layer_call_fn, lstm_cell_7_layer_call_fn, lstm_cell_7_layer_call_and_return_conditional_losses, lstm_cell_7_layer_call_and_return_conditional_losses while saving (showing 5 of 5). These functions will not be directly callable after loading.\n"
     ]
    },
    {
     "name": "stdout",
     "output_type": "stream",
     "text": [
      "INFO:tensorflow:Assets written to: h_models_rnn_td/model_c3\\0.767\\assets\n"
     ]
    },
    {
     "name": "stderr",
     "output_type": "stream",
     "text": [
      "INFO:tensorflow:Assets written to: h_models_rnn_td/model_c3\\0.767\\assets\n"
     ]
    },
    {
     "name": "stdout",
     "output_type": "stream",
     "text": [
      "Epoch 5/30\n",
      "284/284 [==============================] - 75s 264ms/step - loss: 0.4194 - accuracy: 0.8531 - val_loss: 0.6426 - val_accuracy: 0.7786\n"
     ]
    },
    {
     "name": "stderr",
     "output_type": "stream",
     "text": [
      "WARNING:absl:Found untraced functions such as lstm_cell_7_layer_call_and_return_conditional_losses, lstm_cell_7_layer_call_fn, lstm_cell_7_layer_call_fn, lstm_cell_7_layer_call_and_return_conditional_losses, lstm_cell_7_layer_call_and_return_conditional_losses while saving (showing 5 of 5). These functions will not be directly callable after loading.\n"
     ]
    },
    {
     "name": "stdout",
     "output_type": "stream",
     "text": [
      "INFO:tensorflow:Assets written to: h_models_rnn_td/model_c3\\0.779\\assets\n"
     ]
    },
    {
     "name": "stderr",
     "output_type": "stream",
     "text": [
      "INFO:tensorflow:Assets written to: h_models_rnn_td/model_c3\\0.779\\assets\n"
     ]
    },
    {
     "name": "stdout",
     "output_type": "stream",
     "text": [
      "Epoch 6/30\n",
      "284/284 [==============================] - 76s 268ms/step - loss: 0.3386 - accuracy: 0.8829 - val_loss: 0.6782 - val_accuracy: 0.7878\n"
     ]
    },
    {
     "name": "stderr",
     "output_type": "stream",
     "text": [
      "WARNING:absl:Found untraced functions such as lstm_cell_7_layer_call_and_return_conditional_losses, lstm_cell_7_layer_call_fn, lstm_cell_7_layer_call_fn, lstm_cell_7_layer_call_and_return_conditional_losses, lstm_cell_7_layer_call_and_return_conditional_losses while saving (showing 5 of 5). These functions will not be directly callable after loading.\n"
     ]
    },
    {
     "name": "stdout",
     "output_type": "stream",
     "text": [
      "INFO:tensorflow:Assets written to: h_models_rnn_td/model_c3\\0.788\\assets\n"
     ]
    },
    {
     "name": "stderr",
     "output_type": "stream",
     "text": [
      "INFO:tensorflow:Assets written to: h_models_rnn_td/model_c3\\0.788\\assets\n"
     ]
    },
    {
     "name": "stdout",
     "output_type": "stream",
     "text": [
      "Epoch 7/30\n",
      "284/284 [==============================] - 76s 268ms/step - loss: 0.2654 - accuracy: 0.9114 - val_loss: 0.6854 - val_accuracy: 0.7975\n"
     ]
    },
    {
     "name": "stderr",
     "output_type": "stream",
     "text": [
      "WARNING:absl:Found untraced functions such as lstm_cell_7_layer_call_and_return_conditional_losses, lstm_cell_7_layer_call_fn, lstm_cell_7_layer_call_fn, lstm_cell_7_layer_call_and_return_conditional_losses, lstm_cell_7_layer_call_and_return_conditional_losses while saving (showing 5 of 5). These functions will not be directly callable after loading.\n"
     ]
    },
    {
     "name": "stdout",
     "output_type": "stream",
     "text": [
      "INFO:tensorflow:Assets written to: h_models_rnn_td/model_c3\\0.798\\assets\n"
     ]
    },
    {
     "name": "stderr",
     "output_type": "stream",
     "text": [
      "INFO:tensorflow:Assets written to: h_models_rnn_td/model_c3\\0.798\\assets\n"
     ]
    },
    {
     "name": "stdout",
     "output_type": "stream",
     "text": [
      "Epoch 8/30\n",
      "284/284 [==============================] - 77s 270ms/step - loss: 0.2191 - accuracy: 0.9285 - val_loss: 0.7112 - val_accuracy: 0.7985\n"
     ]
    },
    {
     "name": "stderr",
     "output_type": "stream",
     "text": [
      "WARNING:absl:Found untraced functions such as lstm_cell_7_layer_call_and_return_conditional_losses, lstm_cell_7_layer_call_fn, lstm_cell_7_layer_call_fn, lstm_cell_7_layer_call_and_return_conditional_losses, lstm_cell_7_layer_call_and_return_conditional_losses while saving (showing 5 of 5). These functions will not be directly callable after loading.\n"
     ]
    },
    {
     "name": "stdout",
     "output_type": "stream",
     "text": [
      "INFO:tensorflow:Assets written to: h_models_rnn_td/model_c3\\0.799\\assets\n"
     ]
    },
    {
     "name": "stderr",
     "output_type": "stream",
     "text": [
      "INFO:tensorflow:Assets written to: h_models_rnn_td/model_c3\\0.799\\assets\n"
     ]
    },
    {
     "name": "stdout",
     "output_type": "stream",
     "text": [
      "Epoch 9/30\n",
      "284/284 [==============================] - 77s 269ms/step - loss: 0.1829 - accuracy: 0.9376 - val_loss: 0.8185 - val_accuracy: 0.7903\n"
     ]
    },
    {
     "name": "stderr",
     "output_type": "stream",
     "text": [
      "WARNING:absl:Found untraced functions such as lstm_cell_7_layer_call_and_return_conditional_losses, lstm_cell_7_layer_call_fn, lstm_cell_7_layer_call_fn, lstm_cell_7_layer_call_and_return_conditional_losses, lstm_cell_7_layer_call_and_return_conditional_losses while saving (showing 5 of 5). These functions will not be directly callable after loading.\n"
     ]
    },
    {
     "name": "stdout",
     "output_type": "stream",
     "text": [
      "INFO:tensorflow:Assets written to: h_models_rnn_td/model_c3\\0.790\\assets\n"
     ]
    },
    {
     "name": "stderr",
     "output_type": "stream",
     "text": [
      "INFO:tensorflow:Assets written to: h_models_rnn_td/model_c3\\0.790\\assets\n"
     ]
    },
    {
     "name": "stdout",
     "output_type": "stream",
     "text": [
      "Epoch 10/30\n",
      "284/284 [==============================] - 77s 270ms/step - loss: 0.1520 - accuracy: 0.9482 - val_loss: 0.8037 - val_accuracy: 0.7897\n"
     ]
    },
    {
     "name": "stderr",
     "output_type": "stream",
     "text": [
      "WARNING:absl:Found untraced functions such as lstm_cell_7_layer_call_and_return_conditional_losses, lstm_cell_7_layer_call_fn, lstm_cell_7_layer_call_fn, lstm_cell_7_layer_call_and_return_conditional_losses, lstm_cell_7_layer_call_and_return_conditional_losses while saving (showing 5 of 5). These functions will not be directly callable after loading.\n"
     ]
    },
    {
     "name": "stdout",
     "output_type": "stream",
     "text": [
      "INFO:tensorflow:Assets written to: h_models_rnn_td/model_c3\\0.790\\assets\n"
     ]
    },
    {
     "name": "stderr",
     "output_type": "stream",
     "text": [
      "INFO:tensorflow:Assets written to: h_models_rnn_td/model_c3\\0.790\\assets\n"
     ]
    },
    {
     "name": "stdout",
     "output_type": "stream",
     "text": [
      "Epoch 11/30\n",
      "284/284 [==============================] - 77s 271ms/step - loss: 0.1387 - accuracy: 0.9516 - val_loss: 0.8648 - val_accuracy: 0.7995\n"
     ]
    },
    {
     "name": "stderr",
     "output_type": "stream",
     "text": [
      "WARNING:absl:Found untraced functions such as lstm_cell_7_layer_call_and_return_conditional_losses, lstm_cell_7_layer_call_fn, lstm_cell_7_layer_call_fn, lstm_cell_7_layer_call_and_return_conditional_losses, lstm_cell_7_layer_call_and_return_conditional_losses while saving (showing 5 of 5). These functions will not be directly callable after loading.\n"
     ]
    },
    {
     "name": "stdout",
     "output_type": "stream",
     "text": [
      "INFO:tensorflow:Assets written to: h_models_rnn_td/model_c3\\0.800\\assets\n"
     ]
    },
    {
     "name": "stderr",
     "output_type": "stream",
     "text": [
      "INFO:tensorflow:Assets written to: h_models_rnn_td/model_c3\\0.800\\assets\n"
     ]
    },
    {
     "name": "stdout",
     "output_type": "stream",
     "text": [
      "Epoch 12/30\n",
      "284/284 [==============================] - 78s 273ms/step - loss: 0.1162 - accuracy: 0.9624 - val_loss: 0.9735 - val_accuracy: 0.7950\n"
     ]
    },
    {
     "name": "stderr",
     "output_type": "stream",
     "text": [
      "WARNING:absl:Found untraced functions such as lstm_cell_7_layer_call_and_return_conditional_losses, lstm_cell_7_layer_call_fn, lstm_cell_7_layer_call_fn, lstm_cell_7_layer_call_and_return_conditional_losses, lstm_cell_7_layer_call_and_return_conditional_losses while saving (showing 5 of 5). These functions will not be directly callable after loading.\n"
     ]
    },
    {
     "name": "stdout",
     "output_type": "stream",
     "text": [
      "INFO:tensorflow:Assets written to: h_models_rnn_td/model_c3\\0.795\\assets\n"
     ]
    },
    {
     "name": "stderr",
     "output_type": "stream",
     "text": [
      "INFO:tensorflow:Assets written to: h_models_rnn_td/model_c3\\0.795\\assets\n"
     ]
    },
    {
     "name": "stdout",
     "output_type": "stream",
     "text": [
      "Epoch 13/30\n",
      "284/284 [==============================] - 77s 270ms/step - loss: 0.1091 - accuracy: 0.9636 - val_loss: 1.0182 - val_accuracy: 0.7928\n"
     ]
    },
    {
     "name": "stderr",
     "output_type": "stream",
     "text": [
      "WARNING:absl:Found untraced functions such as lstm_cell_7_layer_call_and_return_conditional_losses, lstm_cell_7_layer_call_fn, lstm_cell_7_layer_call_fn, lstm_cell_7_layer_call_and_return_conditional_losses, lstm_cell_7_layer_call_and_return_conditional_losses while saving (showing 5 of 5). These functions will not be directly callable after loading.\n"
     ]
    },
    {
     "name": "stdout",
     "output_type": "stream",
     "text": [
      "INFO:tensorflow:Assets written to: h_models_rnn_td/model_c3\\0.793\\assets\n"
     ]
    },
    {
     "name": "stderr",
     "output_type": "stream",
     "text": [
      "INFO:tensorflow:Assets written to: h_models_rnn_td/model_c3\\0.793\\assets\n"
     ]
    },
    {
     "name": "stdout",
     "output_type": "stream",
     "text": [
      "Epoch 14/30\n",
      "284/284 [==============================] - 77s 270ms/step - loss: 0.0927 - accuracy: 0.9688 - val_loss: 1.0636 - val_accuracy: 0.7928\n"
     ]
    },
    {
     "name": "stderr",
     "output_type": "stream",
     "text": [
      "WARNING:absl:Found untraced functions such as lstm_cell_7_layer_call_and_return_conditional_losses, lstm_cell_7_layer_call_fn, lstm_cell_7_layer_call_fn, lstm_cell_7_layer_call_and_return_conditional_losses, lstm_cell_7_layer_call_and_return_conditional_losses while saving (showing 5 of 5). These functions will not be directly callable after loading.\n"
     ]
    },
    {
     "name": "stdout",
     "output_type": "stream",
     "text": [
      "INFO:tensorflow:Assets written to: h_models_rnn_td/model_c3\\0.793\\assets\n"
     ]
    },
    {
     "name": "stderr",
     "output_type": "stream",
     "text": [
      "INFO:tensorflow:Assets written to: h_models_rnn_td/model_c3\\0.793\\assets\n"
     ]
    },
    {
     "name": "stdout",
     "output_type": "stream",
     "text": [
      "Epoch 15/30\n",
      "284/284 [==============================] - 77s 271ms/step - loss: 0.0845 - accuracy: 0.9722 - val_loss: 1.0887 - val_accuracy: 0.7888\n"
     ]
    },
    {
     "name": "stderr",
     "output_type": "stream",
     "text": [
      "WARNING:absl:Found untraced functions such as lstm_cell_7_layer_call_and_return_conditional_losses, lstm_cell_7_layer_call_fn, lstm_cell_7_layer_call_fn, lstm_cell_7_layer_call_and_return_conditional_losses, lstm_cell_7_layer_call_and_return_conditional_losses while saving (showing 5 of 5). These functions will not be directly callable after loading.\n"
     ]
    },
    {
     "name": "stdout",
     "output_type": "stream",
     "text": [
      "INFO:tensorflow:Assets written to: h_models_rnn_td/model_c3\\0.789\\assets\n"
     ]
    },
    {
     "name": "stderr",
     "output_type": "stream",
     "text": [
      "INFO:tensorflow:Assets written to: h_models_rnn_td/model_c3\\0.789\\assets\n"
     ]
    },
    {
     "name": "stdout",
     "output_type": "stream",
     "text": [
      "Epoch 16/30\n",
      "284/284 [==============================] - 77s 271ms/step - loss: 0.0798 - accuracy: 0.9746 - val_loss: 1.0985 - val_accuracy: 0.7920\n"
     ]
    },
    {
     "name": "stderr",
     "output_type": "stream",
     "text": [
      "WARNING:absl:Found untraced functions such as lstm_cell_7_layer_call_and_return_conditional_losses, lstm_cell_7_layer_call_fn, lstm_cell_7_layer_call_fn, lstm_cell_7_layer_call_and_return_conditional_losses, lstm_cell_7_layer_call_and_return_conditional_losses while saving (showing 5 of 5). These functions will not be directly callable after loading.\n"
     ]
    },
    {
     "name": "stdout",
     "output_type": "stream",
     "text": [
      "INFO:tensorflow:Assets written to: h_models_rnn_td/model_c3\\0.792\\assets\n"
     ]
    },
    {
     "name": "stderr",
     "output_type": "stream",
     "text": [
      "INFO:tensorflow:Assets written to: h_models_rnn_td/model_c3\\0.792\\assets\n"
     ]
    },
    {
     "name": "stdout",
     "output_type": "stream",
     "text": [
      "Epoch 17/30\n",
      "284/284 [==============================] - 77s 271ms/step - loss: 0.0670 - accuracy: 0.9784 - val_loss: 1.2667 - val_accuracy: 0.7870\n"
     ]
    },
    {
     "name": "stderr",
     "output_type": "stream",
     "text": [
      "WARNING:absl:Found untraced functions such as lstm_cell_7_layer_call_and_return_conditional_losses, lstm_cell_7_layer_call_fn, lstm_cell_7_layer_call_fn, lstm_cell_7_layer_call_and_return_conditional_losses, lstm_cell_7_layer_call_and_return_conditional_losses while saving (showing 5 of 5). These functions will not be directly callable after loading.\n"
     ]
    },
    {
     "name": "stdout",
     "output_type": "stream",
     "text": [
      "INFO:tensorflow:Assets written to: h_models_rnn_td/model_c3\\0.787\\assets\n"
     ]
    },
    {
     "name": "stderr",
     "output_type": "stream",
     "text": [
      "INFO:tensorflow:Assets written to: h_models_rnn_td/model_c3\\0.787\\assets\n"
     ]
    },
    {
     "name": "stdout",
     "output_type": "stream",
     "text": [
      "Epoch 18/30\n",
      "284/284 [==============================] - 77s 272ms/step - loss: 0.0699 - accuracy: 0.9786 - val_loss: 1.2626 - val_accuracy: 0.7914\n"
     ]
    },
    {
     "name": "stderr",
     "output_type": "stream",
     "text": [
      "WARNING:absl:Found untraced functions such as lstm_cell_7_layer_call_and_return_conditional_losses, lstm_cell_7_layer_call_fn, lstm_cell_7_layer_call_fn, lstm_cell_7_layer_call_and_return_conditional_losses, lstm_cell_7_layer_call_and_return_conditional_losses while saving (showing 5 of 5). These functions will not be directly callable after loading.\n"
     ]
    },
    {
     "name": "stdout",
     "output_type": "stream",
     "text": [
      "INFO:tensorflow:Assets written to: h_models_rnn_td/model_c3\\0.791\\assets\n"
     ]
    },
    {
     "name": "stderr",
     "output_type": "stream",
     "text": [
      "INFO:tensorflow:Assets written to: h_models_rnn_td/model_c3\\0.791\\assets\n"
     ]
    },
    {
     "name": "stdout",
     "output_type": "stream",
     "text": [
      "Epoch 19/30\n",
      "284/284 [==============================] - 77s 272ms/step - loss: 0.0632 - accuracy: 0.9812 - val_loss: 1.2924 - val_accuracy: 0.7859\n"
     ]
    },
    {
     "name": "stderr",
     "output_type": "stream",
     "text": [
      "WARNING:absl:Found untraced functions such as lstm_cell_7_layer_call_and_return_conditional_losses, lstm_cell_7_layer_call_fn, lstm_cell_7_layer_call_fn, lstm_cell_7_layer_call_and_return_conditional_losses, lstm_cell_7_layer_call_and_return_conditional_losses while saving (showing 5 of 5). These functions will not be directly callable after loading.\n"
     ]
    },
    {
     "name": "stdout",
     "output_type": "stream",
     "text": [
      "INFO:tensorflow:Assets written to: h_models_rnn_td/model_c3\\0.786\\assets\n"
     ]
    },
    {
     "name": "stderr",
     "output_type": "stream",
     "text": [
      "INFO:tensorflow:Assets written to: h_models_rnn_td/model_c3\\0.786\\assets\n"
     ]
    },
    {
     "name": "stdout",
     "output_type": "stream",
     "text": [
      "Epoch 20/30\n",
      "284/284 [==============================] - 77s 271ms/step - loss: 0.0548 - accuracy: 0.9818 - val_loss: 1.3246 - val_accuracy: 0.7936\n"
     ]
    },
    {
     "name": "stderr",
     "output_type": "stream",
     "text": [
      "WARNING:absl:Found untraced functions such as lstm_cell_7_layer_call_and_return_conditional_losses, lstm_cell_7_layer_call_fn, lstm_cell_7_layer_call_fn, lstm_cell_7_layer_call_and_return_conditional_losses, lstm_cell_7_layer_call_and_return_conditional_losses while saving (showing 5 of 5). These functions will not be directly callable after loading.\n"
     ]
    },
    {
     "name": "stdout",
     "output_type": "stream",
     "text": [
      "INFO:tensorflow:Assets written to: h_models_rnn_td/model_c3\\0.794\\assets\n"
     ]
    },
    {
     "name": "stderr",
     "output_type": "stream",
     "text": [
      "INFO:tensorflow:Assets written to: h_models_rnn_td/model_c3\\0.794\\assets\n"
     ]
    },
    {
     "name": "stdout",
     "output_type": "stream",
     "text": [
      "Epoch 21/30\n",
      "284/284 [==============================] - 77s 270ms/step - loss: 0.0504 - accuracy: 0.9837 - val_loss: 1.3329 - val_accuracy: 0.7937\n"
     ]
    },
    {
     "name": "stderr",
     "output_type": "stream",
     "text": [
      "WARNING:absl:Found untraced functions such as lstm_cell_7_layer_call_and_return_conditional_losses, lstm_cell_7_layer_call_fn, lstm_cell_7_layer_call_fn, lstm_cell_7_layer_call_and_return_conditional_losses, lstm_cell_7_layer_call_and_return_conditional_losses while saving (showing 5 of 5). These functions will not be directly callable after loading.\n"
     ]
    },
    {
     "name": "stdout",
     "output_type": "stream",
     "text": [
      "INFO:tensorflow:Assets written to: h_models_rnn_td/model_c3\\0.794\\assets\n"
     ]
    },
    {
     "name": "stderr",
     "output_type": "stream",
     "text": [
      "INFO:tensorflow:Assets written to: h_models_rnn_td/model_c3\\0.794\\assets\n"
     ]
    },
    {
     "name": "stdout",
     "output_type": "stream",
     "text": [
      "Epoch 22/30\n",
      "284/284 [==============================] - 77s 270ms/step - loss: 0.0407 - accuracy: 0.9869 - val_loss: 1.3920 - val_accuracy: 0.7855\n"
     ]
    },
    {
     "name": "stderr",
     "output_type": "stream",
     "text": [
      "WARNING:absl:Found untraced functions such as lstm_cell_7_layer_call_and_return_conditional_losses, lstm_cell_7_layer_call_fn, lstm_cell_7_layer_call_fn, lstm_cell_7_layer_call_and_return_conditional_losses, lstm_cell_7_layer_call_and_return_conditional_losses while saving (showing 5 of 5). These functions will not be directly callable after loading.\n"
     ]
    },
    {
     "name": "stdout",
     "output_type": "stream",
     "text": [
      "INFO:tensorflow:Assets written to: h_models_rnn_td/model_c3\\0.786\\assets\n"
     ]
    },
    {
     "name": "stderr",
     "output_type": "stream",
     "text": [
      "INFO:tensorflow:Assets written to: h_models_rnn_td/model_c3\\0.786\\assets\n"
     ]
    },
    {
     "name": "stdout",
     "output_type": "stream",
     "text": [
      "Epoch 23/30\n",
      "284/284 [==============================] - 77s 270ms/step - loss: 0.0424 - accuracy: 0.9861 - val_loss: 1.4363 - val_accuracy: 0.7908\n"
     ]
    },
    {
     "name": "stderr",
     "output_type": "stream",
     "text": [
      "WARNING:absl:Found untraced functions such as lstm_cell_7_layer_call_and_return_conditional_losses, lstm_cell_7_layer_call_fn, lstm_cell_7_layer_call_fn, lstm_cell_7_layer_call_and_return_conditional_losses, lstm_cell_7_layer_call_and_return_conditional_losses while saving (showing 5 of 5). These functions will not be directly callable after loading.\n"
     ]
    },
    {
     "name": "stdout",
     "output_type": "stream",
     "text": [
      "INFO:tensorflow:Assets written to: h_models_rnn_td/model_c3\\0.791\\assets\n"
     ]
    },
    {
     "name": "stderr",
     "output_type": "stream",
     "text": [
      "INFO:tensorflow:Assets written to: h_models_rnn_td/model_c3\\0.791\\assets\n"
     ]
    },
    {
     "name": "stdout",
     "output_type": "stream",
     "text": [
      "Epoch 24/30\n",
      "284/284 [==============================] - 77s 270ms/step - loss: 0.0394 - accuracy: 0.9868 - val_loss: 1.4894 - val_accuracy: 0.7859\n"
     ]
    },
    {
     "name": "stderr",
     "output_type": "stream",
     "text": [
      "WARNING:absl:Found untraced functions such as lstm_cell_7_layer_call_and_return_conditional_losses, lstm_cell_7_layer_call_fn, lstm_cell_7_layer_call_fn, lstm_cell_7_layer_call_and_return_conditional_losses, lstm_cell_7_layer_call_and_return_conditional_losses while saving (showing 5 of 5). These functions will not be directly callable after loading.\n"
     ]
    },
    {
     "name": "stdout",
     "output_type": "stream",
     "text": [
      "INFO:tensorflow:Assets written to: h_models_rnn_td/model_c3\\0.786\\assets\n"
     ]
    },
    {
     "name": "stderr",
     "output_type": "stream",
     "text": [
      "INFO:tensorflow:Assets written to: h_models_rnn_td/model_c3\\0.786\\assets\n"
     ]
    },
    {
     "name": "stdout",
     "output_type": "stream",
     "text": [
      "Epoch 25/30\n",
      "284/284 [==============================] - 77s 270ms/step - loss: 0.0419 - accuracy: 0.9864 - val_loss: 1.5725 - val_accuracy: 0.7875\n"
     ]
    },
    {
     "name": "stderr",
     "output_type": "stream",
     "text": [
      "WARNING:absl:Found untraced functions such as lstm_cell_7_layer_call_and_return_conditional_losses, lstm_cell_7_layer_call_fn, lstm_cell_7_layer_call_fn, lstm_cell_7_layer_call_and_return_conditional_losses, lstm_cell_7_layer_call_and_return_conditional_losses while saving (showing 5 of 5). These functions will not be directly callable after loading.\n"
     ]
    },
    {
     "name": "stdout",
     "output_type": "stream",
     "text": [
      "INFO:tensorflow:Assets written to: h_models_rnn_td/model_c3\\0.787\\assets\n"
     ]
    },
    {
     "name": "stderr",
     "output_type": "stream",
     "text": [
      "INFO:tensorflow:Assets written to: h_models_rnn_td/model_c3\\0.787\\assets\n"
     ]
    },
    {
     "name": "stdout",
     "output_type": "stream",
     "text": [
      "Epoch 26/30\n",
      "284/284 [==============================] - 77s 271ms/step - loss: 0.0392 - accuracy: 0.9872 - val_loss: 1.4079 - val_accuracy: 0.7866\n"
     ]
    },
    {
     "name": "stderr",
     "output_type": "stream",
     "text": [
      "WARNING:absl:Found untraced functions such as lstm_cell_7_layer_call_and_return_conditional_losses, lstm_cell_7_layer_call_fn, lstm_cell_7_layer_call_fn, lstm_cell_7_layer_call_and_return_conditional_losses, lstm_cell_7_layer_call_and_return_conditional_losses while saving (showing 5 of 5). These functions will not be directly callable after loading.\n"
     ]
    },
    {
     "name": "stdout",
     "output_type": "stream",
     "text": [
      "INFO:tensorflow:Assets written to: h_models_rnn_td/model_c3\\0.787\\assets\n"
     ]
    },
    {
     "name": "stderr",
     "output_type": "stream",
     "text": [
      "INFO:tensorflow:Assets written to: h_models_rnn_td/model_c3\\0.787\\assets\n"
     ]
    },
    {
     "name": "stdout",
     "output_type": "stream",
     "text": [
      "Epoch 27/30\n",
      "284/284 [==============================] - 77s 270ms/step - loss: 0.0296 - accuracy: 0.9903 - val_loss: 1.4899 - val_accuracy: 0.7915\n"
     ]
    },
    {
     "name": "stderr",
     "output_type": "stream",
     "text": [
      "WARNING:absl:Found untraced functions such as lstm_cell_7_layer_call_and_return_conditional_losses, lstm_cell_7_layer_call_fn, lstm_cell_7_layer_call_fn, lstm_cell_7_layer_call_and_return_conditional_losses, lstm_cell_7_layer_call_and_return_conditional_losses while saving (showing 5 of 5). These functions will not be directly callable after loading.\n"
     ]
    },
    {
     "name": "stdout",
     "output_type": "stream",
     "text": [
      "INFO:tensorflow:Assets written to: h_models_rnn_td/model_c3\\0.792\\assets\n"
     ]
    },
    {
     "name": "stderr",
     "output_type": "stream",
     "text": [
      "INFO:tensorflow:Assets written to: h_models_rnn_td/model_c3\\0.792\\assets\n"
     ]
    },
    {
     "name": "stdout",
     "output_type": "stream",
     "text": [
      "Epoch 28/30\n",
      "284/284 [==============================] - 77s 270ms/step - loss: 0.0340 - accuracy: 0.9887 - val_loss: 1.6300 - val_accuracy: 0.7870\n"
     ]
    },
    {
     "name": "stderr",
     "output_type": "stream",
     "text": [
      "WARNING:absl:Found untraced functions such as lstm_cell_7_layer_call_and_return_conditional_losses, lstm_cell_7_layer_call_fn, lstm_cell_7_layer_call_fn, lstm_cell_7_layer_call_and_return_conditional_losses, lstm_cell_7_layer_call_and_return_conditional_losses while saving (showing 5 of 5). These functions will not be directly callable after loading.\n"
     ]
    },
    {
     "name": "stdout",
     "output_type": "stream",
     "text": [
      "INFO:tensorflow:Assets written to: h_models_rnn_td/model_c3\\0.787\\assets\n"
     ]
    },
    {
     "name": "stderr",
     "output_type": "stream",
     "text": [
      "INFO:tensorflow:Assets written to: h_models_rnn_td/model_c3\\0.787\\assets\n"
     ]
    },
    {
     "name": "stdout",
     "output_type": "stream",
     "text": [
      "Epoch 29/30\n",
      "284/284 [==============================] - 78s 273ms/step - loss: 0.0267 - accuracy: 0.9908 - val_loss: 1.6467 - val_accuracy: 0.7907\n"
     ]
    },
    {
     "name": "stderr",
     "output_type": "stream",
     "text": [
      "WARNING:absl:Found untraced functions such as lstm_cell_7_layer_call_and_return_conditional_losses, lstm_cell_7_layer_call_fn, lstm_cell_7_layer_call_fn, lstm_cell_7_layer_call_and_return_conditional_losses, lstm_cell_7_layer_call_and_return_conditional_losses while saving (showing 5 of 5). These functions will not be directly callable after loading.\n"
     ]
    },
    {
     "name": "stdout",
     "output_type": "stream",
     "text": [
      "INFO:tensorflow:Assets written to: h_models_rnn_td/model_c3\\0.791\\assets\n"
     ]
    },
    {
     "name": "stderr",
     "output_type": "stream",
     "text": [
      "INFO:tensorflow:Assets written to: h_models_rnn_td/model_c3\\0.791\\assets\n"
     ]
    },
    {
     "name": "stdout",
     "output_type": "stream",
     "text": [
      "Epoch 30/30\n",
      "284/284 [==============================] - ETA: 0s - loss: 0.0275 - accuracy: 0.9913"
     ]
    }
   ],
   "source": [
    "# epochs = 30\n",
    "# batch_size = 128\n",
    "\n",
    "# history3 = model_c3.fit(train_X_c3, train_Y_c3,\n",
    "#                     validation_data=(test_X_c3, test_Y_c3),\n",
    "#                     epochs = epochs, batch_size = batch_size,\n",
    "#                     shuffle = True,\n",
    "#                     callbacks = [ModelCheckpoint('h_models_rnn/model_c3/{val_accuracy:.3f}', save_weights_only=False)])"
   ]
  },
  {
   "cell_type": "markdown",
   "metadata": {},
   "source": [
    "# Finding The Model With Best Validation Accuracy"
   ]
  },
  {
   "cell_type": "code",
   "execution_count": 2,
   "metadata": {
    "executionInfo": {
     "elapsed": 40,
     "status": "ok",
     "timestamp": 1622697654791,
     "user": {
      "displayName": "k180179 Uzair Ahmed Mughal",
      "photoUrl": "https://lh3.googleusercontent.com/a-/AOh14Ggi_ZIAuLgChzAna20D2R6uP4K3a8Mkko2akp-5=s64",
      "userId": "17106050686746443054"
     },
     "user_tz": -300
    },
    "id": "VYjFp7Rucgpn"
   },
   "outputs": [],
   "source": [
    "l = glob.glob('h_models_rnn/model_c1/*')\n",
    "l = [format(float(os.path.basename(x)), '.3f') for x in l]\n",
    "m1 = max(l)"
   ]
  },
  {
   "cell_type": "code",
   "execution_count": 3,
   "metadata": {
    "executionInfo": {
     "elapsed": 34,
     "status": "ok",
     "timestamp": 1622697654793,
     "user": {
      "displayName": "k180179 Uzair Ahmed Mughal",
      "photoUrl": "https://lh3.googleusercontent.com/a-/AOh14Ggi_ZIAuLgChzAna20D2R6uP4K3a8Mkko2akp-5=s64",
      "userId": "17106050686746443054"
     },
     "user_tz": -300
    },
    "id": "iuYGu6EZdilv"
   },
   "outputs": [],
   "source": [
    "l = glob.glob('h_models_rnn/model_c2/*')\n",
    "l = [format(float(os.path.basename(x)), '.3f') for x in l]\n",
    "m2 = max(l)"
   ]
  },
  {
   "cell_type": "code",
   "execution_count": 4,
   "metadata": {
    "executionInfo": {
     "elapsed": 33,
     "status": "ok",
     "timestamp": 1622697654794,
     "user": {
      "displayName": "k180179 Uzair Ahmed Mughal",
      "photoUrl": "https://lh3.googleusercontent.com/a-/AOh14Ggi_ZIAuLgChzAna20D2R6uP4K3a8Mkko2akp-5=s64",
      "userId": "17106050686746443054"
     },
     "user_tz": -300
    },
    "id": "i-tDwBORdmvD"
   },
   "outputs": [],
   "source": [
    "l = glob.glob('h_models_rnn/model_c3/*')\n",
    "l = [format(float(os.path.basename(x)), '.3f') for x in l]\n",
    "m3 = max(l)"
   ]
  },
  {
   "cell_type": "markdown",
   "metadata": {
    "id": "0qQUP3h4Mi3p"
   },
   "source": [
    "# Load Models"
   ]
  },
  {
   "cell_type": "code",
   "execution_count": 5,
   "metadata": {
    "colab": {
     "base_uri": "https://localhost:8080/"
    },
    "executionInfo": {
     "elapsed": 1807,
     "status": "ok",
     "timestamp": 1622697656569,
     "user": {
      "displayName": "k180179 Uzair Ahmed Mughal",
      "photoUrl": "https://lh3.googleusercontent.com/a-/AOh14Ggi_ZIAuLgChzAna20D2R6uP4K3a8Mkko2akp-5=s64",
      "userId": "17106050686746443054"
     },
     "user_tz": -300
    },
    "id": "pqWivCNeMjTA",
    "outputId": "79e94adb-f831-419e-c087-08a8001acd62"
   },
   "outputs": [],
   "source": [
    "model_c1=tf.keras.models.load_model('h_models_rnn/model_c1/{}'.format(m1))"
   ]
  },
  {
   "cell_type": "code",
   "execution_count": 6,
   "metadata": {
    "colab": {
     "base_uri": "https://localhost:8080/"
    },
    "executionInfo": {
     "elapsed": 1368,
     "status": "ok",
     "timestamp": 1622697657928,
     "user": {
      "displayName": "k180179 Uzair Ahmed Mughal",
      "photoUrl": "https://lh3.googleusercontent.com/a-/AOh14Ggi_ZIAuLgChzAna20D2R6uP4K3a8Mkko2akp-5=s64",
      "userId": "17106050686746443054"
     },
     "user_tz": -300
    },
    "id": "ejAutazWMmb3",
    "outputId": "44784fc5-ef31-4380-bc25-ace7e5dd4b80"
   },
   "outputs": [],
   "source": [
    "model_c2=tf.keras.models.load_model('h_models_rnn/model_c2/{}'.format(m2))"
   ]
  },
  {
   "cell_type": "code",
   "execution_count": 7,
   "metadata": {
    "colab": {
     "base_uri": "https://localhost:8080/"
    },
    "executionInfo": {
     "elapsed": 1302,
     "status": "ok",
     "timestamp": 1622697659221,
     "user": {
      "displayName": "k180179 Uzair Ahmed Mughal",
      "photoUrl": "https://lh3.googleusercontent.com/a-/AOh14Ggi_ZIAuLgChzAna20D2R6uP4K3a8Mkko2akp-5=s64",
      "userId": "17106050686746443054"
     },
     "user_tz": -300
    },
    "id": "KsWiOIBkMoO0",
    "outputId": "44c3e982-6152-453a-c6e9-7ac252a5827d"
   },
   "outputs": [],
   "source": [
    "model_c3=tf.keras.models.load_model('h_models_rnn/model_c3/{}'.format(m3))"
   ]
  },
  {
   "cell_type": "markdown",
   "metadata": {
    "id": "16Ch5dDaMrRW"
   },
   "source": [
    "# Model Evaluation"
   ]
  },
  {
   "cell_type": "code",
   "execution_count": 26,
   "metadata": {
    "colab": {
     "base_uri": "https://localhost:8080/"
    },
    "executionInfo": {
     "elapsed": 5271,
     "status": "ok",
     "timestamp": 1622697664485,
     "user": {
      "displayName": "k180179 Uzair Ahmed Mughal",
      "photoUrl": "https://lh3.googleusercontent.com/a-/AOh14Ggi_ZIAuLgChzAna20D2R6uP4K3a8Mkko2akp-5=s64",
      "userId": "17106050686746443054"
     },
     "user_tz": -300
    },
    "id": "8r6dtgASMsZq",
    "outputId": "d3726f6a-9e8a-4e56-d4f9-72bc0a29703f"
   },
   "outputs": [
    {
     "name": "stdout",
     "output_type": "stream",
     "text": [
      "370/370 [==============================] - 1362s 4s/step - loss: 0.3114 - accuracy: 0.9219\n",
      "ModelAccuracy for c1 = 92.18618273735046 %\n"
     ]
    }
   ],
   "source": [
    "acc = model_c1.evaluate(test_X_c1, test_Y_c1)\n",
    "ModelAccuracy1 = acc[1]\n",
    "print('ModelAccuracy for c1 =',acc[1]*100,'%')"
   ]
  },
  {
   "cell_type": "code",
   "execution_count": 27,
   "metadata": {
    "colab": {
     "base_uri": "https://localhost:8080/"
    },
    "executionInfo": {
     "elapsed": 5664,
     "status": "ok",
     "timestamp": 1622697670140,
     "user": {
      "displayName": "k180179 Uzair Ahmed Mughal",
      "photoUrl": "https://lh3.googleusercontent.com/a-/AOh14Ggi_ZIAuLgChzAna20D2R6uP4K3a8Mkko2akp-5=s64",
      "userId": "17106050686746443054"
     },
     "user_tz": -300
    },
    "id": "4EgHbp05MyCv",
    "outputId": "0fa9fcef-f50e-4cf7-f811-bc90b9ced084"
   },
   "outputs": [
    {
     "name": "stdout",
     "output_type": "stream",
     "text": [
      "370/370 [==============================] - 1132s 3s/step - loss: 0.4968 - accuracy: 0.8811\n",
      "ModelAccuracy for c2 = 88.10610175132751 %\n"
     ]
    }
   ],
   "source": [
    "acc = model_c2.evaluate(test_X_c2, test_Y_c2)\n",
    "ModelAccuracy2 = acc[1]\n",
    "print('ModelAccuracy for c2 =',acc[1]*100,'%')"
   ]
  },
  {
   "cell_type": "code",
   "execution_count": 28,
   "metadata": {
    "colab": {
     "base_uri": "https://localhost:8080/"
    },
    "executionInfo": {
     "elapsed": 5241,
     "status": "ok",
     "timestamp": 1622697675342,
     "user": {
      "displayName": "k180179 Uzair Ahmed Mughal",
      "photoUrl": "https://lh3.googleusercontent.com/a-/AOh14Ggi_ZIAuLgChzAna20D2R6uP4K3a8Mkko2akp-5=s64",
      "userId": "17106050686746443054"
     },
     "user_tz": -300
    },
    "id": "xt7mAaaLPKz5",
    "outputId": "19a00f92-c04a-4fe0-dca7-24ec978996fa"
   },
   "outputs": [
    {
     "name": "stdout",
     "output_type": "stream",
     "text": [
      "370/370 [==============================] - 1110s 3s/step - loss: 0.8648 - accuracy: 0.7995\n",
      "ModelAccuracy for c3 = 79.95438575744629 %\n"
     ]
    }
   ],
   "source": [
    "acc = model_c3.evaluate(test_X_c3, test_Y_c3)\n",
    "ModelAccuracy3 = acc[1]\n",
    "print('ModelAccuracy for c3 =',acc[1]*100,'%')"
   ]
  },
  {
   "cell_type": "markdown",
   "metadata": {
    "id": "2u6id2M6xRNg"
   },
   "source": [
    "# Testing Query"
   ]
  },
  {
   "cell_type": "code",
   "execution_count": 40,
   "metadata": {
    "colab": {
     "base_uri": "https://localhost:8080/"
    },
    "executionInfo": {
     "elapsed": 6011,
     "status": "ok",
     "timestamp": 1622699183759,
     "user": {
      "displayName": "k180179 Uzair Ahmed Mughal",
      "photoUrl": "https://lh3.googleusercontent.com/a-/AOh14Ggi_ZIAuLgChzAna20D2R6uP4K3a8Mkko2akp-5=s64",
      "userId": "17106050686746443054"
     },
     "user_tz": -300
    },
    "id": "P3cYrKB4xQLe",
    "outputId": "d1dc8a67-4e79-40ef-8bd2-264b2800b746"
   },
   "outputs": [
    {
     "name": "stdout",
     "output_type": "stream",
     "text": [
      "Enter the product title : sad\n",
      "Category 1:  Fashion\n",
      "Category 2:  Women\n",
      "Category 3:  Muslim Wear\n"
     ]
    }
   ],
   "source": [
    "data = {'title':[''],\n",
    "        'description':['']}\n",
    "\n",
    "query_df = pd.DataFrame(data)\n",
    "\n",
    "query_df['title'] = str(input(\"Enter the product title : \"))\n",
    "\n",
    "PreProcess(query_df)\n",
    "\n",
    "query_df['title'] = query_df['title'] + ' ' + query_df['description']\n",
    "\n",
    "query_df = query_df.drop(['description'], axis=1)\n",
    "\n",
    "seq = tokenizer.texts_to_sequences((query_df['title']).values)\n",
    "padded = tf.keras.preprocessing.sequence.pad_sequences(seq, maxlen=MaxWordLength)\n",
    "\n",
    "pred1 = model_c1.predict(padded)\n",
    "print('Category 1: ',labels_c1[np.argmax(pred1)])\n",
    "\n",
    "query_df['title'] = query_df['title'] + ' ' + labels_c1[np.argmax(pred1)]\n",
    "\n",
    "seq = tokenizer.texts_to_sequences((query_df['title']).values)\n",
    "padded = tf.keras.preprocessing.sequence.pad_sequences(seq, maxlen=MaxWordLength)\n",
    "\n",
    "pred2 = model_c2.predict(padded)\n",
    "print('Category 2: ',labels_c2[np.argmax(pred2)])\n",
    "\n",
    "query_df['title'] = query_df['title'] +' '+ labels_c2[np.argmax(pred2)]\n",
    "\n",
    "seq = tokenizer.texts_to_sequences((query_df['title']).values)\n",
    "padded = tf.keras.preprocessing.sequence.pad_sequences(seq, maxlen=MaxWordLength)\n",
    "\n",
    "pred3 = model_c3.predict(padded)\n",
    "print('Category 3: ',labels_c3[np.argmax(pred3)])"
   ]
  },
  {
   "cell_type": "markdown",
   "metadata": {},
   "source": []
  }
 ],
 "metadata": {
  "accelerator": "GPU",
  "colab": {
   "collapsed_sections": [],
   "name": "Product Title Classification with RNN.ipynb",
   "provenance": []
  },
  "kernelspec": {
   "display_name": "Python 3",
   "language": "python",
   "name": "python3"
  },
  "language_info": {
   "codemirror_mode": {
    "name": "ipython",
    "version": 3
   },
   "file_extension": ".py",
   "mimetype": "text/x-python",
   "name": "python",
   "nbconvert_exporter": "python",
   "pygments_lexer": "ipython3",
   "version": "3.8.5"
  },
  "metadata": {
   "interpreter": {
    "hash": "9c2ea39d87211ff79f08ab64f284993b7a24fba1ef3da099c2f29522755d2a69"
   }
  }
 },
 "nbformat": 4,
 "nbformat_minor": 1
}
